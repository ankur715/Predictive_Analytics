{
 "cells": [
  {
   "cell_type": "markdown",
   "metadata": {},
   "source": [
    "# Churn                                                                                                        \n",
    "### Exploratory Data Analysis in Python\n",
    "\n",
    "### _By: Ankur Patel_\n",
    "---\n"
   ]
  },
  {
   "cell_type": "markdown",
   "metadata": {},
   "source": [
    "### Introduction:\n",
    "\n",
    "The churn dataset was used to predict the churn rate of the customers. It's the percentage of subscribers to a service who discontinue their subscriptions to the service within a given time period. This report will include analysis of this dataset of 21 variables, including the missing values, outliers, distribution of variables, and graphs. The outputs will include comments or descriptions, and the conclusion will have the overall observation."
   ]
  },
  {
   "cell_type": "code",
   "execution_count": 1,
   "metadata": {},
   "outputs": [],
   "source": [
    "import pandas as pd\n",
    "import numpy as np\n",
    "import matplotlib.pyplot as plt\n",
    "from sklearn.preprocessing import LabelEncoder\n",
    "import seaborn as sns\n",
    "import xgboost as xgb\n",
    "\n",
    "import warnings\n",
    "warnings.filterwarnings(\"ignore\")  #exclude warning messages\n",
    "pd.set_option('display.max_columns', 100)  #show all columns"
   ]
  },
  {
   "cell_type": "code",
   "execution_count": 2,
   "metadata": {
    "scrolled": true
   },
   "outputs": [
    {
     "data": {
      "text/html": [
       "<div>\n",
       "<style scoped>\n",
       "    .dataframe tbody tr th:only-of-type {\n",
       "        vertical-align: middle;\n",
       "    }\n",
       "\n",
       "    .dataframe tbody tr th {\n",
       "        vertical-align: top;\n",
       "    }\n",
       "\n",
       "    .dataframe thead th {\n",
       "        text-align: right;\n",
       "    }\n",
       "</style>\n",
       "<table border=\"1\" class=\"dataframe\">\n",
       "  <thead>\n",
       "    <tr style=\"text-align: right;\">\n",
       "      <th></th>\n",
       "      <th>State</th>\n",
       "      <th>Account Length</th>\n",
       "      <th>Area Code</th>\n",
       "      <th>Phone</th>\n",
       "      <th>Int'l Plan</th>\n",
       "      <th>VMail Plan</th>\n",
       "      <th>VMail Message</th>\n",
       "      <th>Day Mins</th>\n",
       "      <th>Day Calls</th>\n",
       "      <th>Day Charge</th>\n",
       "      <th>Eve Mins</th>\n",
       "      <th>Eve Calls</th>\n",
       "      <th>Eve Charge</th>\n",
       "      <th>Night Mins</th>\n",
       "      <th>Night Calls</th>\n",
       "      <th>Night Charge</th>\n",
       "      <th>Intl Mins</th>\n",
       "      <th>Intl Calls</th>\n",
       "      <th>Intl Charge</th>\n",
       "      <th>CustServ Calls</th>\n",
       "      <th>Churn?</th>\n",
       "    </tr>\n",
       "  </thead>\n",
       "  <tbody>\n",
       "    <tr>\n",
       "      <th>0</th>\n",
       "      <td>KS</td>\n",
       "      <td>128</td>\n",
       "      <td>415</td>\n",
       "      <td>382-4657</td>\n",
       "      <td>no</td>\n",
       "      <td>yes</td>\n",
       "      <td>25</td>\n",
       "      <td>265.1</td>\n",
       "      <td>110</td>\n",
       "      <td>45.07</td>\n",
       "      <td>197.4</td>\n",
       "      <td>99</td>\n",
       "      <td>16.78</td>\n",
       "      <td>244.7</td>\n",
       "      <td>91</td>\n",
       "      <td>11.01</td>\n",
       "      <td>10.0</td>\n",
       "      <td>3</td>\n",
       "      <td>2.70</td>\n",
       "      <td>1</td>\n",
       "      <td>False.</td>\n",
       "    </tr>\n",
       "    <tr>\n",
       "      <th>1</th>\n",
       "      <td>OH</td>\n",
       "      <td>107</td>\n",
       "      <td>415</td>\n",
       "      <td>371-7191</td>\n",
       "      <td>no</td>\n",
       "      <td>yes</td>\n",
       "      <td>26</td>\n",
       "      <td>161.6</td>\n",
       "      <td>123</td>\n",
       "      <td>27.47</td>\n",
       "      <td>195.5</td>\n",
       "      <td>103</td>\n",
       "      <td>16.62</td>\n",
       "      <td>254.4</td>\n",
       "      <td>103</td>\n",
       "      <td>11.45</td>\n",
       "      <td>13.7</td>\n",
       "      <td>3</td>\n",
       "      <td>3.70</td>\n",
       "      <td>1</td>\n",
       "      <td>False.</td>\n",
       "    </tr>\n",
       "    <tr>\n",
       "      <th>2</th>\n",
       "      <td>NJ</td>\n",
       "      <td>137</td>\n",
       "      <td>415</td>\n",
       "      <td>358-1921</td>\n",
       "      <td>no</td>\n",
       "      <td>no</td>\n",
       "      <td>0</td>\n",
       "      <td>243.4</td>\n",
       "      <td>114</td>\n",
       "      <td>41.38</td>\n",
       "      <td>121.2</td>\n",
       "      <td>110</td>\n",
       "      <td>10.30</td>\n",
       "      <td>162.6</td>\n",
       "      <td>104</td>\n",
       "      <td>7.32</td>\n",
       "      <td>12.2</td>\n",
       "      <td>5</td>\n",
       "      <td>3.29</td>\n",
       "      <td>0</td>\n",
       "      <td>False.</td>\n",
       "    </tr>\n",
       "    <tr>\n",
       "      <th>3</th>\n",
       "      <td>OH</td>\n",
       "      <td>84</td>\n",
       "      <td>408</td>\n",
       "      <td>375-9999</td>\n",
       "      <td>yes</td>\n",
       "      <td>no</td>\n",
       "      <td>0</td>\n",
       "      <td>299.4</td>\n",
       "      <td>71</td>\n",
       "      <td>50.90</td>\n",
       "      <td>61.9</td>\n",
       "      <td>88</td>\n",
       "      <td>5.26</td>\n",
       "      <td>196.9</td>\n",
       "      <td>89</td>\n",
       "      <td>8.86</td>\n",
       "      <td>6.6</td>\n",
       "      <td>7</td>\n",
       "      <td>1.78</td>\n",
       "      <td>2</td>\n",
       "      <td>False.</td>\n",
       "    </tr>\n",
       "    <tr>\n",
       "      <th>4</th>\n",
       "      <td>OK</td>\n",
       "      <td>75</td>\n",
       "      <td>415</td>\n",
       "      <td>330-6626</td>\n",
       "      <td>yes</td>\n",
       "      <td>no</td>\n",
       "      <td>0</td>\n",
       "      <td>166.7</td>\n",
       "      <td>113</td>\n",
       "      <td>28.34</td>\n",
       "      <td>148.3</td>\n",
       "      <td>122</td>\n",
       "      <td>12.61</td>\n",
       "      <td>186.9</td>\n",
       "      <td>121</td>\n",
       "      <td>8.41</td>\n",
       "      <td>10.1</td>\n",
       "      <td>3</td>\n",
       "      <td>2.73</td>\n",
       "      <td>3</td>\n",
       "      <td>False.</td>\n",
       "    </tr>\n",
       "  </tbody>\n",
       "</table>\n",
       "</div>"
      ],
      "text/plain": [
       "  State  Account Length  Area Code     Phone Int'l Plan VMail Plan  \\\n",
       "0    KS             128        415  382-4657         no        yes   \n",
       "1    OH             107        415  371-7191         no        yes   \n",
       "2    NJ             137        415  358-1921         no         no   \n",
       "3    OH              84        408  375-9999        yes         no   \n",
       "4    OK              75        415  330-6626        yes         no   \n",
       "\n",
       "   VMail Message  Day Mins  Day Calls  Day Charge  Eve Mins  Eve Calls  \\\n",
       "0             25     265.1        110       45.07     197.4         99   \n",
       "1             26     161.6        123       27.47     195.5        103   \n",
       "2              0     243.4        114       41.38     121.2        110   \n",
       "3              0     299.4         71       50.90      61.9         88   \n",
       "4              0     166.7        113       28.34     148.3        122   \n",
       "\n",
       "   Eve Charge  Night Mins  Night Calls  Night Charge  Intl Mins  Intl Calls  \\\n",
       "0       16.78       244.7           91         11.01       10.0           3   \n",
       "1       16.62       254.4          103         11.45       13.7           3   \n",
       "2       10.30       162.6          104          7.32       12.2           5   \n",
       "3        5.26       196.9           89          8.86        6.6           7   \n",
       "4       12.61       186.9          121          8.41       10.1           3   \n",
       "\n",
       "   Intl Charge  CustServ Calls  Churn?  \n",
       "0         2.70               1  False.  \n",
       "1         3.70               1  False.  \n",
       "2         3.29               0  False.  \n",
       "3         1.78               2  False.  \n",
       "4         2.73               3  False.  "
      ]
     },
     "execution_count": 2,
     "metadata": {},
     "output_type": "execute_result"
    }
   ],
   "source": [
    "df = pd.read_csv(\"churn.txt\")\n",
    "df.head()"
   ]
  },
  {
   "cell_type": "code",
   "execution_count": 3,
   "metadata": {
    "scrolled": false
   },
   "outputs": [
    {
     "name": "stdout",
     "output_type": "stream",
     "text": [
      "<class 'pandas.core.frame.DataFrame'>\n",
      "RangeIndex: 3333 entries, 0 to 3332\n",
      "Data columns (total 21 columns):\n",
      "State             3333 non-null object\n",
      "Account Length    3333 non-null int64\n",
      "Area Code         3333 non-null int64\n",
      "Phone             3333 non-null object\n",
      "Int'l Plan        3333 non-null object\n",
      "VMail Plan        3333 non-null object\n",
      "VMail Message     3333 non-null int64\n",
      "Day Mins          3333 non-null float64\n",
      "Day Calls         3333 non-null int64\n",
      "Day Charge        3333 non-null float64\n",
      "Eve Mins          3333 non-null float64\n",
      "Eve Calls         3333 non-null int64\n",
      "Eve Charge        3333 non-null float64\n",
      "Night Mins        3333 non-null float64\n",
      "Night Calls       3333 non-null int64\n",
      "Night Charge      3333 non-null float64\n",
      "Intl Mins         3333 non-null float64\n",
      "Intl Calls        3333 non-null int64\n",
      "Intl Charge       3333 non-null float64\n",
      "CustServ Calls    3333 non-null int64\n",
      "Churn?            3333 non-null object\n",
      "dtypes: float64(8), int64(8), object(5)\n",
      "memory usage: 546.9+ KB\n"
     ]
    }
   ],
   "source": [
    "df.info()"
   ]
  },
  {
   "cell_type": "markdown",
   "metadata": {},
   "source": [
    "Although there are no null values in this dataset, if there were any, the following would've been done to substitute for them.\n",
    "\n",
    "__df.fillna(df.mean())__  \n",
    "- fill with mean of the columns"
   ]
  },
  {
   "cell_type": "code",
   "execution_count": 4,
   "metadata": {
    "scrolled": false
   },
   "outputs": [
    {
     "data": {
      "text/html": [
       "<div>\n",
       "<style scoped>\n",
       "    .dataframe tbody tr th:only-of-type {\n",
       "        vertical-align: middle;\n",
       "    }\n",
       "\n",
       "    .dataframe tbody tr th {\n",
       "        vertical-align: top;\n",
       "    }\n",
       "\n",
       "    .dataframe thead th {\n",
       "        text-align: right;\n",
       "    }\n",
       "</style>\n",
       "<table border=\"1\" class=\"dataframe\">\n",
       "  <thead>\n",
       "    <tr style=\"text-align: right;\">\n",
       "      <th></th>\n",
       "      <th>count</th>\n",
       "      <th>mean</th>\n",
       "      <th>std</th>\n",
       "      <th>min</th>\n",
       "      <th>25%</th>\n",
       "      <th>50%</th>\n",
       "      <th>75%</th>\n",
       "      <th>max</th>\n",
       "    </tr>\n",
       "  </thead>\n",
       "  <tbody>\n",
       "    <tr>\n",
       "      <th>Account Length</th>\n",
       "      <td>3333.0</td>\n",
       "      <td>101.064806</td>\n",
       "      <td>39.822106</td>\n",
       "      <td>1.00</td>\n",
       "      <td>74.00</td>\n",
       "      <td>101.00</td>\n",
       "      <td>127.00</td>\n",
       "      <td>243.00</td>\n",
       "    </tr>\n",
       "    <tr>\n",
       "      <th>Area Code</th>\n",
       "      <td>3333.0</td>\n",
       "      <td>437.182418</td>\n",
       "      <td>42.371290</td>\n",
       "      <td>408.00</td>\n",
       "      <td>408.00</td>\n",
       "      <td>415.00</td>\n",
       "      <td>510.00</td>\n",
       "      <td>510.00</td>\n",
       "    </tr>\n",
       "    <tr>\n",
       "      <th>VMail Message</th>\n",
       "      <td>3333.0</td>\n",
       "      <td>8.099010</td>\n",
       "      <td>13.688365</td>\n",
       "      <td>0.00</td>\n",
       "      <td>0.00</td>\n",
       "      <td>0.00</td>\n",
       "      <td>20.00</td>\n",
       "      <td>51.00</td>\n",
       "    </tr>\n",
       "    <tr>\n",
       "      <th>Day Mins</th>\n",
       "      <td>3333.0</td>\n",
       "      <td>179.775098</td>\n",
       "      <td>54.467389</td>\n",
       "      <td>0.00</td>\n",
       "      <td>143.70</td>\n",
       "      <td>179.40</td>\n",
       "      <td>216.40</td>\n",
       "      <td>350.80</td>\n",
       "    </tr>\n",
       "    <tr>\n",
       "      <th>Day Calls</th>\n",
       "      <td>3333.0</td>\n",
       "      <td>100.435644</td>\n",
       "      <td>20.069084</td>\n",
       "      <td>0.00</td>\n",
       "      <td>87.00</td>\n",
       "      <td>101.00</td>\n",
       "      <td>114.00</td>\n",
       "      <td>165.00</td>\n",
       "    </tr>\n",
       "    <tr>\n",
       "      <th>Day Charge</th>\n",
       "      <td>3333.0</td>\n",
       "      <td>30.562307</td>\n",
       "      <td>9.259435</td>\n",
       "      <td>0.00</td>\n",
       "      <td>24.43</td>\n",
       "      <td>30.50</td>\n",
       "      <td>36.79</td>\n",
       "      <td>59.64</td>\n",
       "    </tr>\n",
       "    <tr>\n",
       "      <th>Eve Mins</th>\n",
       "      <td>3333.0</td>\n",
       "      <td>200.980348</td>\n",
       "      <td>50.713844</td>\n",
       "      <td>0.00</td>\n",
       "      <td>166.60</td>\n",
       "      <td>201.40</td>\n",
       "      <td>235.30</td>\n",
       "      <td>363.70</td>\n",
       "    </tr>\n",
       "    <tr>\n",
       "      <th>Eve Calls</th>\n",
       "      <td>3333.0</td>\n",
       "      <td>100.114311</td>\n",
       "      <td>19.922625</td>\n",
       "      <td>0.00</td>\n",
       "      <td>87.00</td>\n",
       "      <td>100.00</td>\n",
       "      <td>114.00</td>\n",
       "      <td>170.00</td>\n",
       "    </tr>\n",
       "    <tr>\n",
       "      <th>Eve Charge</th>\n",
       "      <td>3333.0</td>\n",
       "      <td>17.083540</td>\n",
       "      <td>4.310668</td>\n",
       "      <td>0.00</td>\n",
       "      <td>14.16</td>\n",
       "      <td>17.12</td>\n",
       "      <td>20.00</td>\n",
       "      <td>30.91</td>\n",
       "    </tr>\n",
       "    <tr>\n",
       "      <th>Night Mins</th>\n",
       "      <td>3333.0</td>\n",
       "      <td>200.872037</td>\n",
       "      <td>50.573847</td>\n",
       "      <td>23.20</td>\n",
       "      <td>167.00</td>\n",
       "      <td>201.20</td>\n",
       "      <td>235.30</td>\n",
       "      <td>395.00</td>\n",
       "    </tr>\n",
       "    <tr>\n",
       "      <th>Night Calls</th>\n",
       "      <td>3333.0</td>\n",
       "      <td>100.107711</td>\n",
       "      <td>19.568609</td>\n",
       "      <td>33.00</td>\n",
       "      <td>87.00</td>\n",
       "      <td>100.00</td>\n",
       "      <td>113.00</td>\n",
       "      <td>175.00</td>\n",
       "    </tr>\n",
       "    <tr>\n",
       "      <th>Night Charge</th>\n",
       "      <td>3333.0</td>\n",
       "      <td>9.039325</td>\n",
       "      <td>2.275873</td>\n",
       "      <td>1.04</td>\n",
       "      <td>7.52</td>\n",
       "      <td>9.05</td>\n",
       "      <td>10.59</td>\n",
       "      <td>17.77</td>\n",
       "    </tr>\n",
       "    <tr>\n",
       "      <th>Intl Mins</th>\n",
       "      <td>3333.0</td>\n",
       "      <td>10.237294</td>\n",
       "      <td>2.791840</td>\n",
       "      <td>0.00</td>\n",
       "      <td>8.50</td>\n",
       "      <td>10.30</td>\n",
       "      <td>12.10</td>\n",
       "      <td>20.00</td>\n",
       "    </tr>\n",
       "    <tr>\n",
       "      <th>Intl Calls</th>\n",
       "      <td>3333.0</td>\n",
       "      <td>4.479448</td>\n",
       "      <td>2.461214</td>\n",
       "      <td>0.00</td>\n",
       "      <td>3.00</td>\n",
       "      <td>4.00</td>\n",
       "      <td>6.00</td>\n",
       "      <td>20.00</td>\n",
       "    </tr>\n",
       "    <tr>\n",
       "      <th>Intl Charge</th>\n",
       "      <td>3333.0</td>\n",
       "      <td>2.764581</td>\n",
       "      <td>0.753773</td>\n",
       "      <td>0.00</td>\n",
       "      <td>2.30</td>\n",
       "      <td>2.78</td>\n",
       "      <td>3.27</td>\n",
       "      <td>5.40</td>\n",
       "    </tr>\n",
       "    <tr>\n",
       "      <th>CustServ Calls</th>\n",
       "      <td>3333.0</td>\n",
       "      <td>1.562856</td>\n",
       "      <td>1.315491</td>\n",
       "      <td>0.00</td>\n",
       "      <td>1.00</td>\n",
       "      <td>1.00</td>\n",
       "      <td>2.00</td>\n",
       "      <td>9.00</td>\n",
       "    </tr>\n",
       "  </tbody>\n",
       "</table>\n",
       "</div>"
      ],
      "text/plain": [
       "                 count        mean        std     min     25%     50%     75%  \\\n",
       "Account Length  3333.0  101.064806  39.822106    1.00   74.00  101.00  127.00   \n",
       "Area Code       3333.0  437.182418  42.371290  408.00  408.00  415.00  510.00   \n",
       "VMail Message   3333.0    8.099010  13.688365    0.00    0.00    0.00   20.00   \n",
       "Day Mins        3333.0  179.775098  54.467389    0.00  143.70  179.40  216.40   \n",
       "Day Calls       3333.0  100.435644  20.069084    0.00   87.00  101.00  114.00   \n",
       "Day Charge      3333.0   30.562307   9.259435    0.00   24.43   30.50   36.79   \n",
       "Eve Mins        3333.0  200.980348  50.713844    0.00  166.60  201.40  235.30   \n",
       "Eve Calls       3333.0  100.114311  19.922625    0.00   87.00  100.00  114.00   \n",
       "Eve Charge      3333.0   17.083540   4.310668    0.00   14.16   17.12   20.00   \n",
       "Night Mins      3333.0  200.872037  50.573847   23.20  167.00  201.20  235.30   \n",
       "Night Calls     3333.0  100.107711  19.568609   33.00   87.00  100.00  113.00   \n",
       "Night Charge    3333.0    9.039325   2.275873    1.04    7.52    9.05   10.59   \n",
       "Intl Mins       3333.0   10.237294   2.791840    0.00    8.50   10.30   12.10   \n",
       "Intl Calls      3333.0    4.479448   2.461214    0.00    3.00    4.00    6.00   \n",
       "Intl Charge     3333.0    2.764581   0.753773    0.00    2.30    2.78    3.27   \n",
       "CustServ Calls  3333.0    1.562856   1.315491    0.00    1.00    1.00    2.00   \n",
       "\n",
       "                   max  \n",
       "Account Length  243.00  \n",
       "Area Code       510.00  \n",
       "VMail Message    51.00  \n",
       "Day Mins        350.80  \n",
       "Day Calls       165.00  \n",
       "Day Charge       59.64  \n",
       "Eve Mins        363.70  \n",
       "Eve Calls       170.00  \n",
       "Eve Charge       30.91  \n",
       "Night Mins      395.00  \n",
       "Night Calls     175.00  \n",
       "Night Charge     17.77  \n",
       "Intl Mins        20.00  \n",
       "Intl Calls       20.00  \n",
       "Intl Charge       5.40  \n",
       "CustServ Calls    9.00  "
      ]
     },
     "execution_count": 4,
     "metadata": {},
     "output_type": "execute_result"
    }
   ],
   "source": [
    "df.describe().transpose()"
   ]
  },
  {
   "cell_type": "code",
   "execution_count": 5,
   "metadata": {
    "scrolled": true
   },
   "outputs": [
    {
     "name": "stdout",
     "output_type": "stream",
     "text": [
      "Churn?\n",
      "False.    2850\n",
      "True.      483\n",
      "Name: Phone, dtype: int64\n",
      "\n",
      "Churn Rate: 16.94736842105263 %\n"
     ]
    }
   ],
   "source": [
    "print(df.groupby('Churn?')[\"Phone\"].count())\n",
    "print(\"\\nChurn Rate:\",(483/2850)*100,\"%\")"
   ]
  },
  {
   "cell_type": "code",
   "execution_count": 29,
   "metadata": {},
   "outputs": [
    {
     "data": {
      "text/html": [
       "<div>\n",
       "<style scoped>\n",
       "    .dataframe tbody tr th:only-of-type {\n",
       "        vertical-align: middle;\n",
       "    }\n",
       "\n",
       "    .dataframe tbody tr th {\n",
       "        vertical-align: top;\n",
       "    }\n",
       "\n",
       "    .dataframe thead th {\n",
       "        text-align: right;\n",
       "    }\n",
       "</style>\n",
       "<table border=\"1\" class=\"dataframe\">\n",
       "  <thead>\n",
       "    <tr style=\"text-align: right;\">\n",
       "      <th></th>\n",
       "      <th>Account Length</th>\n",
       "      <th>Area Code</th>\n",
       "      <th>VMail Message</th>\n",
       "      <th>Day Mins</th>\n",
       "      <th>Day Calls</th>\n",
       "      <th>Day Charge</th>\n",
       "      <th>Eve Mins</th>\n",
       "      <th>Eve Calls</th>\n",
       "      <th>Eve Charge</th>\n",
       "      <th>Night Mins</th>\n",
       "      <th>Night Calls</th>\n",
       "      <th>Night Charge</th>\n",
       "      <th>Intl Mins</th>\n",
       "      <th>Intl Calls</th>\n",
       "      <th>Intl Charge</th>\n",
       "      <th>CustServ Calls</th>\n",
       "    </tr>\n",
       "    <tr>\n",
       "      <th>Churn?</th>\n",
       "      <th></th>\n",
       "      <th></th>\n",
       "      <th></th>\n",
       "      <th></th>\n",
       "      <th></th>\n",
       "      <th></th>\n",
       "      <th></th>\n",
       "      <th></th>\n",
       "      <th></th>\n",
       "      <th></th>\n",
       "      <th></th>\n",
       "      <th></th>\n",
       "      <th></th>\n",
       "      <th></th>\n",
       "      <th></th>\n",
       "      <th></th>\n",
       "    </tr>\n",
       "  </thead>\n",
       "  <tbody>\n",
       "    <tr>\n",
       "      <th>False.</th>\n",
       "      <td>100.793684</td>\n",
       "      <td>437.074737</td>\n",
       "      <td>8.604561</td>\n",
       "      <td>175.175754</td>\n",
       "      <td>100.283158</td>\n",
       "      <td>29.780421</td>\n",
       "      <td>199.043298</td>\n",
       "      <td>100.038596</td>\n",
       "      <td>16.918909</td>\n",
       "      <td>200.133193</td>\n",
       "      <td>100.058246</td>\n",
       "      <td>9.006074</td>\n",
       "      <td>10.158877</td>\n",
       "      <td>4.532982</td>\n",
       "      <td>2.743404</td>\n",
       "      <td>1.449825</td>\n",
       "    </tr>\n",
       "    <tr>\n",
       "      <th>True.</th>\n",
       "      <td>102.664596</td>\n",
       "      <td>437.817805</td>\n",
       "      <td>5.115942</td>\n",
       "      <td>206.914079</td>\n",
       "      <td>101.335404</td>\n",
       "      <td>35.175921</td>\n",
       "      <td>212.410145</td>\n",
       "      <td>100.561077</td>\n",
       "      <td>18.054969</td>\n",
       "      <td>205.231677</td>\n",
       "      <td>100.399586</td>\n",
       "      <td>9.235528</td>\n",
       "      <td>10.700000</td>\n",
       "      <td>4.163561</td>\n",
       "      <td>2.889545</td>\n",
       "      <td>2.229814</td>\n",
       "    </tr>\n",
       "  </tbody>\n",
       "</table>\n",
       "</div>"
      ],
      "text/plain": [
       "        Account Length   Area Code  VMail Message    Day Mins   Day Calls  \\\n",
       "Churn?                                                                      \n",
       "False.      100.793684  437.074737       8.604561  175.175754  100.283158   \n",
       "True.       102.664596  437.817805       5.115942  206.914079  101.335404   \n",
       "\n",
       "        Day Charge    Eve Mins   Eve Calls  Eve Charge  Night Mins  \\\n",
       "Churn?                                                               \n",
       "False.   29.780421  199.043298  100.038596   16.918909  200.133193   \n",
       "True.    35.175921  212.410145  100.561077   18.054969  205.231677   \n",
       "\n",
       "        Night Calls  Night Charge  Intl Mins  Intl Calls  Intl Charge  \\\n",
       "Churn?                                                                  \n",
       "False.   100.058246      9.006074  10.158877    4.532982     2.743404   \n",
       "True.    100.399586      9.235528  10.700000    4.163561     2.889545   \n",
       "\n",
       "        CustServ Calls  \n",
       "Churn?                  \n",
       "False.        1.449825  \n",
       "True.         2.229814  "
      ]
     },
     "execution_count": 29,
     "metadata": {},
     "output_type": "execute_result"
    }
   ],
   "source": [
    "churn1 = df.groupby(\"Churn?\")\n",
    "churn1.mean()"
   ]
  },
  {
   "cell_type": "code",
   "execution_count": 7,
   "metadata": {
    "scrolled": false
   },
   "outputs": [
    {
     "name": "stdout",
     "output_type": "stream",
     "text": [
      "Int'l Plan\n",
      "no     3010\n",
      "yes     323\n",
      "Name: Phone, dtype: int64\n",
      "\n",
      "International Plans: 10.730897009966778 %\n"
     ]
    }
   ],
   "source": [
    "print(df.groupby(\"Int'l Plan\")[\"Phone\"].count())\n",
    "print(\"\\nInternational Plans:\",(323/3010)*100,\"%\")"
   ]
  },
  {
   "cell_type": "markdown",
   "metadata": {},
   "source": [
    "- There are 3333 records (2850 False Churn, 483 True Churn)\n",
    "- No missing values\n",
    "- 16.95% of phones churned\n",
    "- ~10% have international plans"
   ]
  },
  {
   "cell_type": "markdown",
   "metadata": {},
   "source": [
    "### Univariate Distribution:"
   ]
  },
  {
   "cell_type": "code",
   "execution_count": 8,
   "metadata": {
    "scrolled": false
   },
   "outputs": [
    {
     "data": {
      "image/png": "[encoded data removed]",
      "text/plain": [
       "<Figure size 1440x1080 with 16 Axes>"
      ]
     },
     "metadata": {
      "needs_background": "light"
     },
     "output_type": "display_data"
    }
   ],
   "source": [
    "df.hist(bins=50, figsize=(20,15))\n",
    "plt.tight_layout()    \n",
    "plt.show()"
   ]
  },
  {
   "cell_type": "markdown",
   "metadata": {},
   "source": [
    "- Calls, Mins, Charge are normally distributed\n",
    "- CustServ Calls histogram shows about 80% of the phones have made customer service calls\n",
    "- About 2400 of the phones have no voicemails, and some phones have about 10 to 55 voicemails\n",
    "- There were majorly 2 to 5 international calls for the phones"
   ]
  },
  {
   "cell_type": "markdown",
   "metadata": {},
   "source": [
    "### Interaction & Correlation:\n",
    "\n",
    "- Correlation between two attributes"
   ]
  },
  {
   "cell_type": "code",
   "execution_count": 9,
   "metadata": {
    "scrolled": false
   },
   "outputs": [
    {
     "data": {
      "text/plain": [
       "<matplotlib.axes._subplots.AxesSubplot at 0x17cf0f4cbe0>"
      ]
     },
     "execution_count": 9,
     "metadata": {},
     "output_type": "execute_result"
    },
    {
     "data": {
      "image/png": "[encoded data removed]",
      "text/plain": [
       "<Figure size 1440x1440 with 2 Axes>"
      ]
     },
     "metadata": {},
     "output_type": "display_data"
    }
   ],
   "source": [
    "sns.set(context=\"paper\",font=\"monospace\")\n",
    "housing_corr_matrix = df.corr()\n",
    "fig, axe = plt.subplots(figsize=(20,20))\n",
    "cmap = sns.diverging_palette(220,10,center = \"light\", as_cmap=True) #color palettes\n",
    "sns.heatmap(housing_corr_matrix,vmax=1,square =True, cmap=cmap,annot=True ) #draw heatmap"
   ]
  },
  {
   "cell_type": "markdown",
   "metadata": {},
   "source": [
    "From this correlation graph, it's clear that minutes are directly correlated with charge because of the 100% correlation. It's a _**pay by the minute**_ service."
   ]
  },
  {
   "cell_type": "markdown",
   "metadata": {},
   "source": [
    "### Feature Importance:"
   ]
  },
  {
   "cell_type": "code",
   "execution_count": 10,
   "metadata": {
    "scrolled": true
   },
   "outputs": [
    {
     "data": {
      "text/plain": [
       "Index(['State', 'Account Length', 'Area Code', 'Phone', 'Int'l Plan',\n",
       "       'VMail Plan', 'VMail Message', 'Day Mins', 'Day Calls', 'Day Charge',\n",
       "       'Eve Mins', 'Eve Calls', 'Eve Charge', 'Night Mins', 'Night Calls',\n",
       "       'Night Charge', 'Intl Mins', 'Intl Calls', 'Intl Charge',\n",
       "       'CustServ Calls', 'Churn?'],\n",
       "      dtype='object')"
      ]
     },
     "execution_count": 10,
     "metadata": {},
     "output_type": "execute_result"
    }
   ],
   "source": [
    "df.columns"
   ]
  },
  {
   "cell_type": "code",
   "execution_count": 11,
   "metadata": {
    "scrolled": true
   },
   "outputs": [],
   "source": [
    "df1 = df[[\"Account Length\",\"Day Mins\",\"Day Calls\",\"Day Charge\",\"Eve Mins\",\"Eve Calls\",\"Eve Charge\",\n",
    "          \"Night Mins\",\"Night Calls\",\"Night Charge\",\"Intl Mins\",\"Intl Calls\",\"Intl Charge\",\"CustServ Calls\"]]"
   ]
  },
  {
   "cell_type": "code",
   "execution_count": 12,
   "metadata": {},
   "outputs": [
    {
     "data": {
      "image/png": "[encoded data removed]",
      "text/plain": [
       "<Figure size 864x1296 with 1 Axes>"
      ]
     },
     "metadata": {},
     "output_type": "display_data"
    }
   ],
   "source": [
    "clf = xgb.XGBClassifier(max_depth=7, n_estimators=200, colsample_bytree=0.8, \n",
    "                        subsample=0.8, nthread=10, learning_rate=0.1)\n",
    "clf.fit(df1, df[[\"Churn?\"]])\n",
    "fig, ax = plt.subplots(figsize=(12,18))\n",
    "xgb.plot_importance(clf, max_num_features=50, height=0.8, ax=ax)\n",
    "plt.show()"
   ]
  },
  {
   "cell_type": "markdown",
   "metadata": {},
   "source": [
    "Feature importance also indicates that it's a _**pay by the minute**_ service because they're also the most significant features."
   ]
  },
  {
   "cell_type": "markdown",
   "metadata": {},
   "source": [
    "### IQR:\n",
    "Detecting outliers by using the lower and upper boundries calculated by the interquartile range, which is quartile 3 minus quartile 2, and multiplied by 1.5."
   ]
  },
  {
   "cell_type": "code",
   "execution_count": 13,
   "metadata": {
    "scrolled": true
   },
   "outputs": [
    {
     "data": {
      "text/plain": [
       "197     208\n",
       "238     215\n",
       "309     209\n",
       "416     224\n",
       "817     243\n",
       "1045    217\n",
       "1093    210\n",
       "1387    212\n",
       "1408    232\n",
       "1551    225\n",
       "1751    225\n",
       "1886    224\n",
       "2150    212\n",
       "2259    210\n",
       "2277    217\n",
       "2700    209\n",
       "3216    221\n",
       "3227    209\n",
       "Name: Account Length, dtype: int64"
      ]
     },
     "execution_count": 13,
     "metadata": {},
     "output_type": "execute_result"
    }
   ],
   "source": [
    "q1_acc, q3_acc = np.percentile(df[\"Account Length\"],[25,75])  #find 1st and 3rd quartile    \n",
    "iqr_acc = q3_acc - q1_acc  #interquartile range\n",
    "lower_acc = q1_acc - (1.5 * iqr_acc)  #lower bound\n",
    "upper_acc = q3_acc + (1.5 * iqr_acc)  #upper bound\n",
    "outliers_acc = df[\"Account Length\"][(df[\"Account Length\"] < lower_acc) | (df[\"Account Length\"] > upper_acc)]  \n",
    "#if outside the lower & upper boundaries\n",
    "outliers_acc"
   ]
  },
  {
   "cell_type": "code",
   "execution_count": 14,
   "metadata": {
    "scrolled": true
   },
   "outputs": [
    {
     "data": {
      "text/plain": [
       "10      4\n",
       "14      4\n",
       "15      4\n",
       "21      5\n",
       "48      5\n",
       "54      5\n",
       "69      4\n",
       "77      4\n",
       "86      4\n",
       "97      4\n",
       "100     4\n",
       "105     4\n",
       "112     4\n",
       "126     4\n",
       "127     4\n",
       "133     4\n",
       "136     5\n",
       "154     5\n",
       "180     4\n",
       "181     5\n",
       "198     4\n",
       "228     4\n",
       "235     5\n",
       "248     4\n",
       "250     4\n",
       "251     4\n",
       "255     4\n",
       "266     4\n",
       "293     5\n",
       "298     4\n",
       "       ..\n",
       "3026    6\n",
       "3027    4\n",
       "3035    4\n",
       "3050    4\n",
       "3064    4\n",
       "3079    5\n",
       "3081    6\n",
       "3112    7\n",
       "3115    4\n",
       "3125    4\n",
       "3127    4\n",
       "3131    5\n",
       "3140    5\n",
       "3144    5\n",
       "3147    4\n",
       "3157    4\n",
       "3169    4\n",
       "3181    5\n",
       "3190    6\n",
       "3228    5\n",
       "3243    5\n",
       "3247    4\n",
       "3280    4\n",
       "3287    4\n",
       "3304    4\n",
       "3307    4\n",
       "3309    4\n",
       "3320    4\n",
       "3322    4\n",
       "3323    5\n",
       "Name: CustServ Calls, Length: 267, dtype: int64"
      ]
     },
     "execution_count": 14,
     "metadata": {},
     "output_type": "execute_result"
    }
   ],
   "source": [
    "q1_cc, q3_cc = np.percentile(df[\"CustServ Calls\"],[25,75])    \n",
    "iqr_cc = q3_cc - q1_cc  \n",
    "lower_cc = q1_cc - (1.5 * iqr_cc)  \n",
    "upper_cc = q3_cc + (1.5 * iqr_cc)  \n",
    "outliers_cc = df[\"CustServ Calls\"][(df[\"CustServ Calls\"] < lower_cc) | (df[\"CustServ Calls\"] > upper_cc)]\n",
    "outliers_cc"
   ]
  },
  {
   "cell_type": "code",
   "execution_count": 15,
   "metadata": {
    "scrolled": true
   },
   "outputs": [
    {
     "data": {
      "text/plain": [
       "315     158\n",
       "468     163\n",
       "692      36\n",
       "740      40\n",
       "1057    158\n",
       "1121    165\n",
       "1144     30\n",
       "1322     42\n",
       "1345      0\n",
       "1346     45\n",
       "1397      0\n",
       "1422     45\n",
       "1460    160\n",
       "1869    156\n",
       "1989     35\n",
       "2217     42\n",
       "2392    158\n",
       "2394    157\n",
       "2492     45\n",
       "2884     44\n",
       "2885     44\n",
       "2964     44\n",
       "3187     40\n",
       "Name: Day Calls, dtype: int64"
      ]
     },
     "execution_count": 15,
     "metadata": {},
     "output_type": "execute_result"
    }
   ],
   "source": [
    "q1_dc, q3_dc = np.percentile(df[\"Day Calls\"],[25,75])    \n",
    "iqr_dc = q3_dc - q1_dc  \n",
    "lower_dc = q1_dc - (1.5 * iqr_dc)  \n",
    "upper_dc = q3_dc + (1.5 * iqr_dc)  \n",
    "outliers_dc = df[\"Day Calls\"][(df[\"Day Calls\"] < lower_dc) | (df[\"Day Calls\"] > upper_dc)]\n",
    "outliers_dc"
   ]
  },
  {
   "cell_type": "code",
   "execution_count": 16,
   "metadata": {
    "scrolled": true
   },
   "outputs": [
    {
     "data": {
      "text/plain": [
       "15      56.59\n",
       "156     57.36\n",
       "197     55.51\n",
       "365     59.64\n",
       "605     57.04\n",
       "685      5.25\n",
       "741      5.78\n",
       "975     56.83\n",
       "985     58.96\n",
       "1052     2.13\n",
       "1076     4.40\n",
       "1345     0.00\n",
       "1397     0.00\n",
       "1621     3.32\n",
       "1679    56.07\n",
       "1986     1.34\n",
       "2028    55.78\n",
       "2124     4.59\n",
       "2252     2.99\n",
       "2412    55.47\n",
       "2594    58.70\n",
       "2736     0.44\n",
       "2753     1.33\n",
       "3046     3.21\n",
       "3174     5.08\n",
       "Name: Day Charge, dtype: float64"
      ]
     },
     "execution_count": 16,
     "metadata": {},
     "output_type": "execute_result"
    }
   ],
   "source": [
    "q1_dch, q3_dch = np.percentile(df[\"Day Charge\"],[25,75])    \n",
    "iqr_dch = q3_dch - q1_dch  \n",
    "lower_dch = q1_dch - (1.5 * iqr_dch)  \n",
    "upper_dch = q3_dch + (1.5 * iqr_dch)  \n",
    "outliers_dch = df[\"Day Charge\"][(df[\"Day Charge\"] < lower_dch) | (df[\"Day Charge\"] > upper_dch)]\n",
    "outliers_dch"
   ]
  },
  {
   "cell_type": "code",
   "execution_count": 17,
   "metadata": {
    "scrolled": true
   },
   "outputs": [
    {
     "data": {
      "text/plain": [
       "15      332.9\n",
       "156     337.4\n",
       "197     326.5\n",
       "365     350.8\n",
       "605     335.5\n",
       "685      30.9\n",
       "741      34.0\n",
       "975     334.3\n",
       "985     346.8\n",
       "1052     12.5\n",
       "1076     25.9\n",
       "1345      0.0\n",
       "1397      0.0\n",
       "1621     19.5\n",
       "1679    329.8\n",
       "1986      7.9\n",
       "2028    328.1\n",
       "2124     27.0\n",
       "2252     17.6\n",
       "2412    326.3\n",
       "2594    345.3\n",
       "2736      2.6\n",
       "2753      7.8\n",
       "3046     18.9\n",
       "3174     29.9\n",
       "Name: Day Mins, dtype: float64"
      ]
     },
     "execution_count": 17,
     "metadata": {},
     "output_type": "execute_result"
    }
   ],
   "source": [
    "q1_dm, q3_dm = np.percentile(df[\"Day Mins\"],[25,75])    \n",
    "iqr_dm = q3_dm - q1_dm  \n",
    "lower_dm = q1_dm - (1.5 * iqr_dm)  \n",
    "upper_dm = q3_dm + (1.5 * iqr_dm)  \n",
    "outliers_dm = df[\"Day Mins\"][(df[\"Day Mins\"] < lower_dm) | (df[\"Day Mins\"] > upper_dm)]\n",
    "outliers_dm"
   ]
  },
  {
   "cell_type": "code",
   "execution_count": 18,
   "metadata": {
    "scrolled": true
   },
   "outputs": [
    {
     "data": {
      "text/plain": [
       "58      164\n",
       "154      46\n",
       "301     168\n",
       "475      42\n",
       "646      37\n",
       "960      12\n",
       "1020    157\n",
       "1071    155\n",
       "1266     45\n",
       "1615     36\n",
       "1706    156\n",
       "1730     46\n",
       "1856     44\n",
       "2227    155\n",
       "2592     46\n",
       "2853     43\n",
       "2932      0\n",
       "3121    155\n",
       "3157    159\n",
       "3219    170\n",
       "Name: Eve Calls, dtype: int64"
      ]
     },
     "execution_count": 18,
     "metadata": {},
     "output_type": "execute_result"
    }
   ],
   "source": [
    "q1_ec, q3_ec = np.percentile(df[\"Eve Calls\"],[25,75])    \n",
    "iqr_ec = q3_ec - q1_ec  \n",
    "lower_ec = q1_ec - (1.5 * iqr_ec)  \n",
    "upper_ec = q3_ec + (1.5 * iqr_ec)  \n",
    "outliers_ec = df[\"Eve Calls\"][(df[\"Eve Calls\"] < lower_ec) | (df[\"Eve Calls\"] > upper_ec)]\n",
    "outliers_ec"
   ]
  },
  {
   "cell_type": "code",
   "execution_count": 19,
   "metadata": {
    "scrolled": true
   },
   "outputs": [
    {
     "data": {
      "text/plain": [
       "3        5.26\n",
       "6       29.62\n",
       "8       29.89\n",
       "32       2.65\n",
       "302     29.79\n",
       "533      3.59\n",
       "580     29.52\n",
       "587      5.01\n",
       "821      3.73\n",
       "850      4.50\n",
       "889      3.61\n",
       "893      5.17\n",
       "1054     4.98\n",
       "1190     4.76\n",
       "1233     4.09\n",
       "1335     5.10\n",
       "1601    29.83\n",
       "1960     4.18\n",
       "2160    28.89\n",
       "2331    30.75\n",
       "2551    30.11\n",
       "2732    30.91\n",
       "2932     0.00\n",
       "3075    29.01\n",
       "Name: Eve Charge, dtype: float64"
      ]
     },
     "execution_count": 19,
     "metadata": {},
     "output_type": "execute_result"
    }
   ],
   "source": [
    "q1_ech, q3_ech = np.percentile(df[\"Eve Charge\"],[25,75])    \n",
    "iqr_ech = q3_ech - q1_ech  \n",
    "lower_ech = q1_ech - (1.5 * iqr_ech)  \n",
    "upper_ech = q3_ech + (1.5 * iqr_ech)  \n",
    "outliers_ech = df[\"Eve Charge\"][(df[\"Eve Charge\"] < lower_ech) | (df[\"Eve Charge\"] > upper_ech)]\n",
    "outliers_ech"
   ]
  },
  {
   "cell_type": "code",
   "execution_count": 20,
   "metadata": {
    "scrolled": true
   },
   "outputs": [
    {
     "data": {
      "text/plain": [
       "3        61.9\n",
       "6       348.5\n",
       "8       351.6\n",
       "32       31.2\n",
       "302     350.5\n",
       "533      42.2\n",
       "580     347.3\n",
       "587      58.9\n",
       "821      43.9\n",
       "850      52.9\n",
       "889      42.5\n",
       "893      60.8\n",
       "1054     58.6\n",
       "1190     56.0\n",
       "1233     48.1\n",
       "1335     60.0\n",
       "1601    350.9\n",
       "1960     49.2\n",
       "2160    339.9\n",
       "2331    361.8\n",
       "2551    354.2\n",
       "2732    363.7\n",
       "2932      0.0\n",
       "3075    341.3\n",
       "Name: Eve Mins, dtype: float64"
      ]
     },
     "execution_count": 20,
     "metadata": {},
     "output_type": "execute_result"
    }
   ],
   "source": [
    "q1_em, q3_em = np.percentile(df[\"Eve Mins\"],[25,75])    \n",
    "iqr_em = q3_em - q1_em  \n",
    "lower_em = q1_em - (1.5 * iqr_em)  \n",
    "upper_em = q3_em + (1.5 * iqr_em)  \n",
    "outliers_em = df[\"Eve Mins\"][(df[\"Eve Mins\"] < lower_em) | (df[\"Eve Mins\"] > upper_em)]\n",
    "outliers_em"
   ]
  },
  {
   "cell_type": "code",
   "execution_count": 21,
   "metadata": {
    "scrolled": true
   },
   "outputs": [
    {
     "data": {
      "text/plain": [
       "315      46\n",
       "326      42\n",
       "335      44\n",
       "395      42\n",
       "429     153\n",
       "493     175\n",
       "586     154\n",
       "901     158\n",
       "1109    155\n",
       "1200    157\n",
       "1296    157\n",
       "1748    154\n",
       "1810    153\n",
       "2288    166\n",
       "2659     33\n",
       "2728    155\n",
       "2736    156\n",
       "2903     38\n",
       "2988     36\n",
       "3172    156\n",
       "3211    164\n",
       "3234    153\n",
       "Name: Night Calls, dtype: int64"
      ]
     },
     "execution_count": 21,
     "metadata": {},
     "output_type": "execute_result"
    }
   ],
   "source": [
    "q1_nc, q3_nc = np.percentile(df[\"Night Calls\"],[25,75])    \n",
    "iqr_nc = q3_nc - q1_nc  \n",
    "lower_nc = q1_nc - (1.5 * iqr_nc)  \n",
    "upper_nc = q3_nc + (1.5 * iqr_nc)  \n",
    "outliers_nc = df[\"Night Calls\"][(df[\"Night Calls\"] < lower_nc) | (df[\"Night Calls\"] > upper_nc)]\n",
    "outliers_nc"
   ]
  },
  {
   "cell_type": "code",
   "execution_count": 22,
   "metadata": {
    "scrolled": true
   },
   "outputs": [
    {
     "data": {
      "text/plain": [
       "116      2.59\n",
       "244     15.97\n",
       "444     15.71\n",
       "862     15.56\n",
       "883      2.03\n",
       "918     15.43\n",
       "922     16.39\n",
       "992      2.85\n",
       "999      2.45\n",
       "1072     2.25\n",
       "1113     1.97\n",
       "1202    15.74\n",
       "1238    15.86\n",
       "1260     1.04\n",
       "1313     2.86\n",
       "1317    17.19\n",
       "1445    16.99\n",
       "2321    16.55\n",
       "2350     2.55\n",
       "2382     2.43\n",
       "2452     2.89\n",
       "2609    15.49\n",
       "2663    17.77\n",
       "2754    15.76\n",
       "2756     2.25\n",
       "3024     2.40\n",
       "3060    15.85\n",
       "3107    16.42\n",
       "3159     2.76\n",
       "3247     2.13\n",
       "Name: Night Charge, dtype: float64"
      ]
     },
     "execution_count": 22,
     "metadata": {},
     "output_type": "execute_result"
    }
   ],
   "source": [
    "q1_nch, q3_nch = np.percentile(df[\"Night Charge\"],[25,75])    \n",
    "iqr_nch = q3_nch - q1_nch  \n",
    "lower_nch = q1_nch - (1.5 * iqr_nch)  \n",
    "upper_nch = q3_nch + (1.5 * iqr_nch)  \n",
    "outliers_nch = df[\"Night Charge\"][(df[\"Night Charge\"] < lower_nch) | (df[\"Night Charge\"] > upper_nch)]\n",
    "outliers_nch"
   ]
  },
  {
   "cell_type": "code",
   "execution_count": 23,
   "metadata": {
    "scrolled": true
   },
   "outputs": [
    {
     "data": {
      "text/plain": [
       "116      57.5\n",
       "244     354.9\n",
       "444     349.2\n",
       "862     345.8\n",
       "883      45.0\n",
       "918     342.8\n",
       "922     364.3\n",
       "992      63.3\n",
       "999      54.5\n",
       "1072     50.1\n",
       "1113     43.7\n",
       "1202    349.7\n",
       "1238    352.5\n",
       "1260     23.2\n",
       "1313     63.6\n",
       "1317    381.9\n",
       "1445    377.5\n",
       "2321    367.7\n",
       "2350     56.6\n",
       "2382     54.0\n",
       "2452     64.2\n",
       "2609    344.3\n",
       "2663    395.0\n",
       "2754    350.2\n",
       "2756     50.1\n",
       "3024     53.3\n",
       "3060    352.2\n",
       "3107    364.9\n",
       "3159     61.4\n",
       "3247     47.4\n",
       "Name: Night Mins, dtype: float64"
      ]
     },
     "execution_count": 23,
     "metadata": {},
     "output_type": "execute_result"
    }
   ],
   "source": [
    "q1_nm, q3_nm = np.percentile(df[\"Night Mins\"],[25,75])    \n",
    "iqr_nm = q3_nm - q1_nm  \n",
    "lower_nm = q1_nm - (1.5 * iqr_nm)  \n",
    "upper_nm = q3_nm + (1.5 * iqr_nm)  \n",
    "outliers_nm = df[\"Night Mins\"][(df[\"Night Mins\"] < lower_nm) | (df[\"Night Mins\"] > upper_nm)]\n",
    "outliers_nm"
   ]
  },
  {
   "cell_type": "code",
   "execution_count": 24,
   "metadata": {
    "scrolled": true
   },
   "outputs": [
    {
     "data": {
      "text/plain": [
       "22      19\n",
       "41      15\n",
       "153     11\n",
       "182     12\n",
       "185     13\n",
       "211     11\n",
       "219     12\n",
       "250     11\n",
       "272     13\n",
       "329     12\n",
       "341     11\n",
       "347     11\n",
       "377     18\n",
       "420     11\n",
       "474     12\n",
       "483     13\n",
       "504     12\n",
       "514     12\n",
       "588     11\n",
       "636     15\n",
       "642     13\n",
       "674     15\n",
       "698     11\n",
       "723     11\n",
       "756     14\n",
       "837     13\n",
       "842     11\n",
       "854     13\n",
       "863     13\n",
       "883     12\n",
       "        ..\n",
       "1832    11\n",
       "1889    15\n",
       "1960    11\n",
       "2001    14\n",
       "2018    11\n",
       "2156    11\n",
       "2212    12\n",
       "2269    13\n",
       "2562    11\n",
       "2576    11\n",
       "2621    16\n",
       "2703    13\n",
       "2724    11\n",
       "2775    13\n",
       "2826    11\n",
       "2835    15\n",
       "2883    11\n",
       "2930    12\n",
       "2947    13\n",
       "2956    18\n",
       "2970    12\n",
       "3025    12\n",
       "3071    12\n",
       "3097    11\n",
       "3109    13\n",
       "3128    11\n",
       "3206    13\n",
       "3230    14\n",
       "3291    20\n",
       "3310    17\n",
       "Name: Intl Calls, Length: 78, dtype: int64"
      ]
     },
     "execution_count": 24,
     "metadata": {},
     "output_type": "execute_result"
    }
   ],
   "source": [
    "q1_ic, q3_ic = np.percentile(df[\"Intl Calls\"],[25,75])    \n",
    "iqr_ic = q3_ic - q1_ic  \n",
    "lower_ic = q1_ic - (1.5 * iqr_ic)  \n",
    "upper_ic = q3_ic + (1.5 * iqr_ic)  \n",
    "outliers_ic = df[\"Intl Calls\"][(df[\"Intl Calls\"] < lower_ic) | (df[\"Intl Calls\"] > upper_ic)]\n",
    "outliers_ic"
   ]
  },
  {
   "cell_type": "code",
   "execution_count": 25,
   "metadata": {
    "scrolled": true
   },
   "outputs": [
    {
     "data": {
      "text/plain": [
       "115     5.40\n",
       "179     0.00\n",
       "214     4.75\n",
       "225     0.73\n",
       "314     5.10\n",
       "343     0.00\n",
       "367     4.86\n",
       "397     0.54\n",
       "488     0.00\n",
       "502     4.73\n",
       "515     4.73\n",
       "535     4.91\n",
       "595     0.00\n",
       "712     0.00\n",
       "762     0.35\n",
       "878     0.00\n",
       "1028    0.00\n",
       "1080    0.00\n",
       "1099    0.59\n",
       "1257    4.86\n",
       "1400    0.00\n",
       "1420    4.83\n",
       "1564    0.00\n",
       "1816    4.97\n",
       "1966    0.54\n",
       "2004    4.81\n",
       "2180    0.78\n",
       "2197    0.84\n",
       "2229    4.75\n",
       "2256    0.70\n",
       "2345    0.00\n",
       "2362    0.00\n",
       "2371    4.91\n",
       "2513    0.00\n",
       "2534    4.86\n",
       "2669    0.30\n",
       "2733    0.00\n",
       "2816    4.94\n",
       "2906    0.00\n",
       "2918    0.00\n",
       "2933    0.57\n",
       "3022    0.78\n",
       "3080    4.73\n",
       "3160    0.57\n",
       "3216    0.65\n",
       "3234    0.68\n",
       "3275    0.00\n",
       "3290    0.00\n",
       "3307    4.81\n",
       "Name: Intl Charge, dtype: float64"
      ]
     },
     "execution_count": 25,
     "metadata": {},
     "output_type": "execute_result"
    }
   ],
   "source": [
    "q1_ich, q3_ich = np.percentile(df[\"Intl Charge\"],[25,75])    \n",
    "iqr_ich = q3_ich - q1_ich  \n",
    "lower_ich = q1_ich - (1.5 * iqr_ich)  \n",
    "upper_ich = q3_ich + (1.5 * iqr_ich)  \n",
    "outliers_ich = df[\"Intl Charge\"][(df[\"Intl Charge\"] < lower_ich) | (df[\"Intl Charge\"] > upper_ich)]\n",
    "outliers_ich"
   ]
  },
  {
   "cell_type": "code",
   "execution_count": 26,
   "metadata": {
    "scrolled": true
   },
   "outputs": [
    {
     "data": {
      "text/plain": [
       "115     20.0\n",
       "179      0.0\n",
       "214     17.6\n",
       "225      2.7\n",
       "314     18.9\n",
       "343      0.0\n",
       "367     18.0\n",
       "397      2.0\n",
       "488      0.0\n",
       "535     18.2\n",
       "595      0.0\n",
       "712      0.0\n",
       "762      1.3\n",
       "878      0.0\n",
       "1028     0.0\n",
       "1080     0.0\n",
       "1099     2.2\n",
       "1257    18.0\n",
       "1400     0.0\n",
       "1420    17.9\n",
       "1564     0.0\n",
       "1816    18.4\n",
       "1966     2.0\n",
       "2004    17.8\n",
       "2180     2.9\n",
       "2197     3.1\n",
       "2229    17.6\n",
       "2256     2.6\n",
       "2345     0.0\n",
       "2362     0.0\n",
       "2371    18.2\n",
       "2513     0.0\n",
       "2534    18.0\n",
       "2669     1.1\n",
       "2733     0.0\n",
       "2816    18.3\n",
       "2906     0.0\n",
       "2918     0.0\n",
       "2933     2.1\n",
       "3022     2.9\n",
       "3160     2.1\n",
       "3216     2.4\n",
       "3234     2.5\n",
       "3275     0.0\n",
       "3290     0.0\n",
       "3307    17.8\n",
       "Name: Intl Mins, dtype: float64"
      ]
     },
     "execution_count": 26,
     "metadata": {},
     "output_type": "execute_result"
    }
   ],
   "source": [
    "q1_im, q3_im = np.percentile(df[\"Intl Mins\"],[25,75])    \n",
    "iqr_im = q3_im - q1_im  \n",
    "lower_im = q1_im - (1.5 * iqr_im)  \n",
    "upper_im = q3_im + (1.5 * iqr_im)  \n",
    "outliers_im = df[\"Intl Mins\"][(df[\"Intl Mins\"] < lower_im) | (df[\"Intl Mins\"] > upper_im)]\n",
    "outliers_im"
   ]
  },
  {
   "cell_type": "code",
   "execution_count": 27,
   "metadata": {
    "scrolled": true
   },
   "outputs": [
    {
     "data": {
      "text/plain": [
       "845    51\n",
       "Name: VMail Message, dtype: int64"
      ]
     },
     "execution_count": 27,
     "metadata": {},
     "output_type": "execute_result"
    }
   ],
   "source": [
    "q1_vm, q3_vm = np.percentile(df[\"VMail Message\"],[25,75])    \n",
    "iqr_vm = q3_vm - q1_vm  \n",
    "lower_vm = q1_vm - (1.5 * iqr_vm)  \n",
    "upper_vm = q3_vm + (1.5 * iqr_vm)  \n",
    "outliers_vm = df[\"VMail Message\"][(df[\"VMail Message\"] < lower_vm) | (df[\"VMail Message\"] > upper_vm)]\n",
    "outliers_vm"
   ]
  },
  {
   "cell_type": "markdown",
   "metadata": {},
   "source": [
    "### Conclusion:\n",
    "\n",
    "After analyzing this dataset, the following things were found: the records according to minutes, calls, and charge are normally distributed; 16.95% of the phones were churned; about 10% have international plans and they generally had 2 to 5 international calls; and about 80% have made customer service calls. The dataset didn't have any missing values and the continuous variables were normally distributed, hence it was a normal dataset. The histograms showing the distribution of the data gives good insights about the outliers also. The outliers were calculated using lower and upper boundaries found by the IQR times 1.5 for the continuous variables. The area code variable is disregarded because that's biased according to the phones in this dataset. As for the voicemail messages, there are mostly 0 messages but the histogram shows a range of outliers from 10 to 50. The overall observation seen was that this is a pay by the minute service since minutes and charge had 100% correlation and that minutes were the most significant factors."
   ]
  }
 ],
 "metadata": {
  "kernelspec": {
   "display_name": "Python 3",
   "language": "python",
   "name": "python3"
  },
  "language_info": {
   "codemirror_mode": {
    "name": "ipython",
    "version": 3
   },
   "file_extension": ".py",
   "mimetype": "text/x-python",
   "name": "python",
   "nbconvert_exporter": "python",
   "pygments_lexer": "ipython3",
   "version": "3.7.3"
  }
 },
 "nbformat": 4,
 "nbformat_minor": 2
}
