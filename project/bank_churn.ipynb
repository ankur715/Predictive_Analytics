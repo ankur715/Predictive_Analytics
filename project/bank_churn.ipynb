{
 "cells": [
  {
   "cell_type": "markdown",
   "metadata": {},
   "source": [
    "## Bank Churn\n",
    "\n",
    "### _- Ankur Patel_"
   ]
  },
  {
   "cell_type": "code",
   "execution_count": 7,
   "metadata": {},
   "outputs": [
    {
     "data": {
      "text/html": [
       "<img src=\"https://miro.medium.com/max/866/1*X-oZNRw5Pnef-kR9CgLx1g.png\" width=\"600\" height=\"200\"/>"
      ],
      "text/plain": [
       "<IPython.core.display.Image object>"
      ]
     },
     "execution_count": 7,
     "metadata": {},
     "output_type": "execute_result"
    }
   ],
   "source": [
    "from IPython.display import Image\n",
    "from IPython.core.display import HTML \n",
    "Image(url= \"https://miro.medium.com/max/866/1*X-oZNRw5Pnef-kR9CgLx1g.png\", width=600, height=200)"
   ]
  },
  {
   "cell_type": "markdown",
   "metadata": {},
   "source": [
    "### Introduction:\n",
    "\n",
    "The bank has been seen unusual churn rates for their customers (churn is when people leave the company). They want to understand the problem. Therefore, they hired you, as a data scientist, to look into their data set and give them insights / solutions. Six months ago the bank took a sample of their customers and measured some characteristics about their customers, such as credit score, geography, gender, age, tenure (how many years a customer is with the bank), balance, number of products a customer had with the bank, if he had a credit card, if he is an active member, estimated salary (the bank has estimated the salary based of the data they had), exited (if a customer has left the bank or not within the last six months). I will create a classification model to tell the bank which of the customers are at the highest risk of leaving.\n",
    "\n",
    "Dataset variables:\n",
    "- credit score\n",
    "- geography\n",
    "- gender\n",
    "- age\n",
    "- tenure (how many years a customer is with the bank)\n",
    "- balance\n",
    "- number of products a customer had with the bank\n",
    "- if he/she had a credit card\n",
    "- if he/she is an active member\n",
    "- estimated salary (the bank has estimated the salary based of the data they had)\n",
    "- exited (if a customer has left the bank or not within the last six months)\n",
    "\n",
    "I will be using Artificial Neural Networks ANN and Keras library that wraps Tensorflow and Theano libraries. Keras library lets you build deep learning models in a few lines of code. Keras was developed by François Chollet a machine learning scientist at Google. First, I have to install all three libraries.\n",
    "\n",
    "#### Theano\n",
    "- numerical computation library, very efficient for fast numerical computations based on Numpy syntax\n",
    "- GPU is much more powerful than CPU, as there are many more cores and run more floating points calculations per second\n",
    "- GPU is much more specialized for highly intensive computing tasks and parallel computations, exactly for the case for neural networks\n",
    "- When we're forward propogating the activations of the different neurons in the neural network thanks to the activation function well that involves parallel computations\n",
    "- When errors are backpropagated to the neural networks that again involves parallel computation\n",
    "- GPU is a much better choice for deep neural network than CPU - simple neural networks, CPU is sufficient\n",
    "- Created by Machine Learning group at the Univeristy of Montreal\n",
    "\n",
    "#### Tensorflow\n",
    "- Another numerical computation library that runs very fast computations that can run on your CPU or GPU\n",
    "- Google Brain, Apache 2.0 license\n",
    "- Theano & Tensorflow are used primarily for research and development in the deep learning field\n",
    "- Deep Learning neural network from scratch, use the above\n",
    "- Great for inventing new deep learning neural networks, deep learning models, lots of line of code\n",
    "\n",
    "#### Keras\n",
    "- Wrapper for Theano + Tensorflow\n",
    "- Amazing library to build deep neural networks in a few lines of code\n",
    "- Very powerful deep neural networks in few lines of code\n",
    "- based on Theano and Tensorflow\n",
    "- Sci-kit Learn (Machine Learning models), Keras (Deep Learning models)\n",
    "\n",
    "\n",
    "##### Installing Theano, Tensorflow in three steps with Anaconda installed:\n",
    "- $ pip install theano  \n",
    "\n",
    "- $ pip install tensorflow      \n",
    "\n",
    "- $ pip install keras      \n",
    "\n",
    "- $ conda update --all  "
   ]
  },
  {
   "cell_type": "markdown",
   "metadata": {},
   "source": [
    "### EDA \n",
    "### Data Preprocessing"
   ]
  },
  {
   "cell_type": "code",
   "execution_count": 22,
   "metadata": {},
   "outputs": [],
   "source": [
    "# importing libraries\n",
    "import pandas as pd\n",
    "import numpy as np\n",
    "import matplotlib.pyplot as plt\n",
    "%matplotlib inline\n",
    "from sklearn.preprocessing import LabelEncoder, OneHotEncoder\n",
    "from sklearn.model_selection import train_test_split\n",
    "from sklearn.preprocessing import MinMaxScaler\n",
    "import keras\n",
    "from keras.models import Sequential\n",
    "from keras.layers import Dense\n",
    "from keras.layers import Dropout\n",
    "from sklearn.metrics import confusion_matrix\n",
    "from keras.wrappers.scikit_learn import KerasClassifier\n",
    "from sklearn.model_selection import cross_val_score\n",
    "import warnings\n",
    "warnings.filterwarnings('ignore')"
   ]
  },
  {
   "cell_type": "code",
   "execution_count": 4,
   "metadata": {},
   "outputs": [
    {
     "data": {
      "text/html": [
       "<div>\n",
       "<style scoped>\n",
       "    .dataframe tbody tr th:only-of-type {\n",
       "        vertical-align: middle;\n",
       "    }\n",
       "\n",
       "    .dataframe tbody tr th {\n",
       "        vertical-align: top;\n",
       "    }\n",
       "\n",
       "    .dataframe thead th {\n",
       "        text-align: right;\n",
       "    }\n",
       "</style>\n",
       "<table border=\"1\" class=\"dataframe\">\n",
       "  <thead>\n",
       "    <tr style=\"text-align: right;\">\n",
       "      <th></th>\n",
       "      <th>RowNumber</th>\n",
       "      <th>CustomerId</th>\n",
       "      <th>Surname</th>\n",
       "      <th>CreditScore</th>\n",
       "      <th>Geography</th>\n",
       "      <th>Gender</th>\n",
       "      <th>Age</th>\n",
       "      <th>Tenure</th>\n",
       "      <th>Balance</th>\n",
       "      <th>NumOfProducts</th>\n",
       "      <th>HasCrCard</th>\n",
       "      <th>IsActiveMember</th>\n",
       "      <th>EstimatedSalary</th>\n",
       "      <th>Exited</th>\n",
       "    </tr>\n",
       "  </thead>\n",
       "  <tbody>\n",
       "    <tr>\n",
       "      <th>0</th>\n",
       "      <td>1</td>\n",
       "      <td>15634602</td>\n",
       "      <td>Hargrave</td>\n",
       "      <td>619</td>\n",
       "      <td>France</td>\n",
       "      <td>Female</td>\n",
       "      <td>42</td>\n",
       "      <td>2</td>\n",
       "      <td>0.00</td>\n",
       "      <td>1</td>\n",
       "      <td>1</td>\n",
       "      <td>1</td>\n",
       "      <td>101348.88</td>\n",
       "      <td>1</td>\n",
       "    </tr>\n",
       "    <tr>\n",
       "      <th>1</th>\n",
       "      <td>2</td>\n",
       "      <td>15647311</td>\n",
       "      <td>Hill</td>\n",
       "      <td>608</td>\n",
       "      <td>Spain</td>\n",
       "      <td>Female</td>\n",
       "      <td>41</td>\n",
       "      <td>1</td>\n",
       "      <td>83807.86</td>\n",
       "      <td>1</td>\n",
       "      <td>0</td>\n",
       "      <td>1</td>\n",
       "      <td>112542.58</td>\n",
       "      <td>0</td>\n",
       "    </tr>\n",
       "    <tr>\n",
       "      <th>2</th>\n",
       "      <td>3</td>\n",
       "      <td>15619304</td>\n",
       "      <td>Onio</td>\n",
       "      <td>502</td>\n",
       "      <td>France</td>\n",
       "      <td>Female</td>\n",
       "      <td>42</td>\n",
       "      <td>8</td>\n",
       "      <td>159660.80</td>\n",
       "      <td>3</td>\n",
       "      <td>1</td>\n",
       "      <td>0</td>\n",
       "      <td>113931.57</td>\n",
       "      <td>1</td>\n",
       "    </tr>\n",
       "    <tr>\n",
       "      <th>3</th>\n",
       "      <td>4</td>\n",
       "      <td>15701354</td>\n",
       "      <td>Boni</td>\n",
       "      <td>699</td>\n",
       "      <td>France</td>\n",
       "      <td>Female</td>\n",
       "      <td>39</td>\n",
       "      <td>1</td>\n",
       "      <td>0.00</td>\n",
       "      <td>2</td>\n",
       "      <td>0</td>\n",
       "      <td>0</td>\n",
       "      <td>93826.63</td>\n",
       "      <td>0</td>\n",
       "    </tr>\n",
       "    <tr>\n",
       "      <th>4</th>\n",
       "      <td>5</td>\n",
       "      <td>15737888</td>\n",
       "      <td>Mitchell</td>\n",
       "      <td>850</td>\n",
       "      <td>Spain</td>\n",
       "      <td>Female</td>\n",
       "      <td>43</td>\n",
       "      <td>2</td>\n",
       "      <td>125510.82</td>\n",
       "      <td>1</td>\n",
       "      <td>1</td>\n",
       "      <td>1</td>\n",
       "      <td>79084.10</td>\n",
       "      <td>0</td>\n",
       "    </tr>\n",
       "  </tbody>\n",
       "</table>\n",
       "</div>"
      ],
      "text/plain": [
       "   RowNumber  CustomerId   Surname  CreditScore Geography  Gender  Age  \\\n",
       "0          1    15634602  Hargrave          619    France  Female   42   \n",
       "1          2    15647311      Hill          608     Spain  Female   41   \n",
       "2          3    15619304      Onio          502    France  Female   42   \n",
       "3          4    15701354      Boni          699    France  Female   39   \n",
       "4          5    15737888  Mitchell          850     Spain  Female   43   \n",
       "\n",
       "   Tenure    Balance  NumOfProducts  HasCrCard  IsActiveMember  \\\n",
       "0       2       0.00              1          1               1   \n",
       "1       1   83807.86              1          0               1   \n",
       "2       8  159660.80              3          1               0   \n",
       "3       1       0.00              2          0               0   \n",
       "4       2  125510.82              1          1               1   \n",
       "\n",
       "   EstimatedSalary  Exited  \n",
       "0        101348.88       1  \n",
       "1        112542.58       0  \n",
       "2        113931.57       1  \n",
       "3         93826.63       0  \n",
       "4         79084.10       0  "
      ]
     },
     "execution_count": 4,
     "metadata": {},
     "output_type": "execute_result"
    }
   ],
   "source": [
    "# reading the dataset\n",
    "df = pd.read_csv(\"Bank_Churn.csv\")\n",
    "df.head()"
   ]
  },
  {
   "cell_type": "code",
   "execution_count": 9,
   "metadata": {},
   "outputs": [
    {
     "data": {
      "text/html": [
       "<div>\n",
       "<style scoped>\n",
       "    .dataframe tbody tr th:only-of-type {\n",
       "        vertical-align: middle;\n",
       "    }\n",
       "\n",
       "    .dataframe tbody tr th {\n",
       "        vertical-align: top;\n",
       "    }\n",
       "\n",
       "    .dataframe thead th {\n",
       "        text-align: right;\n",
       "    }\n",
       "</style>\n",
       "<table border=\"1\" class=\"dataframe\">\n",
       "  <thead>\n",
       "    <tr style=\"text-align: right;\">\n",
       "      <th></th>\n",
       "      <th>RowNumber</th>\n",
       "      <th>CustomerId</th>\n",
       "      <th>CreditScore</th>\n",
       "      <th>Age</th>\n",
       "      <th>Tenure</th>\n",
       "      <th>Balance</th>\n",
       "      <th>NumOfProducts</th>\n",
       "      <th>HasCrCard</th>\n",
       "      <th>IsActiveMember</th>\n",
       "      <th>EstimatedSalary</th>\n",
       "      <th>Exited</th>\n",
       "    </tr>\n",
       "  </thead>\n",
       "  <tbody>\n",
       "    <tr>\n",
       "      <th>count</th>\n",
       "      <td>10000.00000</td>\n",
       "      <td>1.000000e+04</td>\n",
       "      <td>10000.000000</td>\n",
       "      <td>10000.000000</td>\n",
       "      <td>10000.000000</td>\n",
       "      <td>10000.000000</td>\n",
       "      <td>10000.000000</td>\n",
       "      <td>10000.00000</td>\n",
       "      <td>10000.000000</td>\n",
       "      <td>10000.000000</td>\n",
       "      <td>10000.000000</td>\n",
       "    </tr>\n",
       "    <tr>\n",
       "      <th>mean</th>\n",
       "      <td>5000.50000</td>\n",
       "      <td>1.569094e+07</td>\n",
       "      <td>650.528800</td>\n",
       "      <td>38.921800</td>\n",
       "      <td>5.012800</td>\n",
       "      <td>76485.889288</td>\n",
       "      <td>1.530200</td>\n",
       "      <td>0.70550</td>\n",
       "      <td>0.515100</td>\n",
       "      <td>100090.239881</td>\n",
       "      <td>0.203700</td>\n",
       "    </tr>\n",
       "    <tr>\n",
       "      <th>std</th>\n",
       "      <td>2886.89568</td>\n",
       "      <td>7.193619e+04</td>\n",
       "      <td>96.653299</td>\n",
       "      <td>10.487806</td>\n",
       "      <td>2.892174</td>\n",
       "      <td>62397.405202</td>\n",
       "      <td>0.581654</td>\n",
       "      <td>0.45584</td>\n",
       "      <td>0.499797</td>\n",
       "      <td>57510.492818</td>\n",
       "      <td>0.402769</td>\n",
       "    </tr>\n",
       "    <tr>\n",
       "      <th>min</th>\n",
       "      <td>1.00000</td>\n",
       "      <td>1.556570e+07</td>\n",
       "      <td>350.000000</td>\n",
       "      <td>18.000000</td>\n",
       "      <td>0.000000</td>\n",
       "      <td>0.000000</td>\n",
       "      <td>1.000000</td>\n",
       "      <td>0.00000</td>\n",
       "      <td>0.000000</td>\n",
       "      <td>11.580000</td>\n",
       "      <td>0.000000</td>\n",
       "    </tr>\n",
       "    <tr>\n",
       "      <th>25%</th>\n",
       "      <td>2500.75000</td>\n",
       "      <td>1.562853e+07</td>\n",
       "      <td>584.000000</td>\n",
       "      <td>32.000000</td>\n",
       "      <td>3.000000</td>\n",
       "      <td>0.000000</td>\n",
       "      <td>1.000000</td>\n",
       "      <td>0.00000</td>\n",
       "      <td>0.000000</td>\n",
       "      <td>51002.110000</td>\n",
       "      <td>0.000000</td>\n",
       "    </tr>\n",
       "    <tr>\n",
       "      <th>50%</th>\n",
       "      <td>5000.50000</td>\n",
       "      <td>1.569074e+07</td>\n",
       "      <td>652.000000</td>\n",
       "      <td>37.000000</td>\n",
       "      <td>5.000000</td>\n",
       "      <td>97198.540000</td>\n",
       "      <td>1.000000</td>\n",
       "      <td>1.00000</td>\n",
       "      <td>1.000000</td>\n",
       "      <td>100193.915000</td>\n",
       "      <td>0.000000</td>\n",
       "    </tr>\n",
       "    <tr>\n",
       "      <th>75%</th>\n",
       "      <td>7500.25000</td>\n",
       "      <td>1.575323e+07</td>\n",
       "      <td>718.000000</td>\n",
       "      <td>44.000000</td>\n",
       "      <td>7.000000</td>\n",
       "      <td>127644.240000</td>\n",
       "      <td>2.000000</td>\n",
       "      <td>1.00000</td>\n",
       "      <td>1.000000</td>\n",
       "      <td>149388.247500</td>\n",
       "      <td>0.000000</td>\n",
       "    </tr>\n",
       "    <tr>\n",
       "      <th>max</th>\n",
       "      <td>10000.00000</td>\n",
       "      <td>1.581569e+07</td>\n",
       "      <td>850.000000</td>\n",
       "      <td>92.000000</td>\n",
       "      <td>10.000000</td>\n",
       "      <td>250898.090000</td>\n",
       "      <td>4.000000</td>\n",
       "      <td>1.00000</td>\n",
       "      <td>1.000000</td>\n",
       "      <td>199992.480000</td>\n",
       "      <td>1.000000</td>\n",
       "    </tr>\n",
       "  </tbody>\n",
       "</table>\n",
       "</div>"
      ],
      "text/plain": [
       "         RowNumber    CustomerId   CreditScore           Age        Tenure  \\\n",
       "count  10000.00000  1.000000e+04  10000.000000  10000.000000  10000.000000   \n",
       "mean    5000.50000  1.569094e+07    650.528800     38.921800      5.012800   \n",
       "std     2886.89568  7.193619e+04     96.653299     10.487806      2.892174   \n",
       "min        1.00000  1.556570e+07    350.000000     18.000000      0.000000   \n",
       "25%     2500.75000  1.562853e+07    584.000000     32.000000      3.000000   \n",
       "50%     5000.50000  1.569074e+07    652.000000     37.000000      5.000000   \n",
       "75%     7500.25000  1.575323e+07    718.000000     44.000000      7.000000   \n",
       "max    10000.00000  1.581569e+07    850.000000     92.000000     10.000000   \n",
       "\n",
       "             Balance  NumOfProducts    HasCrCard  IsActiveMember  \\\n",
       "count   10000.000000   10000.000000  10000.00000    10000.000000   \n",
       "mean    76485.889288       1.530200      0.70550        0.515100   \n",
       "std     62397.405202       0.581654      0.45584        0.499797   \n",
       "min         0.000000       1.000000      0.00000        0.000000   \n",
       "25%         0.000000       1.000000      0.00000        0.000000   \n",
       "50%     97198.540000       1.000000      1.00000        1.000000   \n",
       "75%    127644.240000       2.000000      1.00000        1.000000   \n",
       "max    250898.090000       4.000000      1.00000        1.000000   \n",
       "\n",
       "       EstimatedSalary        Exited  \n",
       "count     10000.000000  10000.000000  \n",
       "mean     100090.239881      0.203700  \n",
       "std       57510.492818      0.402769  \n",
       "min          11.580000      0.000000  \n",
       "25%       51002.110000      0.000000  \n",
       "50%      100193.915000      0.000000  \n",
       "75%      149388.247500      0.000000  \n",
       "max      199992.480000      1.000000  "
      ]
     },
     "execution_count": 9,
     "metadata": {},
     "output_type": "execute_result"
    }
   ],
   "source": [
    "# descriptive stats of numeric values\n",
    "df.describe()"
   ]
  },
  {
   "cell_type": "code",
   "execution_count": 11,
   "metadata": {
    "scrolled": false
   },
   "outputs": [
    {
     "data": {
      "text/plain": [
       "RowNumber          0\n",
       "CustomerId         0\n",
       "Surname            0\n",
       "CreditScore        0\n",
       "Geography          0\n",
       "Gender             0\n",
       "Age                0\n",
       "Tenure             0\n",
       "Balance            0\n",
       "NumOfProducts      0\n",
       "HasCrCard          0\n",
       "IsActiveMember     0\n",
       "EstimatedSalary    0\n",
       "Exited             0\n",
       "dtype: int64"
      ]
     },
     "execution_count": 11,
     "metadata": {},
     "output_type": "execute_result"
    }
   ],
   "source": [
    "# although the count was 10000 and the dataset size is 10000x14 meaning no nulls, always good to double check\n",
    "df.isnull().sum()"
   ]
  },
  {
   "cell_type": "code",
   "execution_count": 13,
   "metadata": {},
   "outputs": [],
   "source": [
    "# defining features and target\n",
    "# RowNumber, CustomerID, Surnameare excluded  \n",
    "X = df.iloc[:, 3:13].values  \n",
    "y = df.iloc[:, 13].values "
   ]
  },
  {
   "cell_type": "code",
   "execution_count": 42,
   "metadata": {
    "scrolled": true
   },
   "outputs": [
    {
     "name": "stdout",
     "output_type": "stream",
     "text": [
      "First two rows:\n",
      "\n",
      "Features:\n",
      " [[0.0000000e+00 0.0000000e+00 2.2800000e+02 0.0000000e+00 4.2000000e+01\n",
      "  2.0000000e+00 0.0000000e+00 1.0000000e+00 1.0000000e+00 1.0000000e+00\n",
      "  1.0134888e+05]\n",
      " [1.0000000e+00 0.0000000e+00 2.1700000e+02 0.0000000e+00 4.1000000e+01\n",
      "  1.0000000e+00 8.3807860e+04 1.0000000e+00 0.0000000e+00 1.0000000e+00\n",
      "  1.1254258e+05]]\n",
      "\n",
      "Target:\n",
      " [1 0]\n"
     ]
    }
   ],
   "source": [
    "print(\"First two rows:\\n\\nFeatures:\\n\",X[:2])\n",
    "print(\"\\nTarget:\\n\",y[:2])"
   ]
  },
  {
   "cell_type": "code",
   "execution_count": 75,
   "metadata": {},
   "outputs": [
    {
     "name": "stderr",
     "output_type": "stream",
     "text": [
      "No handles with labels found to put in legend.\n"
     ]
    },
    {
     "data": {
      "text/plain": [
       "<matplotlib.legend.Legend at 0x2068a538358>"
      ]
     },
     "execution_count": 75,
     "metadata": {},
     "output_type": "execute_result"
    },
    {
     "data": {
      "image/png": "[encoded data removed]",
      "text/plain": [
       "<Figure size 432x288 with 1 Axes>"
      ]
     },
     "metadata": {
      "needs_background": "light"
     },
     "output_type": "display_data"
    }
   ],
   "source": [
    "# distribution of Excited\n",
    "labels = [0,1]\n",
    "plt.bar(labels[0],df[df['Exited'] == 0]['Exited'].count(), width=0.1,color = 'black',edgecolor='yellow')\n",
    "plt.bar(labels[1],df[df['Exited'] == 1]['Exited'].count(),width=0.1,color = 'blue',edgecolor='yellow')\n",
    "plt.legend()"
   ]
  },
  {
   "cell_type": "code",
   "execution_count": 23,
   "metadata": {},
   "outputs": [],
   "source": [
    "# encoding categorical data\n",
    "# create dummy variables for categorical variables of Geography and Gender\n",
    "labelencoder_X_1, labelencoder_X_2 = LabelEncoder(), LabelEncoder()\n",
    "X[:, 1], X[:, 2] = labelencoder_X_1.fit_transform(X[:, 1]), labelencoder_X_2.fit_transform(X[:, 2])\n",
    "onehotencoder = OneHotEncoder(categorical_features = [1])\n",
    "X = onehotencoder.fit_transform(X).toarray()\n",
    "X = X[:, 1:]"
   ]
  },
  {
   "cell_type": "code",
   "execution_count": 25,
   "metadata": {},
   "outputs": [],
   "source": [
    "# splitting the dataset into the training set and test set\n",
    "X_train, X_test, y_train, y_test = train_test_split(X, y, test_size = 0.2, random_state = 0)"
   ]
  },
  {
   "cell_type": "code",
   "execution_count": 26,
   "metadata": {},
   "outputs": [],
   "source": [
    "# feature scaling\n",
    "mm = MinMaxScaler()\n",
    "X_train = mm.fit_transform(X_train)\n",
    "X_test = mm.transform(X_test)"
   ]
  },
  {
   "cell_type": "markdown",
   "metadata": {},
   "source": [
    "### Review (1):\n",
    "\n",
    "- Dataset size: 10000 x 14\n",
    "- No null values\n",
    "- _minimum estimated salary: 11.58 outlier_\n",
    "- Encoded the categorical variables of Geography and Gender using dummy variables\n",
    "- Split into train and test 80-20% set\n",
    "- Scaled features with MinMaxScaler()"
   ]
  },
  {
   "cell_type": "markdown",
   "metadata": {},
   "source": [
    "### Artificial Neural Network Clustering:"
   ]
  },
  {
   "cell_type": "markdown",
   "metadata": {},
   "source": [
    "#### _Model-1:_\n",
    "\n",
    "The first ANN model is with one hidden layer and having 6 nodes (Half of feature and target variables) with activation function of the hidden and the input layer as 'relu' (rectified linear units) and the output layer 'sigmoid' as we need binary result for our classification model. Then we compile the model with SGD 'adam' as its the best which can be used in this case.\n",
    "\n",
    "- https://github.com/keras-team/keras/blob/master/keras/activations.py\n",
    "- For output layer using sigmoid activation function, since we're interested in probabilities of a customer to leave the bank\n"
   ]
  },
  {
   "cell_type": "code",
   "execution_count": 138,
   "metadata": {},
   "outputs": [],
   "source": [
    "# sequential module - initialize neural network\n",
    "# initialising the ANN\n",
    "classifier = Sequential()"
   ]
  },
  {
   "cell_type": "code",
   "execution_count": 139,
   "metadata": {},
   "outputs": [],
   "source": [
    "# Dense - layers of ANN\n",
    "# input_dim is necessary for the first layer as it was just initialized\n",
    "classifier.add(Dense(output_dim=6, init='uniform', activation='relu', input_dim = 11))  #input layer \n",
    "classifier.add(Dense(output_dim=6, init='uniform', activation='relu'))  #hidden layer 1\n",
    "classifier.add(Dense(output_dim=1, init='uniform', activation='sigmoid'))  #output layer \n",
    "classifier.compile(optimizer='adam', loss='binary_crossentropy', metrics=['accuracy'])  #compiling result with SGD as adam\n",
    "# compiled the ANN - applied Stochastic Gradient Descent to whole ANN"
   ]
  },
  {
   "cell_type": "markdown",
   "metadata": {},
   "source": [
    "You could even use different activation functions for different neurons in the same layer. Different activation functions allow for different non-linearities which might work better for solving a specific function."
   ]
  },
  {
   "cell_type": "code",
   "execution_count": 130,
   "metadata": {
    "scrolled": true
   },
   "outputs": [
    {
     "name": "stdout",
     "output_type": "stream",
     "text": [
      "Epoch 1/100\n",
      "8000/8000 [==============================] - 22s 3ms/step - loss: 0.5163 - acc: 0.7960\n",
      "Epoch 2/100\n",
      "8000/8000 [==============================] - 6s 758us/step - loss: 0.4684 - acc: 0.7960\n",
      "Epoch 3/100\n",
      "8000/8000 [==============================] - 6s 762us/step - loss: 0.4538 - acc: 0.7960\n",
      "Epoch 4/100\n",
      "8000/8000 [==============================] - 6s 762us/step - loss: 0.4443 - acc: 0.7960\n",
      "Epoch 5/100\n",
      "8000/8000 [==============================] - 6s 772us/step - loss: 0.4369 - acc: 0.7966\n",
      "Epoch 6/100\n",
      "8000/8000 [==============================] - 8s 969us/step - loss: 0.4308 - acc: 0.8110\n",
      "Epoch 7/100\n",
      "8000/8000 [==============================] - 7s 818us/step - loss: 0.4277 - acc: 0.8176\n",
      "Epoch 8/100\n",
      "8000/8000 [==============================] - 7s 923us/step - loss: 0.4249 - acc: 0.8161\n",
      "Epoch 9/100\n",
      "8000/8000 [==============================] - 7s 869us/step - loss: 0.4232 - acc: 0.8224\n",
      "Epoch 10/100\n",
      "8000/8000 [==============================] - 7s 902us/step - loss: 0.4218 - acc: 0.8232\n",
      "Epoch 11/100\n",
      "8000/8000 [==============================] - 8s 1ms/step - loss: 0.4206 - acc: 0.8245\n",
      "Epoch 12/100\n",
      "8000/8000 [==============================] - 7s 899us/step - loss: 0.4190 - acc: 0.8262\n",
      "Epoch 13/100\n",
      "8000/8000 [==============================] - 8s 999us/step - loss: 0.4183 - acc: 0.8259\n",
      "Epoch 14/100\n",
      "8000/8000 [==============================] - 7s 919us/step - loss: 0.4166 - acc: 0.8285\n",
      "Epoch 15/100\n",
      "8000/8000 [==============================] - 9s 1ms/step - loss: 0.4156 - acc: 0.8304\n",
      "Epoch 16/100\n",
      "8000/8000 [==============================] - 8s 1ms/step - loss: 0.4150 - acc: 0.8301\n",
      "Epoch 17/100\n",
      "8000/8000 [==============================] - 8s 1ms/step - loss: 0.4135 - acc: 0.8296\n",
      "Epoch 18/100\n",
      "8000/8000 [==============================] - 8s 1ms/step - loss: 0.4130 - acc: 0.8317\n",
      "Epoch 19/100\n",
      "8000/8000 [==============================] - 9s 1ms/step - loss: 0.4124 - acc: 0.8311\n",
      "Epoch 20/100\n",
      "8000/8000 [==============================] - 8s 950us/step - loss: 0.4123 - acc: 0.8311\n",
      "Epoch 21/100\n",
      "8000/8000 [==============================] - 8s 1ms/step - loss: 0.4115 - acc: 0.8335\n",
      "Epoch 22/100\n",
      "8000/8000 [==============================] - 8s 962us/step - loss: 0.4112 - acc: 0.8305\n",
      "Epoch 23/100\n",
      "8000/8000 [==============================] - 7s 891us/step - loss: 0.4104 - acc: 0.8330\n",
      "Epoch 24/100\n",
      "8000/8000 [==============================] - 8s 960us/step - loss: 0.4100 - acc: 0.8326\n",
      "Epoch 25/100\n",
      "8000/8000 [==============================] - 9s 1ms/step - loss: 0.4097 - acc: 0.8324\n",
      "Epoch 26/100\n",
      "8000/8000 [==============================] - 8s 1ms/step - loss: 0.4089 - acc: 0.8320\n",
      "Epoch 27/100\n",
      "8000/8000 [==============================] - 8s 987us/step - loss: 0.4090 - acc: 0.8312\n",
      "Epoch 28/100\n",
      "8000/8000 [==============================] - 8s 1ms/step - loss: 0.4088 - acc: 0.8327\n",
      "Epoch 29/100\n",
      "8000/8000 [==============================] - 7s 915us/step - loss: 0.4079 - acc: 0.8332\n",
      "Epoch 30/100\n",
      "8000/8000 [==============================] - 8s 949us/step - loss: 0.4085 - acc: 0.8327\n",
      "Epoch 31/100\n",
      "8000/8000 [==============================] - 8s 954us/step - loss: 0.4075 - acc: 0.8334\n",
      "Epoch 32/100\n",
      "8000/8000 [==============================] - 8s 973us/step - loss: 0.4072 - acc: 0.8320\n",
      "Epoch 33/100\n",
      "8000/8000 [==============================] - 8s 1ms/step - loss: 0.4075 - acc: 0.8330\n",
      "Epoch 34/100\n",
      "8000/8000 [==============================] - 8s 971us/step - loss: 0.4069 - acc: 0.8326\n",
      "Epoch 35/100\n",
      "8000/8000 [==============================] - 8s 997us/step - loss: 0.4071 - acc: 0.8337\n",
      "Epoch 36/100\n",
      "8000/8000 [==============================] - 9s 1ms/step - loss: 0.4066 - acc: 0.8321\n",
      "Epoch 37/100\n",
      "8000/8000 [==============================] - 7s 829us/step - loss: 0.4064 - acc: 0.8330\n",
      "Epoch 38/100\n",
      "8000/8000 [==============================] - 8s 986us/step - loss: 0.4069 - acc: 0.8325\n",
      "Epoch 39/100\n",
      "8000/8000 [==============================] - 8s 1ms/step - loss: 0.4060 - acc: 0.8347\n",
      "Epoch 40/100\n",
      "8000/8000 [==============================] - 8s 958us/step - loss: 0.4051 - acc: 0.8339\n",
      "Epoch 41/100\n",
      "8000/8000 [==============================] - 7s 875us/step - loss: 0.4056 - acc: 0.8336\n",
      "Epoch 42/100\n",
      "8000/8000 [==============================] - 8s 967us/step - loss: 0.4061 - acc: 0.8351\n",
      "Epoch 43/100\n",
      "8000/8000 [==============================] - 8s 1ms/step - loss: 0.4051 - acc: 0.8340\n",
      "Epoch 44/100\n",
      "8000/8000 [==============================] - 8s 972us/step - loss: 0.4047 - acc: 0.8335\n",
      "Epoch 45/100\n",
      "8000/8000 [==============================] - 7s 919us/step - loss: 0.4045 - acc: 0.8349\n",
      "Epoch 46/100\n",
      "8000/8000 [==============================] - 6s 793us/step - loss: 0.4042 - acc: 0.8312\n",
      "Epoch 47/100\n",
      "8000/8000 [==============================] - 8s 976us/step - loss: 0.4030 - acc: 0.8351\n",
      "Epoch 48/100\n",
      "8000/8000 [==============================] - 6s 771us/step - loss: 0.4039 - acc: 0.8334\n",
      "Epoch 49/100\n",
      "8000/8000 [==============================] - 7s 930us/step - loss: 0.4032 - acc: 0.8325\n",
      "Epoch 50/100\n",
      "8000/8000 [==============================] - 7s 854us/step - loss: 0.4039 - acc: 0.8341\n",
      "Epoch 51/100\n",
      "8000/8000 [==============================] - 6s 780us/step - loss: 0.4036 - acc: 0.8322\n",
      "Epoch 52/100\n",
      "8000/8000 [==============================] - 7s 817us/step - loss: 0.4029 - acc: 0.8350\n",
      "Epoch 53/100\n",
      "8000/8000 [==============================] - 8s 1ms/step - loss: 0.4020 - acc: 0.8347\n",
      "Epoch 54/100\n",
      "8000/8000 [==============================] - 7s 930us/step - loss: 0.4025 - acc: 0.8337\n",
      "Epoch 55/100\n",
      "8000/8000 [==============================] - 8s 958us/step - loss: 0.4022 - acc: 0.8340\n",
      "Epoch 56/100\n",
      "8000/8000 [==============================] - 8s 968us/step - loss: 0.4014 - acc: 0.8331\n",
      "Epoch 57/100\n",
      "8000/8000 [==============================] - 7s 937us/step - loss: 0.4008 - acc: 0.8340\n",
      "Epoch 58/100\n",
      "8000/8000 [==============================] - 7s 858us/step - loss: 0.4009 - acc: 0.8337\n",
      "Epoch 59/100\n",
      "8000/8000 [==============================] - 8s 945us/step - loss: 0.4018 - acc: 0.8355\n",
      "Epoch 60/100\n",
      "8000/8000 [==============================] - 7s 886us/step - loss: 0.4007 - acc: 0.8349\n",
      "Epoch 61/100\n",
      "8000/8000 [==============================] - 8s 951us/step - loss: 0.4007 - acc: 0.8359\n",
      "Epoch 62/100\n",
      "8000/8000 [==============================] - 7s 839us/step - loss: 0.4010 - acc: 0.8355\n",
      "Epoch 63/100\n",
      "8000/8000 [==============================] - 8s 998us/step - loss: 0.4007 - acc: 0.8337\n",
      "Epoch 64/100\n",
      "8000/8000 [==============================] - 8s 992us/step - loss: 0.4005 - acc: 0.8349\n",
      "Epoch 65/100\n",
      "8000/8000 [==============================] - 8s 944us/step - loss: 0.4000 - acc: 0.8350\n",
      "Epoch 66/100\n",
      "8000/8000 [==============================] - 7s 930us/step - loss: 0.4005 - acc: 0.8352\n",
      "Epoch 67/100\n",
      "8000/8000 [==============================] - 6s 745us/step - loss: 0.4008 - acc: 0.8349\n",
      "Epoch 68/100\n",
      "8000/8000 [==============================] - 8s 972us/step - loss: 0.4005 - acc: 0.8352\n",
      "Epoch 69/100\n",
      "8000/8000 [==============================] - 7s 845us/step - loss: 0.3997 - acc: 0.8346\n",
      "Epoch 70/100\n",
      "8000/8000 [==============================] - 8s 965us/step - loss: 0.3997 - acc: 0.8362\n",
      "Epoch 71/100\n",
      "8000/8000 [==============================] - 8s 967us/step - loss: 0.3995 - acc: 0.8339\n",
      "Epoch 72/100\n",
      "8000/8000 [==============================] - 8s 941us/step - loss: 0.4002 - acc: 0.8351\n",
      "Epoch 73/100\n",
      "8000/8000 [==============================] - 7s 884us/step - loss: 0.3995 - acc: 0.8351\n",
      "Epoch 74/100\n",
      "8000/8000 [==============================] - 7s 847us/step - loss: 0.3996 - acc: 0.8335\n",
      "Epoch 75/100\n",
      "8000/8000 [==============================] - 8s 941us/step - loss: 0.3993 - acc: 0.8346\n",
      "Epoch 76/100\n",
      "8000/8000 [==============================] - 7s 912us/step - loss: 0.4001 - acc: 0.8334\n",
      "Epoch 77/100\n",
      "8000/8000 [==============================] - 7s 925us/step - loss: 0.3989 - acc: 0.8341\n",
      "Epoch 78/100\n",
      "8000/8000 [==============================] - 7s 861us/step - loss: 0.3999 - acc: 0.8329\n",
      "Epoch 79/100\n",
      "8000/8000 [==============================] - 7s 891us/step - loss: 0.3994 - acc: 0.8334\n",
      "Epoch 80/100\n",
      "8000/8000 [==============================] - 7s 903us/step - loss: 0.3990 - acc: 0.8350\n",
      "Epoch 81/100\n",
      "8000/8000 [==============================] - 7s 827us/step - loss: 0.3986 - acc: 0.8365\n",
      "Epoch 82/100\n"
     ]
    },
    {
     "name": "stdout",
     "output_type": "stream",
     "text": [
      "8000/8000 [==============================] - 7s 872us/step - loss: 0.3985 - acc: 0.8331\n",
      "Epoch 83/100\n",
      "8000/8000 [==============================] - 8s 1ms/step - loss: 0.3987 - acc: 0.8354\n",
      "Epoch 84/100\n",
      "8000/8000 [==============================] - 8s 978us/step - loss: 0.3986 - acc: 0.8349\n",
      "Epoch 85/100\n",
      "8000/8000 [==============================] - 8s 1ms/step - loss: 0.3985 - acc: 0.8352\n",
      "Epoch 86/100\n",
      "8000/8000 [==============================] - 5s 673us/step - loss: 0.3993 - acc: 0.8332\n",
      "Epoch 87/100\n",
      "8000/8000 [==============================] - 5s 622us/step - loss: 0.3987 - acc: 0.8357\n",
      "Epoch 88/100\n",
      "8000/8000 [==============================] - 6s 763us/step - loss: 0.3983 - acc: 0.8344\n",
      "Epoch 89/100\n",
      "8000/8000 [==============================] - 7s 878us/step - loss: 0.3999 - acc: 0.8340\n",
      "Epoch 90/100\n",
      "8000/8000 [==============================] - 7s 913us/step - loss: 0.3985 - acc: 0.8361\n",
      "Epoch 91/100\n",
      "8000/8000 [==============================] - 7s 902us/step - loss: 0.3987 - acc: 0.8336\n",
      "Epoch 92/100\n",
      "8000/8000 [==============================] - 8s 958us/step - loss: 0.3982 - acc: 0.8354\n",
      "Epoch 93/100\n",
      "8000/8000 [==============================] - 8s 939us/step - loss: 0.3988 - acc: 0.8342\n",
      "Epoch 94/100\n",
      "8000/8000 [==============================] - 8s 997us/step - loss: 0.3985 - acc: 0.8351\n",
      "Epoch 95/100\n",
      "8000/8000 [==============================] - 7s 898us/step - loss: 0.3997 - acc: 0.8331\n",
      "Epoch 96/100\n",
      "8000/8000 [==============================] - 8s 995us/step - loss: 0.3983 - acc: 0.8327\n",
      "Epoch 97/100\n",
      "8000/8000 [==============================] - 8s 1ms/step - loss: 0.3977 - acc: 0.8359\n",
      "Epoch 98/100\n",
      "8000/8000 [==============================] - 8s 952us/step - loss: 0.3986 - acc: 0.8339\n",
      "Epoch 99/100\n",
      "8000/8000 [==============================] - 8s 989us/step - loss: 0.3976 - acc: 0.8335\n",
      "Epoch 100/100\n",
      "8000/8000 [==============================] - 7s 919us/step - loss: 0.3988 - acc: 0.8334\n"
     ]
    },
    {
     "data": {
      "text/plain": [
       "<keras.callbacks.History at 0x20693d0fcf8>"
      ]
     },
     "execution_count": 130,
     "metadata": {},
     "output_type": "execute_result"
    }
   ],
   "source": [
    "# fitting the Neural network model on the testing data \n",
    "classifier.fit(X_train, y_train, batch_size = 10, nb_epoch = 100)"
   ]
  },
  {
   "cell_type": "code",
   "execution_count": 141,
   "metadata": {
    "scrolled": false
   },
   "outputs": [
    {
     "data": {
      "image/png": "[encoded data removed]",
      "text/plain": [
       "<Figure size 576x432 with 1 Axes>"
      ]
     },
     "metadata": {
      "needs_background": "light"
     },
     "output_type": "display_data"
    },
    {
     "data": {
      "image/png": "[encoded data removed]",
      "text/plain": [
       "<Figure size 576x432 with 1 Axes>"
      ]
     },
     "metadata": {
      "needs_background": "light"
     },
     "output_type": "display_data"
    }
   ],
   "source": [
    "# visualize\n",
    "\n",
    "model1 = classifier.fit(X_train, y_train, batch_size = 10, nb_epoch = 100)\n",
    "\n",
    "# accuracy\n",
    "plt.figure(0)\n",
    "plt.plot(model1.history['acc'],'r')\n",
    "# plt.plot(model1.history['val_acc'],'g')\n",
    "plt.xticks(np.arange(0, 11, 2.0))\n",
    "plt.rcParams['figure.figsize'] = (8, 6)\n",
    "plt.xlabel(\"Epochs\")\n",
    "plt.ylabel(\"Accuracy\")\n",
    "plt.title(\"Training Accuracy\")\n",
    "plt.legend(['Train','Test'])\n",
    " \n",
    "# loss     \n",
    "plt.figure(1)\n",
    "plt.plot(model1.history['loss'],'r')\n",
    "# plt.plot(model1.history['val_loss'],'g')\n",
    "plt.xticks(np.arange(0, 11, 2.0))\n",
    "plt.rcParams['figure.figsize'] = (8, 6)\n",
    "plt.xlabel(\"Epochs\")\n",
    "plt.ylabel(\"Loss\")\n",
    "plt.title(\"Training Loss\")\n",
    "plt.legend(['train','test'])\n",
    " \n",
    "plt.show()"
   ]
  },
  {
   "cell_type": "markdown",
   "metadata": {},
   "source": [
    "Epochs increased substantially after 6 and kept growing till aroung 0.83, which is when it fluctuated mininally at that."
   ]
  },
  {
   "cell_type": "code",
   "execution_count": 96,
   "metadata": {},
   "outputs": [],
   "source": [
    "# predicting the testing set results\n",
    "y_pred = classifier.predict(X_test)\n",
    "y_pred = (y_pred > 0.5)"
   ]
  },
  {
   "cell_type": "code",
   "execution_count": 97,
   "metadata": {
    "scrolled": true
   },
   "outputs": [
    {
     "name": "stdout",
     "output_type": "stream",
     "text": [
      "[[1562   33]\n",
      " [ 297  108]]\n"
     ]
    }
   ],
   "source": [
    "# creating the confusion matrix \n",
    "cm = confusion_matrix(y_test, y_pred)\n",
    "print(cm)"
   ]
  },
  {
   "cell_type": "code",
   "execution_count": 98,
   "metadata": {},
   "outputs": [
    {
     "data": {
      "text/plain": [
       "0.835"
      ]
     },
     "execution_count": 98,
     "metadata": {},
     "output_type": "execute_result"
    }
   ],
   "source": [
    "# calculating the accuracy of the model\n",
    "accuracy_ANN = (cm[0,0]+cm[1,1]) / (cm[0,0]+cm[0,1]+cm[1,0]+cm[1,1])\n",
    "accuracy_ANN"
   ]
  },
  {
   "cell_type": "markdown",
   "metadata": {},
   "source": [
    "#### Specificity:\n",
    "Specificity (also called the true negative rate) measures the proportion of actual negatives that are correctly identified. Specificity relates to the test's ability to correctly reject customers who did not churn and actually didn't churn."
   ]
  },
  {
   "cell_type": "code",
   "execution_count": 99,
   "metadata": {},
   "outputs": [
    {
     "data": {
      "text/plain": [
       "0.7659574468085106"
      ]
     },
     "execution_count": 99,
     "metadata": {},
     "output_type": "execute_result"
    }
   ],
   "source": [
    "# specificity of the model\n",
    "specificity_ANN =(cm[1,1]/(cm[1,1]+cm[0,1]))\n",
    "specificity_ANN"
   ]
  },
  {
   "cell_type": "markdown",
   "metadata": {},
   "source": [
    "#### Sensitivity:\n",
    "Sensitivity (also called the true positive rate) measures the proportion of actual positives that are correctly identified. Sensitivity refers to the test's ability to correctly detect people who are going to churn and actually do churn."
   ]
  },
  {
   "cell_type": "code",
   "execution_count": 100,
   "metadata": {},
   "outputs": [
    {
     "data": {
      "text/plain": [
       "0.8402366863905325"
      ]
     },
     "execution_count": 100,
     "metadata": {},
     "output_type": "execute_result"
    }
   ],
   "source": [
    "# sensitivity of the model\n",
    "sensitivity_ANN =(cm[0,0]/(cm[0,0]+cm[1,0]))\n",
    "sensitivity_ANN"
   ]
  },
  {
   "cell_type": "code",
   "execution_count": 101,
   "metadata": {
    "scrolled": false
   },
   "outputs": [
    {
     "name": "stdout",
     "output_type": "stream",
     "text": [
      "2000/2000 [==============================] - 4s 2ms/step\n"
     ]
    },
    {
     "data": {
      "text/plain": [
       "[0.18488434934616088, 1.0]"
      ]
     },
     "execution_count": 101,
     "metadata": {},
     "output_type": "execute_result"
    }
   ],
   "source": [
    "# loss function \n",
    "classifier.evaluate(X_test, y_pred, verbose=1)"
   ]
  },
  {
   "cell_type": "markdown",
   "metadata": {},
   "source": [
    "#### _Model-2:_\n"
   ]
  },
  {
   "cell_type": "code",
   "execution_count": 142,
   "metadata": {},
   "outputs": [],
   "source": [
    "# creating another model with different activation and second hidden layer \n",
    "classifier1 = Sequential()\n",
    "classifier1.add(Dense(output_dim = 6, init = 'uniform', activation = 'tanh', input_dim = 11))\n",
    "classifier1.add(Dense(output_dim = 6, init = 'uniform', activation = 'tanh'))\n",
    "classifier1.add(Dense(output_dim = 1, init = 'uniform', activation = 'sigmoid'))\n",
    "classifier1.compile(optimizer = 'adam', loss = 'binary_crossentropy', metrics = ['accuracy'])"
   ]
  },
  {
   "cell_type": "code",
   "execution_count": 125,
   "metadata": {
    "scrolled": true
   },
   "outputs": [
    {
     "name": "stdout",
     "output_type": "stream",
     "text": [
      "Epoch 1/100\n",
      "8000/8000 [==============================] - 18s 2ms/step - loss: 0.5186 - acc: 0.7956\n",
      "Epoch 2/100\n",
      "8000/8000 [==============================] - 6s 719us/step - loss: 0.4593 - acc: 0.8012\n",
      "Epoch 3/100\n",
      "8000/8000 [==============================] - 6s 715us/step - loss: 0.4418 - acc: 0.8090\n",
      "Epoch 4/100\n",
      "8000/8000 [==============================] - ETA: 0s - loss: 0.4360 - acc: 0.810 - 6s 729us/step - loss: 0.4354 - acc: 0.8110\n",
      "Epoch 5/100\n",
      "8000/8000 [==============================] - 6s 737us/step - loss: 0.4332 - acc: 0.8109\n",
      "Epoch 6/100\n",
      "8000/8000 [==============================] - 5s 674us/step - loss: 0.4329 - acc: 0.8112\n",
      "Epoch 7/100\n",
      "8000/8000 [==============================] - 6s 712us/step - loss: 0.4322 - acc: 0.8115\n",
      "Epoch 8/100\n",
      "8000/8000 [==============================] - 6s 726us/step - loss: 0.4320 - acc: 0.8107\n",
      "Epoch 9/100\n",
      "8000/8000 [==============================] - 6s 778us/step - loss: 0.4318 - acc: 0.8114\n",
      "Epoch 10/100\n",
      "8000/8000 [==============================] - 7s 829us/step - loss: 0.4315 - acc: 0.8089\n",
      "Epoch 11/100\n",
      "8000/8000 [==============================] - 7s 859us/step - loss: 0.4309 - acc: 0.8106\n",
      "Epoch 12/100\n",
      "8000/8000 [==============================] - 6s 700us/step - loss: 0.4312 - acc: 0.8101\n",
      "Epoch 13/100\n",
      "8000/8000 [==============================] - 6s 715us/step - loss: 0.4301 - acc: 0.8112\n",
      "Epoch 14/100\n",
      "8000/8000 [==============================] - 5s 675us/step - loss: 0.4301 - acc: 0.8110\n",
      "Epoch 15/100\n",
      "8000/8000 [==============================] - 6s 757us/step - loss: 0.4294 - acc: 0.8116\n",
      "Epoch 16/100\n",
      "8000/8000 [==============================] - 6s 796us/step - loss: 0.4288 - acc: 0.8095\n",
      "Epoch 17/100\n",
      "8000/8000 [==============================] - 7s 887us/step - loss: 0.4275 - acc: 0.8144\n",
      "Epoch 18/100\n",
      "8000/8000 [==============================] - 6s 757us/step - loss: 0.4265 - acc: 0.8129\n",
      "Epoch 19/100\n",
      "8000/8000 [==============================] - 7s 813us/step - loss: 0.4256 - acc: 0.8137\n",
      "Epoch 20/100\n",
      "8000/8000 [==============================] - 8s 941us/step - loss: 0.4242 - acc: 0.8139\n",
      "Epoch 21/100\n",
      "8000/8000 [==============================] - 5s 686us/step - loss: 0.4231 - acc: 0.8169\n",
      "Epoch 22/100\n",
      "8000/8000 [==============================] - 6s 732us/step - loss: 0.4225 - acc: 0.8174\n",
      "Epoch 23/100\n",
      "8000/8000 [==============================] - 6s 798us/step - loss: 0.4204 - acc: 0.8191\n",
      "Epoch 24/100\n",
      "8000/8000 [==============================] - 6s 742us/step - loss: 0.4190 - acc: 0.8189\n",
      "Epoch 25/100\n",
      "8000/8000 [==============================] - 6s 747us/step - loss: 0.4175 - acc: 0.8234\n",
      "Epoch 26/100\n",
      "8000/8000 [==============================] - 6s 702us/step - loss: 0.4151 - acc: 0.8254\n",
      "Epoch 27/100\n",
      "8000/8000 [==============================] - 6s 739us/step - loss: 0.4148 - acc: 0.8255\n",
      "Epoch 28/100\n",
      "8000/8000 [==============================] - 6s 727us/step - loss: 0.4124 - acc: 0.8262\n",
      "Epoch 29/100\n",
      "8000/8000 [==============================] - 6s 715us/step - loss: 0.4104 - acc: 0.8277\n",
      "Epoch 30/100\n",
      "8000/8000 [==============================] - 6s 692us/step - loss: 0.4086 - acc: 0.8286\n",
      "Epoch 31/100\n",
      "8000/8000 [==============================] - 6s 699us/step - loss: 0.4065 - acc: 0.8291\n",
      "Epoch 32/100\n",
      "8000/8000 [==============================] - 6s 705us/step - loss: 0.4045 - acc: 0.8294\n",
      "Epoch 33/100\n",
      "8000/8000 [==============================] - 6s 708us/step - loss: 0.4012 - acc: 0.8321\n",
      "Epoch 34/100\n",
      "8000/8000 [==============================] - 6s 699us/step - loss: 0.3971 - acc: 0.8314\n",
      "Epoch 35/100\n",
      "8000/8000 [==============================] - 6s 714us/step - loss: 0.3933 - acc: 0.8339\n",
      "Epoch 36/100\n",
      "8000/8000 [==============================] - 6s 705us/step - loss: 0.3907 - acc: 0.8354\n",
      "Epoch 37/100\n",
      "8000/8000 [==============================] - 6s 765us/step - loss: 0.3856 - acc: 0.8377\n",
      "Epoch 38/100\n",
      "8000/8000 [==============================] - 6s 754us/step - loss: 0.3807 - acc: 0.8391\n",
      "Epoch 39/100\n",
      "8000/8000 [==============================] - 6s 744us/step - loss: 0.3760 - acc: 0.8404\n",
      "Epoch 40/100\n",
      "8000/8000 [==============================] - 6s 809us/step - loss: 0.3733 - acc: 0.8441\n",
      "Epoch 41/100\n",
      "8000/8000 [==============================] - 6s 732us/step - loss: 0.3695 - acc: 0.8480\n",
      "Epoch 42/100\n",
      "8000/8000 [==============================] - 6s 747us/step - loss: 0.3664 - acc: 0.8482\n",
      "Epoch 43/100\n",
      "8000/8000 [==============================] - 6s 721us/step - loss: 0.3632 - acc: 0.8492\n",
      "Epoch 44/100\n",
      "8000/8000 [==============================] - 6s 708us/step - loss: 0.3612 - acc: 0.8501\n",
      "Epoch 45/100\n",
      "8000/8000 [==============================] - 6s 709us/step - loss: 0.3590 - acc: 0.8525\n",
      "Epoch 46/100\n",
      "8000/8000 [==============================] - 6s 703us/step - loss: 0.3578 - acc: 0.8540\n",
      "Epoch 47/100\n",
      "8000/8000 [==============================] - 6s 706us/step - loss: 0.3576 - acc: 0.8531\n",
      "Epoch 48/100\n",
      "8000/8000 [==============================] - 6s 712us/step - loss: 0.3579 - acc: 0.8521\n",
      "Epoch 49/100\n",
      "8000/8000 [==============================] - 6s 702us/step - loss: 0.3566 - acc: 0.8530\n",
      "Epoch 50/100\n",
      "8000/8000 [==============================] - 6s 714us/step - loss: 0.3551 - acc: 0.8525\n",
      "Epoch 51/100\n",
      "8000/8000 [==============================] - 6s 711us/step - loss: 0.3549 - acc: 0.8534\n",
      "Epoch 52/100\n",
      "8000/8000 [==============================] - 6s 703us/step - loss: 0.3542 - acc: 0.8537\n",
      "Epoch 53/100\n",
      "8000/8000 [==============================] - 6s 703us/step - loss: 0.3544 - acc: 0.8555\n",
      "Epoch 54/100\n",
      "8000/8000 [==============================] - 6s 702us/step - loss: 0.3538 - acc: 0.8539\n",
      "Epoch 55/100\n",
      "8000/8000 [==============================] - 6s 724us/step - loss: 0.3534 - acc: 0.8554\n",
      "Epoch 56/100\n",
      "8000/8000 [==============================] - 6s 705us/step - loss: 0.3529 - acc: 0.8532\n",
      "Epoch 57/100\n",
      "8000/8000 [==============================] - 6s 711us/step - loss: 0.3527 - acc: 0.8535\n",
      "Epoch 58/100\n",
      "8000/8000 [==============================] - 6s 705us/step - loss: 0.3527 - acc: 0.8547\n",
      "Epoch 59/100\n",
      "8000/8000 [==============================] - 6s 728us/step - loss: 0.3527 - acc: 0.8542\n",
      "Epoch 60/100\n",
      "8000/8000 [==============================] - 6s 769us/step - loss: 0.3520 - acc: 0.8564\n",
      "Epoch 61/100\n",
      "8000/8000 [==============================] - 6s 729us/step - loss: 0.3521 - acc: 0.8554\n",
      "Epoch 62/100\n",
      "8000/8000 [==============================] - 6s 723us/step - loss: 0.3518 - acc: 0.8542\n",
      "Epoch 63/100\n",
      "8000/8000 [==============================] - 6s 732us/step - loss: 0.3517 - acc: 0.8556\n",
      "Epoch 64/100\n",
      "8000/8000 [==============================] - 6s 724us/step - loss: 0.3519 - acc: 0.8551\n",
      "Epoch 65/100\n",
      "8000/8000 [==============================] - 6s 733us/step - loss: 0.3508 - acc: 0.8564\n",
      "Epoch 66/100\n",
      "8000/8000 [==============================] - 6s 726us/step - loss: 0.3523 - acc: 0.8536\n",
      "Epoch 67/100\n",
      "8000/8000 [==============================] - 6s 728us/step - loss: 0.3511 - acc: 0.8550\n",
      "Epoch 68/100\n",
      "8000/8000 [==============================] - 6s 727us/step - loss: 0.3501 - acc: 0.8571\n",
      "Epoch 69/100\n",
      "8000/8000 [==============================] - 6s 716us/step - loss: 0.3511 - acc: 0.8541\n",
      "Epoch 70/100\n",
      "8000/8000 [==============================] - 6s 708us/step - loss: 0.3491 - acc: 0.8574\n",
      "Epoch 71/100\n",
      "8000/8000 [==============================] - 6s 716us/step - loss: 0.3505 - acc: 0.8567\n",
      "Epoch 72/100\n",
      "8000/8000 [==============================] - 6s 715us/step - loss: 0.3495 - acc: 0.8565\n",
      "Epoch 73/100\n",
      "8000/8000 [==============================] - 6s 716us/step - loss: 0.3504 - acc: 0.8580\n",
      "Epoch 74/100\n",
      "8000/8000 [==============================] - 6s 707us/step - loss: 0.3500 - acc: 0.8566\n",
      "Epoch 75/100\n",
      "8000/8000 [==============================] - 6s 710us/step - loss: 0.3500 - acc: 0.8584\n",
      "Epoch 76/100\n",
      "8000/8000 [==============================] - 6s 702us/step - loss: 0.3492 - acc: 0.8559\n",
      "Epoch 77/100\n",
      "8000/8000 [==============================] - 6s 707us/step - loss: 0.3500 - acc: 0.8564\n",
      "Epoch 78/100\n",
      "8000/8000 [==============================] - 6s 699us/step - loss: 0.3490 - acc: 0.8584\n",
      "Epoch 79/100\n",
      "8000/8000 [==============================] - 6s 712us/step - loss: 0.3491 - acc: 0.8586\n",
      "Epoch 80/100\n",
      "8000/8000 [==============================] - 6s 706us/step - loss: 0.3486 - acc: 0.8571\n",
      "Epoch 81/100\n"
     ]
    },
    {
     "name": "stdout",
     "output_type": "stream",
     "text": [
      "8000/8000 [==============================] - 6s 706us/step - loss: 0.3496 - acc: 0.8565\n",
      "Epoch 82/100\n",
      "8000/8000 [==============================] - 6s 705us/step - loss: 0.3485 - acc: 0.8552\n",
      "Epoch 83/100\n",
      "8000/8000 [==============================] - 6s 694us/step - loss: 0.3490 - acc: 0.8562\n",
      "Epoch 84/100\n",
      "8000/8000 [==============================] - 6s 690us/step - loss: 0.3487 - acc: 0.8585\n",
      "Epoch 85/100\n",
      "8000/8000 [==============================] - 6s 700us/step - loss: 0.3483 - acc: 0.8571\n",
      "Epoch 86/100\n",
      "8000/8000 [==============================] - 6s 692us/step - loss: 0.3491 - acc: 0.8586\n",
      "Epoch 87/100\n",
      "8000/8000 [==============================] - 6s 693us/step - loss: 0.3482 - acc: 0.8554 1s - loss:\n",
      "Epoch 88/100\n",
      "8000/8000 [==============================] - 6s 694us/step - loss: 0.3479 - acc: 0.8584\n",
      "Epoch 89/100\n",
      "8000/8000 [==============================] - 6s 696us/step - loss: 0.3498 - acc: 0.8575\n",
      "Epoch 90/100\n",
      "8000/8000 [==============================] - 6s 708us/step - loss: 0.3477 - acc: 0.8572\n",
      "Epoch 91/100\n",
      "8000/8000 [==============================] - 6s 723us/step - loss: 0.3486 - acc: 0.8565\n",
      "Epoch 92/100\n",
      "8000/8000 [==============================] - 6s 692us/step - loss: 0.3489 - acc: 0.8574\n",
      "Epoch 93/100\n",
      "8000/8000 [==============================] - 6s 692us/step - loss: 0.3481 - acc: 0.8576\n",
      "Epoch 94/100\n",
      "8000/8000 [==============================] - 5s 687us/step - loss: 0.3484 - acc: 0.8577\n",
      "Epoch 95/100\n",
      "8000/8000 [==============================] - 6s 701us/step - loss: 0.3471 - acc: 0.8577\n",
      "Epoch 96/100\n",
      "8000/8000 [==============================] - 6s 704us/step - loss: 0.3483 - acc: 0.8536\n",
      "Epoch 97/100\n",
      "8000/8000 [==============================] - 7s 819us/step - loss: 0.3477 - acc: 0.8571\n",
      "Epoch 98/100\n",
      "8000/8000 [==============================] - 8s 989us/step - loss: 0.3474 - acc: 0.8569\n",
      "Epoch 99/100\n",
      "8000/8000 [==============================] - 6s 759us/step - loss: 0.3474 - acc: 0.8551\n",
      "Epoch 100/100\n",
      "8000/8000 [==============================] - 6s 747us/step - loss: 0.3489 - acc: 0.8570\n"
     ]
    },
    {
     "data": {
      "text/plain": [
       "<keras.callbacks.History at 0x20693860f60>"
      ]
     },
     "execution_count": 125,
     "metadata": {},
     "output_type": "execute_result"
    }
   ],
   "source": [
    "# fitting the model\n",
    "classifier1.fit(X_train, y_train, batch_size = 10, nb_epoch = 100)"
   ]
  },
  {
   "cell_type": "code",
   "execution_count": 144,
   "metadata": {},
   "outputs": [
    {
     "data": {
      "image/png": "[encoded data removed]",
      "text/plain": [
       "<Figure size 576x432 with 1 Axes>"
      ]
     },
     "metadata": {
      "needs_background": "light"
     },
     "output_type": "display_data"
    },
    {
     "data": {
      "image/png": "[encoded data removed]",
      "text/plain": [
       "<Figure size 576x432 with 1 Axes>"
      ]
     },
     "metadata": {
      "needs_background": "light"
     },
     "output_type": "display_data"
    }
   ],
   "source": [
    "# visualize\n",
    "\n",
    "model2 = classifier.fit(X_train, y_train, batch_size = 10, nb_epoch = 50)\n",
    "\n",
    "# accuracy\n",
    "plt.figure(0)\n",
    "plt.plot(model2.history['acc'],'r')\n",
    "# plt.plot(model1.history['val_acc'],'g')\n",
    "plt.xticks(np.arange(0, 11, 2.0))\n",
    "plt.rcParams['figure.figsize'] = (8, 6)\n",
    "plt.xlabel(\"Epochs\")\n",
    "plt.ylabel(\"Accuracy\")\n",
    "plt.title(\"Training Accuracy\")\n",
    "plt.legend(['Train','Test'])\n",
    " \n",
    "# loss     \n",
    "plt.figure(1)\n",
    "plt.plot(model2.history['loss'],'r')\n",
    "# plt.plot(model1.history['val_loss'],'g')\n",
    "plt.xticks(np.arange(0, 11, 2.0))\n",
    "plt.rcParams['figure.figsize'] = (8, 6)\n",
    "plt.xlabel(\"Epochs\")\n",
    "plt.ylabel(\"Loss\")\n",
    "plt.title(\"Training Loss\")\n",
    "plt.legend(['train','test'])\n",
    " \n",
    "plt.show()"
   ]
  },
  {
   "cell_type": "code",
   "execution_count": 106,
   "metadata": {},
   "outputs": [],
   "source": [
    "# predicting the target values using the model on testing data \n",
    "y_pred1 = classifier1.predict(X_test)\n",
    "y_pred1 = (y_pred1 > 0.5)"
   ]
  },
  {
   "cell_type": "code",
   "execution_count": 107,
   "metadata": {},
   "outputs": [
    {
     "name": "stdout",
     "output_type": "stream",
     "text": [
      "[[1511   84]\n",
      " [ 211  194]]\n"
     ]
    }
   ],
   "source": [
    "# confusion matrix \n",
    "cm1 = confusion_matrix(y_test, y_pred1)\n",
    "print(cm1)"
   ]
  },
  {
   "cell_type": "code",
   "execution_count": 108,
   "metadata": {},
   "outputs": [
    {
     "data": {
      "text/plain": [
       "0.8525"
      ]
     },
     "execution_count": 108,
     "metadata": {},
     "output_type": "execute_result"
    }
   ],
   "source": [
    "# accuracy of the model\n",
    "accuracy_ANN1 = (cm1[0,0]+cm1[1,1])/ (cm1[0,0]+cm1[0,1]+cm1[1,0]+cm1[1,1])\n",
    "accuracy_ANN1"
   ]
  },
  {
   "cell_type": "code",
   "execution_count": 109,
   "metadata": {},
   "outputs": [
    {
     "data": {
      "text/plain": [
       "0.697841726618705"
      ]
     },
     "execution_count": 109,
     "metadata": {},
     "output_type": "execute_result"
    }
   ],
   "source": [
    "# specificity of the model\n",
    "specificity_ANN1 =(cm1[1,1]/(cm1[1,1]+cm1[0,1]))\n",
    "specificity_ANN1"
   ]
  },
  {
   "cell_type": "code",
   "execution_count": 110,
   "metadata": {},
   "outputs": [
    {
     "data": {
      "text/plain": [
       "0.8774680603948897"
      ]
     },
     "execution_count": 110,
     "metadata": {},
     "output_type": "execute_result"
    }
   ],
   "source": [
    "# sensitivity of the model\n",
    "sensitivity_ANN1 =(cm1[0,0]/(cm1[0,0]+cm1[1,0]))\n",
    "sensitivity_ANN1"
   ]
  },
  {
   "cell_type": "code",
   "execution_count": 111,
   "metadata": {
    "scrolled": true
   },
   "outputs": [
    {
     "name": "stdout",
     "output_type": "stream",
     "text": [
      "2000/2000 [==============================] - 3s 2ms/step\n"
     ]
    },
    {
     "data": {
      "text/plain": [
       "[0.1821128511428833, 1.0]"
      ]
     },
     "execution_count": 111,
     "metadata": {},
     "output_type": "execute_result"
    }
   ],
   "source": [
    "# loss function of the model \n",
    "classifier1.evaluate(X_test,y_pred1, verbose=1)"
   ]
  },
  {
   "cell_type": "markdown",
   "metadata": {},
   "source": [
    "### Review (2):\n",
    "The models have an accurate representation of the churn rate of bank customers.\n",
    "- The model-1 we achieved 83.5% accuracy with renu activation, 1 hidden layer, and SGD optimizer of adam. It had specificity of 76.5%, sensitivity of 84.02%, and low loss function of 18%.\n",
    "- The model-2 achieved higher accuracy with 2 hidden layers of tanh activation. Although it has better accuracy of 85.25%, it had specificity of 69.78% and sensitivity of 87.7% with low loss function of 18%. The graph nicely shows the high variation!"
   ]
  },
  {
   "cell_type": "markdown",
   "metadata": {},
   "source": [
    "### Tuning:\n",
    "\n",
    "Tuning the ANN, parameters learned during training (weights), stay fixed (hyperparamers - fixed, epochs, neurons)\n",
    "parameter tuning best value of these hyperparameters, GridSearchCV with k-Fold Cross Validation"
   ]
  },
  {
   "cell_type": "code",
   "execution_count": 147,
   "metadata": {
    "scrolled": true
   },
   "outputs": [
    {
     "name": "stdout",
     "output_type": "stream",
     "text": [
      "Epoch 1/1\n",
      "7200/7200 [==============================] - 16s 2ms/step - loss: 0.5610 - acc: 0.7969\n",
      "Epoch 1/1\n",
      "7200/7200 [==============================] - 16s 2ms/step - loss: 0.5652 - acc: 0.7967\n",
      "Epoch 1/1\n",
      "7200/7200 [==============================] - 15s 2ms/step - loss: 0.5648 - acc: 0.7939\n",
      "Epoch 1/1\n",
      "7200/7200 [==============================] - 15s 2ms/step - loss: 0.5598 - acc: 0.7975\n",
      "Epoch 1/1\n",
      "7200/7200 [==============================] - 16s 2ms/step - loss: 0.5655 - acc: 0.7910\n",
      "Epoch 1/1\n",
      "7200/7200 [==============================] - 16s 2ms/step - loss: 0.5739 - acc: 0.7924\n",
      "Epoch 1/1\n",
      "7200/7200 [==============================] - 16s 2ms/step - loss: 0.5779 - acc: 0.7937\n",
      "Epoch 1/1\n",
      "7200/7200 [==============================] - 16s 2ms/step - loss: 0.5653 - acc: 0.7950\n",
      "Epoch 1/1\n",
      "7200/7200 [==============================] - 17s 2ms/step - loss: 0.5624 - acc: 0.7957\n",
      "Epoch 1/1\n",
      "7200/7200 [==============================] - 17s 2ms/step - loss: 0.5953 - acc: 0.7936\n",
      "Epoch 1/1\n",
      "7200/7200 [==============================] - 17s 2ms/step - loss: 0.5927 - acc: 0.7954\n",
      "Epoch 1/1\n",
      "7200/7200 [==============================] - 17s 2ms/step - loss: 0.5645 - acc: 0.7956\n",
      "Epoch 1/1\n",
      "7200/7200 [==============================] - 17s 2ms/step - loss: 0.5633 - acc: 0.7956\n",
      "Epoch 1/1\n",
      "7200/7200 [==============================] - 17s 2ms/step - loss: 0.5808 - acc: 0.7967\n",
      "Epoch 1/1\n",
      "7200/7200 [==============================] - 17s 2ms/step - loss: 0.5745 - acc: 0.7924\n",
      "Epoch 1/1\n",
      "7200/7200 [==============================] - 17s 2ms/step - loss: 0.5690 - acc: 0.7936\n",
      "Epoch 1/1\n",
      "7200/7200 [==============================] - 17s 2ms/step - loss: 0.5653 - acc: 0.7949\n",
      "Epoch 1/1\n",
      "7200/7200 [==============================] - 18s 2ms/step - loss: 0.5624 - acc: 0.7957: 0s - loss: 0.5656 - acc: 0.\n",
      "Epoch 1/1\n",
      "7200/7200 [==============================] - 18s 2ms/step - loss: 0.5809 - acc: 0.7935\n",
      "Epoch 1/1\n",
      "7200/7200 [==============================] - 18s 2ms/step - loss: 0.5662 - acc: 0.7961\n",
      "Epoch 1/1\n",
      "7200/7200 [==============================] - 19s 3ms/step - loss: 0.5829 - acc: 0.7961\n",
      "Epoch 1/1\n",
      "7200/7200 [==============================] - 18s 3ms/step - loss: 0.5590 - acc: 0.7967\n",
      "Epoch 1/1\n",
      "7200/7200 [==============================] - 19s 3ms/step - loss: 0.5702 - acc: 0.7950\n",
      "Epoch 1/1\n",
      "7200/7200 [==============================] - 19s 3ms/step - loss: 0.5739 - acc: 0.7965\n",
      "Epoch 1/1\n",
      "7200/7200 [==============================] - 19s 3ms/step - loss: 0.5709 - acc: 0.7938\n",
      "Epoch 1/1\n",
      "7200/7200 [==============================] - 19s 3ms/step - loss: 0.5722 - acc: 0.7933\n",
      "Epoch 1/1\n",
      "7200/7200 [==============================] - 20s 3ms/step - loss: 0.6569 - acc: 0.7956\n",
      "Epoch 1/1\n",
      "7200/7200 [==============================] - 19s 3ms/step - loss: 0.5578 - acc: 0.7962\n",
      "Epoch 1/1\n",
      "7200/7200 [==============================] - 19s 3ms/step - loss: 0.5760 - acc: 0.7944\n",
      "Epoch 1/1\n",
      "7200/7200 [==============================] - 20s 3ms/step - loss: 0.5592 - acc: 0.7961\n",
      "Epoch 1/1\n",
      "7200/7200 [==============================] - 19s 3ms/step - loss: 0.5937 - acc: 0.7947\n",
      "Epoch 1/1\n",
      "7200/7200 [==============================] - 19s 3ms/step - loss: 0.5555 - acc: 0.7965\n",
      "Epoch 1/1\n",
      "7200/7200 [==============================] - 19s 3ms/step - loss: 0.5645 - acc: 0.7933\n",
      "Epoch 1/1\n",
      "7200/7200 [==============================] - 20s 3ms/step - loss: 0.6072 - acc: 0.7954\n",
      "Epoch 1/1\n",
      "7200/7200 [==============================] - 20s 3ms/step - loss: 0.5665 - acc: 0.7931\n",
      "Epoch 1/1\n",
      "7200/7200 [==============================] - 20s 3ms/step - loss: 0.5704 - acc: 0.7928\n",
      "Epoch 1/1\n",
      "7200/7200 [==============================] - 20s 3ms/step - loss: 0.5546 - acc: 0.7969\n",
      "Epoch 1/1\n",
      "7200/7200 [==============================] - 20s 3ms/step - loss: 0.5711 - acc: 0.7962\n",
      "Epoch 1/1\n",
      "7200/7200 [==============================] - 20s 3ms/step - loss: 0.6561 - acc: 0.7942\n",
      "Epoch 1/1\n",
      "7200/7200 [==============================] - 21s 3ms/step - loss: 0.5557 - acc: 0.7961\n",
      "Epoch 1/1\n",
      "7200/7200 [==============================] - 20s 3ms/step - loss: 0.5694 - acc: 0.7971\n",
      "Epoch 1/1\n",
      "7200/7200 [==============================] - 20s 3ms/step - loss: 0.5901 - acc: 0.7953\n",
      "Epoch 1/1\n",
      "7200/7200 [==============================] - 21s 3ms/step - loss: 0.6181 - acc: 0.7933\n",
      "Epoch 1/1\n",
      "7200/7200 [==============================] - 20s 3ms/step - loss: 0.5778 - acc: 0.7956\n",
      "Epoch 1/1\n",
      "7200/7200 [==============================] - 21s 3ms/step - loss: 0.5825 - acc: 0.7929\n",
      "Epoch 1/1\n",
      "7200/7200 [==============================] - 20s 3ms/step - loss: 0.6096 - acc: 0.7928\n",
      "Epoch 1/1\n",
      "7200/7200 [==============================] - 21s 3ms/step - loss: 0.6004 - acc: 0.7956\n",
      "Epoch 1/1\n",
      "7200/7200 [==============================] - 20s 3ms/step - loss: 0.5913 - acc: 0.7961\n",
      "Epoch 1/1\n",
      "7200/7200 [==============================] - 22s 3ms/step - loss: 0.5708 - acc: 0.7957\n",
      "Epoch 1/1\n",
      "7200/7200 [==============================] - 22s 3ms/step - loss: 0.5856 - acc: 0.7958\n",
      "Epoch 1/1\n",
      "7200/7200 [==============================] - 24s 3ms/step - loss: 0.5862 - acc: 0.7972\n",
      "Epoch 1/1\n",
      "7200/7200 [==============================] - 22s 3ms/step - loss: 0.5945 - acc: 0.7956\n",
      "Epoch 1/1\n",
      "7200/7200 [==============================] - 22s 3ms/step - loss: 0.5739 - acc: 0.7956\n",
      "Epoch 1/1\n",
      "7200/7200 [==============================] - 22s 3ms/step - loss: 0.5633 - acc: 0.7975\n",
      "Epoch 1/1\n",
      "7200/7200 [==============================] - 22s 3ms/step - loss: 0.5781 - acc: 0.7931\n",
      "Epoch 1/1\n",
      "7200/7200 [==============================] - 23s 3ms/step - loss: 0.6031 - acc: 0.7926\n",
      "Epoch 1/1\n",
      "7200/7200 [==============================] - 23s 3ms/step - loss: 0.5883 - acc: 0.7951\n",
      "Epoch 1/1\n",
      "7200/7200 [==============================] - 22s 3ms/step - loss: 0.6065 - acc: 0.7940\n",
      "Epoch 1/1\n",
      "7200/7200 [==============================] - 23s 3ms/step - loss: 0.6150 - acc: 0.7929\n",
      "Epoch 1/1\n",
      "7200/7200 [==============================] - 23s 3ms/step - loss: 0.5991 - acc: 0.7940\n",
      "Epoch 1/1\n",
      "7200/7200 [==============================] - 22s 3ms/step - loss: 0.5819 - acc: 0.7965\n",
      "Epoch 1/1\n",
      "7200/7200 [==============================] - 27s 4ms/step - loss: 0.5700 - acc: 0.7967\n",
      "Epoch 1/1\n",
      "7200/7200 [==============================] - 24s 3ms/step - loss: 0.5773 - acc: 0.7956\n",
      "Epoch 1/1\n",
      "7200/7200 [==============================] - 24s 3ms/step - loss: 0.5793 - acc: 0.7967\n",
      "Epoch 1/1\n",
      "7200/7200 [==============================] - 23s 3ms/step - loss: 0.6023 - acc: 0.7933\n",
      "Epoch 1/1\n",
      "7200/7200 [==============================] - 22s 3ms/step - loss: 0.5911 - acc: 0.7944\n",
      "Epoch 1/1\n",
      "7200/7200 [==============================] - 24s 3ms/step - loss: 0.5977 - acc: 0.7949\n",
      "Epoch 1/1\n",
      "7200/7200 [==============================] - 24s 3ms/step - loss: 0.5898 - acc: 0.7932\n",
      "Epoch 1/1\n",
      "7200/7200 [==============================] - 25s 3ms/step - loss: 0.5916 - acc: 0.7946\n",
      "Epoch 1/1\n",
      "7200/7200 [==============================] - 25s 3ms/step - loss: 0.5765 - acc: 0.7961\n",
      "Epoch 1/1\n",
      "7200/7200 [==============================] - 24s 3ms/step - loss: 0.5817 - acc: 0.7951\n",
      "Epoch 1/1\n",
      "7200/7200 [==============================] - 25s 3ms/step - loss: 0.6104 - acc: 0.7960\n",
      "Epoch 1/1\n",
      "7200/7200 [==============================] - 26s 4ms/step - loss: 0.6205 - acc: 0.7921\n",
      "Epoch 1/1\n",
      "7200/7200 [==============================] - 25s 3ms/step - loss: 0.6063 - acc: 0.7947\n",
      "Epoch 1/1\n",
      "7200/7200 [==============================] - 25s 4ms/step - loss: 0.6105 - acc: 0.7926\n",
      "Epoch 1/1\n",
      "7200/7200 [==============================] - 26s 4ms/step - loss: 0.5843 - acc: 0.7944\n",
      "Epoch 1/1\n",
      "7200/7200 [==============================] - 25s 3ms/step - loss: 0.5915 - acc: 0.7968\n",
      "Epoch 1/1\n",
      "7200/7200 [==============================] - 24s 3ms/step - loss: 0.5718 - acc: 0.7962\n",
      "Epoch 1/1\n",
      "7200/7200 [==============================] - 25s 3ms/step - loss: 0.6181 - acc: 0.7932\n",
      "Epoch 1/1\n",
      "7200/7200 [==============================] - 28s 4ms/step - loss: 0.6265 - acc: 0.7942\n",
      "Epoch 1/1\n",
      "8000/8000 [==============================] - 28s 3ms/step - loss: 0.5585 - acc: 0.7944\n"
     ]
    }
   ],
   "source": [
    "# k-Fold cross validator to check if the real relevant accuracy or the second one \n",
    "# ß and where we are in bias-variance tradeoffs\n",
    "def build_classifier(optimzer):\n",
    "    classifier = Sequential()  #Model 1 because of better results\n",
    "    classifier.add(Dense(output_dim=6, init='uniform', activation='relu', input_dim = 11))  #input layer \n",
    "    classifier.add(Dense(output_dim=6, init='uniform', activation='relu'))  #hidden layer 1\n",
    "    classifier.add(Dense(output_dim=1, init='uniform', activation='sigmoid'))  #output layer \n",
    "    classifier.compile(optimizer='adam', loss='binary_crossentropy', metrics=['accuracy'])\n",
    "    return classifier\n",
    "classifier = KerasClassifier(build_fn = build_classifier)\n",
    "parameters = {'batch_size': [25, 32],\n",
    "              'nb_epoch': [100, 500],\n",
    "              'optimzer': ['adam', 'rmsprop']}\n",
    "grid_search = GridSearchCV(estimator = classifier,\n",
    "                           param_grid = parameters,\n",
    "                           scoring = 'accuracy', \n",
    "                           cv = 10)\n",
    "grid_search = grid_search.fit(X_train, y_train)\n",
    "best_parameters = grid_search.best_params_\n",
    "best_accuracy = grid_search.best_score_"
   ]
  },
  {
   "cell_type": "code",
   "execution_count": 148,
   "metadata": {},
   "outputs": [
    {
     "data": {
      "text/plain": [
       "{'batch_size': 25, 'nb_epoch': 100, 'optimzer': 'adam'}"
      ]
     },
     "execution_count": 148,
     "metadata": {},
     "output_type": "execute_result"
    }
   ],
   "source": [
    "best_parameters"
   ]
  },
  {
   "cell_type": "code",
   "execution_count": 149,
   "metadata": {},
   "outputs": [
    {
     "data": {
      "text/plain": [
       "0.796"
      ]
     },
     "execution_count": 149,
     "metadata": {},
     "output_type": "execute_result"
    }
   ],
   "source": [
    "best_accuracy"
   ]
  },
  {
   "cell_type": "markdown",
   "metadata": {},
   "source": [
    "### Conclusion:\n",
    "\n",
    "The Model 1 has the best representation of the churn rate of bank customers as it achieved accuracy of 83.5%, compared to other Model with varying activation functions and number of hidden layers. It had specificity of 76.5%, sensitivity of 84.02% and loss of 18%. The Model 2 can provide most accurate classification to the bank for their customers at risk of churning. The parameters were checked by tuning using KerasClassifier and GridSearchCV, but the result were not better than Model 1.\n",
    "\n",
    "From this data, the bank can analyse the customer's requirement and problems to cater the customers in a better manner and to avoid churn."
   ]
  }
 ],
 "metadata": {
  "kernelspec": {
   "display_name": "Python 3",
   "language": "python",
   "name": "python3"
  },
  "language_info": {
   "codemirror_mode": {
    "name": "ipython",
    "version": 3
   },
   "file_extension": ".py",
   "mimetype": "text/x-python",
   "name": "python",
   "nbconvert_exporter": "python",
   "pygments_lexer": "ipython3",
   "version": "3.7.3"
  }
 },
 "nbformat": 4,
 "nbformat_minor": 2
}
