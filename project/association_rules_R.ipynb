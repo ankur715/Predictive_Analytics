{
 "cells": [
  {
   "cell_type": "markdown",
   "metadata": {},
   "source": [
    "## Association Rules - R\n",
    "### - _Ankur Patel_"
   ]
  },
  {
   "cell_type": "markdown",
   "metadata": {},
   "source": [
    "### Introduction:\n",
    "\n",
    "Association rule mining is a technique to identify underlying relations between different items. An association rule has two parts: an Antecedent (if) and a Consequent (then). There are three major components of Apriori algorithm: Support,\n",
    "Confidence, and Lift. In this data set, Churn will be only consequent while others can be either. \n",
    "\n",
    "The Churn data set will be used to predict Churn depending on VMail Plan, Intl Plan, and CustServ CallsSet (which will be set ordinal). "
   ]
  },
  {
   "cell_type": "markdown",
   "metadata": {},
   "source": [
    "### Preprocessing:"
   ]
  },
  {
   "cell_type": "code",
   "execution_count": 30,
   "metadata": {},
   "outputs": [],
   "source": [
    "library(dplyr)"
   ]
  },
  {
   "cell_type": "code",
   "execution_count": 3,
   "metadata": {
    "scrolled": true
   },
   "outputs": [
    {
     "name": "stderr",
     "output_type": "stream",
     "text": [
      "-- Attaching packages --------------------------------------- tidyverse 1.2.1 --\n",
      "v ggplot2 3.2.1     v purrr   0.3.2\n",
      "v tibble  2.1.3     v dplyr   0.8.3\n",
      "v tidyr   1.0.0     v stringr 1.4.0\n",
      "v readr   1.3.1     v forcats 0.4.0\n",
      "-- Conflicts ------------------------------------------ tidyverse_conflicts() --\n",
      "x dplyr::filter() masks stats::filter()\n",
      "x dplyr::lag()    masks stats::lag()\n"
     ]
    }
   ],
   "source": [
    "library(tidyverse)"
   ]
  },
  {
   "cell_type": "code",
   "execution_count": 5,
   "metadata": {},
   "outputs": [],
   "source": [
    "library(ggplot2)"
   ]
  },
  {
   "cell_type": "code",
   "execution_count": 4,
   "metadata": {},
   "outputs": [
    {
     "name": "stderr",
     "output_type": "stream",
     "text": [
      "Loading required package: Matrix\n",
      "\n",
      "Attaching package: 'Matrix'\n",
      "\n",
      "The following objects are masked from 'package:tidyr':\n",
      "\n",
      "    expand, pack, unpack\n",
      "\n",
      "\n",
      "Attaching package: 'arules'\n",
      "\n",
      "The following object is masked from 'package:dplyr':\n",
      "\n",
      "    recode\n",
      "\n",
      "The following objects are masked from 'package:base':\n",
      "\n",
      "    abbreviate, write\n",
      "\n"
     ]
    }
   ],
   "source": [
    "library(arules)"
   ]
  },
  {
   "cell_type": "code",
   "execution_count": 6,
   "metadata": {},
   "outputs": [
    {
     "name": "stderr",
     "output_type": "stream",
     "text": [
      "Loading required package: grid\n",
      "Registered S3 method overwritten by 'seriation':\n",
      "  method         from \n",
      "  reorder.hclust gclus\n"
     ]
    }
   ],
   "source": [
    "library(arulesViz)"
   ]
  },
  {
   "cell_type": "code",
   "execution_count": 12,
   "metadata": {},
   "outputs": [
    {
     "data": {
      "text/html": [
       "<table>\n",
       "<thead><tr><th scope=col>State</th><th scope=col>Account.Length</th><th scope=col>Area.Code</th><th scope=col>Phone</th><th scope=col>Int.l.Plan</th><th scope=col>VMail.Plan</th><th scope=col>VMail.Message</th><th scope=col>Day.Mins</th><th scope=col>Day.Calls</th><th scope=col>Day.Charge</th><th scope=col>...</th><th scope=col>Eve.Calls</th><th scope=col>Eve.Charge</th><th scope=col>Night.Mins</th><th scope=col>Night.Calls</th><th scope=col>Night.Charge</th><th scope=col>Intl.Mins</th><th scope=col>Intl.Calls</th><th scope=col>Intl.Charge</th><th scope=col>CustServ.Calls</th><th scope=col>Churn.</th></tr></thead>\n",
       "<tbody>\n",
       "\t<tr><td>KS      </td><td>128     </td><td>415     </td><td>382-4657</td><td>no      </td><td>yes     </td><td>25      </td><td>265.1   </td><td>110     </td><td>45.07   </td><td>...     </td><td> 99     </td><td>16.78   </td><td>244.7   </td><td> 91     </td><td>11.01   </td><td>10.0    </td><td>3       </td><td>2.70    </td><td>1       </td><td>False.  </td></tr>\n",
       "\t<tr><td>OH      </td><td>107     </td><td>415     </td><td>371-7191</td><td>no      </td><td>yes     </td><td>26      </td><td>161.6   </td><td>123     </td><td>27.47   </td><td>...     </td><td>103     </td><td>16.62   </td><td>254.4   </td><td>103     </td><td>11.45   </td><td>13.7    </td><td>3       </td><td>3.70    </td><td>1       </td><td>False.  </td></tr>\n",
       "\t<tr><td>NJ      </td><td>137     </td><td>415     </td><td>358-1921</td><td>no      </td><td>no      </td><td> 0      </td><td>243.4   </td><td>114     </td><td>41.38   </td><td>...     </td><td>110     </td><td>10.30   </td><td>162.6   </td><td>104     </td><td> 7.32   </td><td>12.2    </td><td>5       </td><td>3.29    </td><td>0       </td><td>False.  </td></tr>\n",
       "\t<tr><td>OH      </td><td> 84     </td><td>408     </td><td>375-9999</td><td>yes     </td><td>no      </td><td> 0      </td><td>299.4   </td><td> 71     </td><td>50.90   </td><td>...     </td><td> 88     </td><td> 5.26   </td><td>196.9   </td><td> 89     </td><td> 8.86   </td><td> 6.6    </td><td>7       </td><td>1.78    </td><td>2       </td><td>False.  </td></tr>\n",
       "\t<tr><td>OK      </td><td> 75     </td><td>415     </td><td>330-6626</td><td>yes     </td><td>no      </td><td> 0      </td><td>166.7   </td><td>113     </td><td>28.34   </td><td>...     </td><td>122     </td><td>12.61   </td><td>186.9   </td><td>121     </td><td> 8.41   </td><td>10.1    </td><td>3       </td><td>2.73    </td><td>3       </td><td>False.  </td></tr>\n",
       "\t<tr><td>AL      </td><td>118     </td><td>510     </td><td>391-8027</td><td>yes     </td><td>no      </td><td> 0      </td><td>223.4   </td><td> 98     </td><td>37.98   </td><td>...     </td><td>101     </td><td>18.75   </td><td>203.9   </td><td>118     </td><td> 9.18   </td><td> 6.3    </td><td>6       </td><td>1.70    </td><td>0       </td><td>False.  </td></tr>\n",
       "</tbody>\n",
       "</table>\n"
      ],
      "text/latex": [
       "\\begin{tabular}{r|lllllllllllllllllllll}\n",
       " State & Account.Length & Area.Code & Phone & Int.l.Plan & VMail.Plan & VMail.Message & Day.Mins & Day.Calls & Day.Charge & ... & Eve.Calls & Eve.Charge & Night.Mins & Night.Calls & Night.Charge & Intl.Mins & Intl.Calls & Intl.Charge & CustServ.Calls & Churn.\\\\\n",
       "\\hline\n",
       "\t KS       & 128      & 415      & 382-4657 & no       & yes      & 25       & 265.1    & 110      & 45.07    & ...      &  99      & 16.78    & 244.7    &  91      & 11.01    & 10.0     & 3        & 2.70     & 1        & False.  \\\\\n",
       "\t OH       & 107      & 415      & 371-7191 & no       & yes      & 26       & 161.6    & 123      & 27.47    & ...      & 103      & 16.62    & 254.4    & 103      & 11.45    & 13.7     & 3        & 3.70     & 1        & False.  \\\\\n",
       "\t NJ       & 137      & 415      & 358-1921 & no       & no       &  0       & 243.4    & 114      & 41.38    & ...      & 110      & 10.30    & 162.6    & 104      &  7.32    & 12.2     & 5        & 3.29     & 0        & False.  \\\\\n",
       "\t OH       &  84      & 408      & 375-9999 & yes      & no       &  0       & 299.4    &  71      & 50.90    & ...      &  88      &  5.26    & 196.9    &  89      &  8.86    &  6.6     & 7        & 1.78     & 2        & False.  \\\\\n",
       "\t OK       &  75      & 415      & 330-6626 & yes      & no       &  0       & 166.7    & 113      & 28.34    & ...      & 122      & 12.61    & 186.9    & 121      &  8.41    & 10.1     & 3        & 2.73     & 3        & False.  \\\\\n",
       "\t AL       & 118      & 510      & 391-8027 & yes      & no       &  0       & 223.4    &  98      & 37.98    & ...      & 101      & 18.75    & 203.9    & 118      &  9.18    &  6.3     & 6        & 1.70     & 0        & False.  \\\\\n",
       "\\end{tabular}\n"
      ],
      "text/markdown": [
       "\n",
       "| State | Account.Length | Area.Code | Phone | Int.l.Plan | VMail.Plan | VMail.Message | Day.Mins | Day.Calls | Day.Charge | ... | Eve.Calls | Eve.Charge | Night.Mins | Night.Calls | Night.Charge | Intl.Mins | Intl.Calls | Intl.Charge | CustServ.Calls | Churn. |\n",
       "|---|---|---|---|---|---|---|---|---|---|---|---|---|---|---|---|---|---|---|---|---|\n",
       "| KS       | 128      | 415      | 382-4657 | no       | yes      | 25       | 265.1    | 110      | 45.07    | ...      |  99      | 16.78    | 244.7    |  91      | 11.01    | 10.0     | 3        | 2.70     | 1        | False.   |\n",
       "| OH       | 107      | 415      | 371-7191 | no       | yes      | 26       | 161.6    | 123      | 27.47    | ...      | 103      | 16.62    | 254.4    | 103      | 11.45    | 13.7     | 3        | 3.70     | 1        | False.   |\n",
       "| NJ       | 137      | 415      | 358-1921 | no       | no       |  0       | 243.4    | 114      | 41.38    | ...      | 110      | 10.30    | 162.6    | 104      |  7.32    | 12.2     | 5        | 3.29     | 0        | False.   |\n",
       "| OH       |  84      | 408      | 375-9999 | yes      | no       |  0       | 299.4    |  71      | 50.90    | ...      |  88      |  5.26    | 196.9    |  89      |  8.86    |  6.6     | 7        | 1.78     | 2        | False.   |\n",
       "| OK       |  75      | 415      | 330-6626 | yes      | no       |  0       | 166.7    | 113      | 28.34    | ...      | 122      | 12.61    | 186.9    | 121      |  8.41    | 10.1     | 3        | 2.73     | 3        | False.   |\n",
       "| AL       | 118      | 510      | 391-8027 | yes      | no       |  0       | 223.4    |  98      | 37.98    | ...      | 101      | 18.75    | 203.9    | 118      |  9.18    |  6.3     | 6        | 1.70     | 0        | False.   |\n",
       "\n"
      ],
      "text/plain": [
       "  State Account.Length Area.Code Phone    Int.l.Plan VMail.Plan VMail.Message\n",
       "1 KS    128            415       382-4657 no         yes        25           \n",
       "2 OH    107            415       371-7191 no         yes        26           \n",
       "3 NJ    137            415       358-1921 no         no          0           \n",
       "4 OH     84            408       375-9999 yes        no          0           \n",
       "5 OK     75            415       330-6626 yes        no          0           \n",
       "6 AL    118            510       391-8027 yes        no          0           \n",
       "  Day.Mins Day.Calls Day.Charge ... Eve.Calls Eve.Charge Night.Mins Night.Calls\n",
       "1 265.1    110       45.07      ...  99       16.78      244.7       91        \n",
       "2 161.6    123       27.47      ... 103       16.62      254.4      103        \n",
       "3 243.4    114       41.38      ... 110       10.30      162.6      104        \n",
       "4 299.4     71       50.90      ...  88        5.26      196.9       89        \n",
       "5 166.7    113       28.34      ... 122       12.61      186.9      121        \n",
       "6 223.4     98       37.98      ... 101       18.75      203.9      118        \n",
       "  Night.Charge Intl.Mins Intl.Calls Intl.Charge CustServ.Calls Churn.\n",
       "1 11.01        10.0      3          2.70        1              False.\n",
       "2 11.45        13.7      3          3.70        1              False.\n",
       "3  7.32        12.2      5          3.29        0              False.\n",
       "4  8.86         6.6      7          1.78        2              False.\n",
       "5  8.41        10.1      3          2.73        3              False.\n",
       "6  9.18         6.3      6          1.70        0              False."
      ]
     },
     "metadata": {},
     "output_type": "display_data"
    }
   ],
   "source": [
    "# read dataset\n",
    "df <- read.csv('Churn.csv')\n",
    "head(df)"
   ]
  },
  {
   "cell_type": "code",
   "execution_count": 35,
   "metadata": {},
   "outputs": [
    {
     "data": {
      "text/html": [
       "<table>\n",
       "<thead><tr><th scope=col>VMail.Plan</th><th scope=col>Int.l.Plan</th><th scope=col>CustServ.Calls</th><th scope=col>Churn.</th></tr></thead>\n",
       "<tbody>\n",
       "\t<tr><td>yes   </td><td>no    </td><td>1     </td><td>False.</td></tr>\n",
       "\t<tr><td>yes   </td><td>no    </td><td>1     </td><td>False.</td></tr>\n",
       "\t<tr><td>no    </td><td>no    </td><td>0     </td><td>False.</td></tr>\n",
       "\t<tr><td>no    </td><td>yes   </td><td>2     </td><td>False.</td></tr>\n",
       "\t<tr><td>no    </td><td>yes   </td><td>3     </td><td>False.</td></tr>\n",
       "\t<tr><td>no    </td><td>yes   </td><td>0     </td><td>False.</td></tr>\n",
       "</tbody>\n",
       "</table>\n"
      ],
      "text/latex": [
       "\\begin{tabular}{r|llll}\n",
       " VMail.Plan & Int.l.Plan & CustServ.Calls & Churn.\\\\\n",
       "\\hline\n",
       "\t yes    & no     & 1      & False.\\\\\n",
       "\t yes    & no     & 1      & False.\\\\\n",
       "\t no     & no     & 0      & False.\\\\\n",
       "\t no     & yes    & 2      & False.\\\\\n",
       "\t no     & yes    & 3      & False.\\\\\n",
       "\t no     & yes    & 0      & False.\\\\\n",
       "\\end{tabular}\n"
      ],
      "text/markdown": [
       "\n",
       "| VMail.Plan | Int.l.Plan | CustServ.Calls | Churn. |\n",
       "|---|---|---|---|\n",
       "| yes    | no     | 1      | False. |\n",
       "| yes    | no     | 1      | False. |\n",
       "| no     | no     | 0      | False. |\n",
       "| no     | yes    | 2      | False. |\n",
       "| no     | yes    | 3      | False. |\n",
       "| no     | yes    | 0      | False. |\n",
       "\n"
      ],
      "text/plain": [
       "  VMail.Plan Int.l.Plan CustServ.Calls Churn.\n",
       "1 yes        no         1              False.\n",
       "2 yes        no         1              False.\n",
       "3 no         no         0              False.\n",
       "4 no         yes        2              False.\n",
       "5 no         yes        3              False.\n",
       "6 no         yes        0              False."
      ]
     },
     "metadata": {},
     "output_type": "display_data"
    }
   ],
   "source": [
    "# subset of 3 predictors and Churn\n",
    "df <- select(df, \"VMail.Plan\",\"Int.l.Plan\",\"CustServ.Calls\",\"Churn.\")\n",
    "head(df)"
   ]
  },
  {
   "cell_type": "code",
   "execution_count": 37,
   "metadata": {},
   "outputs": [
    {
     "data": {
      "text/html": [
       "<table>\n",
       "<thead><tr><th scope=col>VMail.Plan</th><th scope=col>Int.l.Plan</th><th scope=col>CustServ.Calls</th><th scope=col>Churn.</th></tr></thead>\n",
       "<tbody>\n",
       "\t<tr><td>yes   </td><td>no    </td><td>1     </td><td>False.</td></tr>\n",
       "\t<tr><td>yes   </td><td>no    </td><td>1     </td><td>False.</td></tr>\n",
       "\t<tr><td>no    </td><td>no    </td><td>0     </td><td>False.</td></tr>\n",
       "\t<tr><td>no    </td><td>yes   </td><td>2     </td><td>False.</td></tr>\n",
       "\t<tr><td>no    </td><td>yes   </td><td>3     </td><td>False.</td></tr>\n",
       "\t<tr><td>no    </td><td>yes   </td><td>0     </td><td>False.</td></tr>\n",
       "</tbody>\n",
       "</table>\n"
      ],
      "text/latex": [
       "\\begin{tabular}{r|llll}\n",
       " VMail.Plan & Int.l.Plan & CustServ.Calls & Churn.\\\\\n",
       "\\hline\n",
       "\t yes    & no     & 1      & False.\\\\\n",
       "\t yes    & no     & 1      & False.\\\\\n",
       "\t no     & no     & 0      & False.\\\\\n",
       "\t no     & yes    & 2      & False.\\\\\n",
       "\t no     & yes    & 3      & False.\\\\\n",
       "\t no     & yes    & 0      & False.\\\\\n",
       "\\end{tabular}\n"
      ],
      "text/markdown": [
       "\n",
       "| VMail.Plan | Int.l.Plan | CustServ.Calls | Churn. |\n",
       "|---|---|---|---|\n",
       "| yes    | no     | 1      | False. |\n",
       "| yes    | no     | 1      | False. |\n",
       "| no     | no     | 0      | False. |\n",
       "| no     | yes    | 2      | False. |\n",
       "| no     | yes    | 3      | False. |\n",
       "| no     | yes    | 0      | False. |\n",
       "\n"
      ],
      "text/plain": [
       "  VMail.Plan Int.l.Plan CustServ.Calls Churn.\n",
       "1 yes        no         1              False.\n",
       "2 yes        no         1              False.\n",
       "3 no         no         0              False.\n",
       "4 no         yes        2              False.\n",
       "5 no         yes        3              False.\n",
       "6 no         yes        0              False."
      ]
     },
     "metadata": {},
     "output_type": "display_data"
    }
   ],
   "source": [
    "# change CustServ Calls to factor\n",
    "df$CustServ.Calls <- ordered(as.factor(df$CustServ.Calls))\n",
    "head(df)"
   ]
  },
  {
   "cell_type": "code",
   "execution_count": 45,
   "metadata": {},
   "outputs": [],
   "source": [
    "# baseline distributions of the variables\n",
    "t1 <- table(df$VMail.Plan)\n",
    "t11 <- rbind(t1, round(prop.table(t1), 4))\n",
    "colnames(t11) <- c(\"VMail.Plan = no\", \"VMail.Plan = yes\")\n",
    "rownames(t11) <- c(\"Count\", \"Proportion\")\n",
    "t2 <- table(df$Int.l.Plan)\n",
    "t22 <- rbind(t2, round(prop.table(t2), 4))\n",
    "colnames(t22) <- c(\"Intl.Plan = no\", \"Intl.Plan = yes\")\n",
    "rownames(t22) <- c(\"Count\", \"Proportion\")\n",
    "t3 <- table(df$CustServ.Calls)\n",
    "t33 <- rbind(t3, round(prop.table(t3), 4))\n",
    "colnames(t33) <- c(\"Calls 0\",\"Calls 1\",\"Calls 2\",\"Calls 3\")\n",
    "rownames(t33) <- c(\"Count\", \"Proportion\")\n",
    "t4 <- table(df$Churn.)\n",
    "t44 <- rbind(t4, round(prop.table(t4), 4))\n",
    "colnames(t44) <- c(\"Churn = no\", \"Intl.Plan = yes\")\n",
    "rownames(t44) <- c(\"Churn\", \"Proportion\")"
   ]
  },
  {
   "cell_type": "code",
   "execution_count": 49,
   "metadata": {},
   "outputs": [
    {
     "data": {
      "text/html": [
       "<table>\n",
       "<thead><tr><th></th><th scope=col>VMail.Plan = no</th><th scope=col>VMail.Plan = yes</th></tr></thead>\n",
       "<tbody>\n",
       "\t<tr><th scope=row>Count</th><td>2411.0000</td><td>922.0000 </td></tr>\n",
       "\t<tr><th scope=row>Proportion</th><td>   0.7234</td><td>  0.2766 </td></tr>\n",
       "</tbody>\n",
       "</table>\n"
      ],
      "text/latex": [
       "\\begin{tabular}{r|ll}\n",
       "  & VMail.Plan = no & VMail.Plan = yes\\\\\n",
       "\\hline\n",
       "\tCount & 2411.0000 & 922.0000 \\\\\n",
       "\tProportion &    0.7234 &   0.2766 \\\\\n",
       "\\end{tabular}\n"
      ],
      "text/markdown": [
       "\n",
       "| <!--/--> | VMail.Plan = no | VMail.Plan = yes |\n",
       "|---|---|---|\n",
       "| Count | 2411.0000 | 922.0000  |\n",
       "| Proportion |    0.7234 |   0.2766  |\n",
       "\n"
      ],
      "text/plain": [
       "           VMail.Plan = no VMail.Plan = yes\n",
       "Count      2411.0000       922.0000        \n",
       "Proportion    0.7234         0.2766        "
      ]
     },
     "metadata": {},
     "output_type": "display_data"
    }
   ],
   "source": [
    "t11"
   ]
  },
  {
   "cell_type": "code",
   "execution_count": 50,
   "metadata": {},
   "outputs": [
    {
     "data": {
      "text/html": [
       "<table>\n",
       "<thead><tr><th></th><th scope=col>Intl.Plan = no</th><th scope=col>Intl.Plan = yes</th></tr></thead>\n",
       "<tbody>\n",
       "\t<tr><th scope=row>Count</th><td>3010.0000</td><td>323.0000 </td></tr>\n",
       "\t<tr><th scope=row>Proportion</th><td>   0.9031</td><td>  0.0969 </td></tr>\n",
       "</tbody>\n",
       "</table>\n"
      ],
      "text/latex": [
       "\\begin{tabular}{r|ll}\n",
       "  & Intl.Plan = no & Intl.Plan = yes\\\\\n",
       "\\hline\n",
       "\tCount & 3010.0000 & 323.0000 \\\\\n",
       "\tProportion &    0.9031 &   0.0969 \\\\\n",
       "\\end{tabular}\n"
      ],
      "text/markdown": [
       "\n",
       "| <!--/--> | Intl.Plan = no | Intl.Plan = yes |\n",
       "|---|---|---|\n",
       "| Count | 3010.0000 | 323.0000  |\n",
       "| Proportion |    0.9031 |   0.0969  |\n",
       "\n"
      ],
      "text/plain": [
       "           Intl.Plan = no Intl.Plan = yes\n",
       "Count      3010.0000      323.0000       \n",
       "Proportion    0.9031        0.0969       "
      ]
     },
     "metadata": {},
     "output_type": "display_data"
    }
   ],
   "source": [
    "t22"
   ]
  },
  {
   "cell_type": "code",
   "execution_count": 51,
   "metadata": {},
   "outputs": [
    {
     "data": {
      "text/html": [
       "<table>\n",
       "<thead><tr><th></th><th scope=col>0</th><th scope=col>1</th><th scope=col>2</th><th scope=col>3</th><th scope=col>4</th><th scope=col>5</th><th scope=col>6</th><th scope=col>7</th><th scope=col>8</th><th scope=col>9</th></tr></thead>\n",
       "<tbody>\n",
       "\t<tr><th scope=row>Count</th><td>697.0000 </td><td>1181.0000</td><td>759.0000 </td><td>429.0000 </td><td>166.0000 </td><td>66.0000  </td><td>22.0000  </td><td>9.0000   </td><td>2e+00    </td><td>2e+00    </td></tr>\n",
       "\t<tr><th scope=row>Proportion</th><td>  0.2091 </td><td>   0.3543</td><td>  0.2277 </td><td>  0.1287 </td><td>  0.0498 </td><td> 0.0198  </td><td> 0.0066  </td><td>0.0027   </td><td>6e-04    </td><td>6e-04    </td></tr>\n",
       "</tbody>\n",
       "</table>\n"
      ],
      "text/latex": [
       "\\begin{tabular}{r|llllllllll}\n",
       "  & 0 & 1 & 2 & 3 & 4 & 5 & 6 & 7 & 8 & 9\\\\\n",
       "\\hline\n",
       "\tCount & 697.0000  & 1181.0000 & 759.0000  & 429.0000  & 166.0000  & 66.0000   & 22.0000   & 9.0000    & 2e+00     & 2e+00    \\\\\n",
       "\tProportion &   0.2091  &    0.3543 &   0.2277  &   0.1287  &   0.0498  &  0.0198   &  0.0066   & 0.0027    & 6e-04     & 6e-04    \\\\\n",
       "\\end{tabular}\n"
      ],
      "text/markdown": [
       "\n",
       "| <!--/--> | 0 | 1 | 2 | 3 | 4 | 5 | 6 | 7 | 8 | 9 |\n",
       "|---|---|---|---|---|---|---|---|---|---|---|\n",
       "| Count | 697.0000  | 1181.0000 | 759.0000  | 429.0000  | 166.0000  | 66.0000   | 22.0000   | 9.0000    | 2e+00     | 2e+00     |\n",
       "| Proportion |   0.2091  |    0.3543 |   0.2277  |   0.1287  |   0.0498  |  0.0198   |  0.0066   | 0.0027    | 6e-04     | 6e-04     |\n",
       "\n"
      ],
      "text/plain": [
       "           0        1         2        3        4        5       6       7     \n",
       "Count      697.0000 1181.0000 759.0000 429.0000 166.0000 66.0000 22.0000 9.0000\n",
       "Proportion   0.2091    0.3543   0.2277   0.1287   0.0498  0.0198  0.0066 0.0027\n",
       "           8     9    \n",
       "Count      2e+00 2e+00\n",
       "Proportion 6e-04 6e-04"
      ]
     },
     "metadata": {},
     "output_type": "display_data"
    }
   ],
   "source": [
    "t33"
   ]
  },
  {
   "cell_type": "code",
   "execution_count": 52,
   "metadata": {},
   "outputs": [
    {
     "data": {
      "text/html": [
       "<table>\n",
       "<thead><tr><th></th><th scope=col>Churn = no</th><th scope=col>Intl.Plan = yes</th></tr></thead>\n",
       "<tbody>\n",
       "\t<tr><th scope=row>Churn</th><td>2850.0000</td><td>483.0000 </td></tr>\n",
       "\t<tr><th scope=row>Proportion</th><td>   0.8551</td><td>  0.1449 </td></tr>\n",
       "</tbody>\n",
       "</table>\n"
      ],
      "text/latex": [
       "\\begin{tabular}{r|ll}\n",
       "  & Churn = no & Intl.Plan = yes\\\\\n",
       "\\hline\n",
       "\tChurn & 2850.0000 & 483.0000 \\\\\n",
       "\tProportion &    0.8551 &   0.1449 \\\\\n",
       "\\end{tabular}\n"
      ],
      "text/markdown": [
       "\n",
       "| <!--/--> | Churn = no | Intl.Plan = yes |\n",
       "|---|---|---|\n",
       "| Churn | 2850.0000 | 483.0000  |\n",
       "| Proportion |    0.8551 |   0.1449  |\n",
       "\n"
      ],
      "text/plain": [
       "           Churn = no Intl.Plan = yes\n",
       "Churn      2850.0000  483.0000       \n",
       "Proportion    0.8551    0.1449       "
      ]
     },
     "metadata": {},
     "output_type": "display_data"
    }
   ],
   "source": [
    "t44"
   ]
  },
  {
   "cell_type": "markdown",
   "metadata": {},
   "source": [
    "### Review:\n",
    "- After importing libraries and the Churn dataset, it was sliced for a subset of 3 predictors and target Churn\n",
    "- CustServ.Calls was set to ordinal by using ordered() inside as.factor()\n",
    "- Distributions of the variables were created using table(), prop.table(), round()\n",
    "    - e.g:\n",
    "    - t1 - count of customers having VMail.Plan\n",
    "    - t11 - matrix of the counts and proportions"
   ]
  },
  {
   "cell_type": "markdown",
   "metadata": {},
   "source": [
    "### Find the association rule with the greatest lift.\n",
    "### Report the following for the rule: Number of instances, Support %, Confidence %, Lift.\n",
    "\n",
    "- minimum antecedent support - 1%\n",
    "- minimum rule confidence - 5%\n",
    "- maximum number of antecedents to 1"
   ]
  },
  {
   "cell_type": "code",
   "execution_count": 53,
   "metadata": {
    "scrolled": false
   },
   "outputs": [
    {
     "data": {
      "text/plain": [
       "transactions as itemMatrix in sparse format with\n",
       " 3333 rows (elements/itemsets/transactions) and\n",
       " 16 columns (items) and a density of 0.25 \n",
       "\n",
       "most frequent items:\n",
       "   Int.l.Plan=no    Churn.=False.    VMail.Plan=no CustServ.Calls=1 \n",
       "            3010             2850             2411             1181 \n",
       "  VMail.Plan=yes          (Other) \n",
       "             922             2958 \n",
       "\n",
       "element (itemset/transaction) length distribution:\n",
       "sizes\n",
       "   4 \n",
       "3333 \n",
       "\n",
       "   Min. 1st Qu.  Median    Mean 3rd Qu.    Max. \n",
       "      4       4       4       4       4       4 \n",
       "\n",
       "includes extended item information - examples:\n",
       "          labels  variables levels\n",
       "1  VMail.Plan=no VMail.Plan     no\n",
       "2 VMail.Plan=yes VMail.Plan    yes\n",
       "3  Int.l.Plan=no Int.l.Plan     no\n",
       "\n",
       "includes extended transaction information - examples:\n",
       "  transactionID\n",
       "1             1\n",
       "2             2\n",
       "3             3"
      ]
     },
     "metadata": {},
     "output_type": "display_data"
    }
   ],
   "source": [
    "# convert table to transactions for arules\n",
    "df1 <- as(df, \"transactions\")\n",
    "summary(df1)"
   ]
  },
  {
   "cell_type": "code",
   "execution_count": 56,
   "metadata": {},
   "outputs": [
    {
     "name": "stdout",
     "output_type": "stream",
     "text": [
      "    items              transactionID\n",
      "[1] {VMail.Plan=yes,                \n",
      "     Int.l.Plan=no,                 \n",
      "     CustServ.Calls=1,              \n",
      "     Churn.=False.}                1\n",
      "[2] {VMail.Plan=yes,                \n",
      "     Int.l.Plan=no,                 \n",
      "     CustServ.Calls=1,              \n",
      "     Churn.=False.}                2\n",
      "[3] {VMail.Plan=no,                 \n",
      "     Int.l.Plan=no,                 \n",
      "     CustServ.Calls=0,              \n",
      "     Churn.=False.}                3\n",
      "[4] {VMail.Plan=no,                 \n",
      "     Int.l.Plan=yes,                \n",
      "     CustServ.Calls=2,              \n",
      "     Churn.=False.}                4\n"
     ]
    }
   ],
   "source": [
    "# explore 4 transactions\n",
    "inspect(head(df1, 4))"
   ]
  },
  {
   "cell_type": "code",
   "execution_count": 61,
   "metadata": {},
   "outputs": [
    {
     "name": "stdout",
     "output_type": "stream",
     "text": [
      "Apriori\n",
      "\n",
      "Parameter specification:\n",
      " confidence minval smax arem  aval originalSupport maxtime support minlen\n",
      "       0.05    0.1    1 none FALSE            TRUE       5    0.01      2\n",
      " maxlen target  ext\n",
      "      2  rules TRUE\n",
      "\n",
      "Algorithmic control:\n",
      " filter tree heap memopt load sort verbose\n",
      "    0.1 TRUE TRUE  FALSE TRUE    2    TRUE\n",
      "\n",
      "Absolute minimum support count: 33 \n",
      "\n",
      "set item appearances ...[0 item(s)] done [0.00s].\n",
      "set transactions ...[16 item(s), 3333 transaction(s)] done [0.00s].\n",
      "sorting and recoding items ... [12 item(s)] done [0.00s].\n",
      "creating transaction tree ... done [0.00s].\n",
      "checking subsets of size 1 2"
     ]
    },
    {
     "name": "stderr",
     "output_type": "stream",
     "text": [
      "Warning message in apriori(df1, parameter = list(target = \"rules\", supp = 0.01, :\n",
      "\"Mining stopped (maxlen reached). Only patterns up to a length of 2 returned!\""
     ]
    },
    {
     "name": "stdout",
     "output_type": "stream",
     "text": [
      " done [0.00s].\n",
      "writing ... [83 rule(s)] done [0.00s].\n",
      "creating S4 object  ... done [0.00s].\n"
     ]
    }
   ],
   "source": [
    "# target=\"rules\" for association rules\n",
    "# minlen=2 and maxlen=2 specifies that we want antecedents with exactly 1\n",
    "rules <- apriori(df1, parameter=list(target=\"rules\", supp=0.01, \n",
    "                                     conf=0.05, maxlen=2, minlen=2, ext=TRUE))"
   ]
  },
  {
   "cell_type": "code",
   "execution_count": 63,
   "metadata": {},
   "outputs": [
    {
     "name": "stdout",
     "output_type": "stream",
     "text": [
      "    lhs                   rhs                support    confidence lhs.support\n",
      "[1] {CustServ.Calls=5} => {Churn.=True.}     0.01200120 0.60606061 0.01980198 \n",
      "[2] {Churn.=True.}     => {CustServ.Calls=5} 0.01200120 0.08281573 0.14491449 \n",
      "[3] {CustServ.Calls=5} => {VMail.Plan=no}    0.01470147 0.74242424 0.01980198 \n",
      "[4] {CustServ.Calls=5} => {Int.l.Plan=no}    0.01800180 0.90909091 0.01980198 \n",
      "[5] {CustServ.Calls=4} => {Churn.=True.}     0.02280228 0.45783133 0.04980498 \n",
      "[6] {Churn.=True.}     => {CustServ.Calls=4} 0.02280228 0.15734990 0.14491449 \n",
      "    lift     count\n",
      "[1] 4.182195 40   \n",
      "[2] 4.182195 40   \n",
      "[3] 1.026338 49   \n",
      "[4] 1.006645 60   \n",
      "[5] 3.159321 76   \n",
      "[6] 3.159321 76   \n"
     ]
    }
   ],
   "source": [
    "inspect(head(rules))"
   ]
  },
  {
   "cell_type": "code",
   "execution_count": 65,
   "metadata": {},
   "outputs": [
    {
     "name": "stdout",
     "output_type": "stream",
     "text": [
      "     lhs                   rhs                support   confidence lhs.support\n",
      "[1]  {Churn.=False.}    => {Int.l.Plan=no}    0.7992799 0.9347368  0.8550855  \n",
      "[2]  {Int.l.Plan=no}    => {Churn.=False.}    0.7992799 0.8850498  0.9030903  \n",
      "[3]  {VMail.Plan=no}    => {Int.l.Plan=no}    0.6540654 0.9041891  0.7233723  \n",
      "[4]  {Int.l.Plan=no}    => {VMail.Plan=no}    0.6540654 0.7242525  0.9030903  \n",
      "[5]  {VMail.Plan=no}    => {Churn.=False.}    0.6024602 0.8328494  0.7233723  \n",
      "[6]  {Churn.=False.}    => {VMail.Plan=no}    0.6024602 0.7045614  0.8550855  \n",
      "[7]  {CustServ.Calls=1} => {Int.l.Plan=no}    0.3207321 0.9051651  0.3543354  \n",
      "[8]  {Int.l.Plan=no}    => {CustServ.Calls=1} 0.3207321 0.3551495  0.9030903  \n",
      "[9]  {CustServ.Calls=1} => {Churn.=False.}    0.3177318 0.8966977  0.3543354  \n",
      "[10] {Churn.=False.}    => {CustServ.Calls=1} 0.3177318 0.3715789  0.8550855  \n",
      "     lift      count\n",
      "[1]  1.0350425 2664 \n",
      "[2]  1.0350425 2664 \n",
      "[3]  1.0012167 2180 \n",
      "[4]  1.0012167 2180 \n",
      "[5]  0.9739955 2008 \n",
      "[6]  0.9739955 2008 \n",
      "[7]  1.0022975 1069 \n",
      "[8]  1.0022975 1069 \n",
      "[9]  1.0486644 1059 \n",
      "[10] 1.0486644 1059 \n"
     ]
    }
   ],
   "source": [
    "# top 10 rules by support\n",
    "inspect(head(rules, by=\"support\", n=10))"
   ]
  },
  {
   "cell_type": "code",
   "execution_count": 66,
   "metadata": {},
   "outputs": [
    {
     "name": "stdout",
     "output_type": "stream",
     "text": [
      "     lhs                   rhs             support   confidence lhs.support\n",
      "[1]  {Churn.=False.}    => {Int.l.Plan=no} 0.7992799 0.9347368  0.85508551 \n",
      "[2]  {CustServ.Calls=2} => {Int.l.Plan=no} 0.2091209 0.9183136  0.22772277 \n",
      "[3]  {VMail.Plan=yes}   => {Churn.=False.} 0.2526253 0.9132321  0.27662766 \n",
      "[4]  {CustServ.Calls=3} => {Int.l.Plan=no} 0.1173117 0.9114219  0.12871287 \n",
      "[5]  {CustServ.Calls=5} => {Int.l.Plan=no} 0.0180018 0.9090909  0.01980198 \n",
      "[6]  {CustServ.Calls=1} => {Int.l.Plan=no} 0.3207321 0.9051651  0.35433543 \n",
      "[7]  {VMail.Plan=no}    => {Int.l.Plan=no} 0.6540654 0.9041891  0.72337234 \n",
      "[8]  {VMail.Plan=yes}   => {Int.l.Plan=no} 0.2490249 0.9002169  0.27662766 \n",
      "[9]  {CustServ.Calls=3} => {Churn.=False.} 0.1155116 0.8974359  0.12871287 \n",
      "[10] {CustServ.Calls=1} => {Churn.=False.} 0.3177318 0.8966977  0.35433543 \n",
      "     lift      count\n",
      "[1]  1.0350425 2664 \n",
      "[2]  1.0168569  697 \n",
      "[3]  1.0680009  842 \n",
      "[4]  1.0092257  391 \n",
      "[5]  1.0066445   60 \n",
      "[6]  1.0022975 1069 \n",
      "[7]  1.0012167 2180 \n",
      "[8]  0.9968183  830 \n",
      "[9]  1.0495277  385 \n",
      "[10] 1.0486644 1059 \n"
     ]
    }
   ],
   "source": [
    "# top 10 rules by confidence\n",
    "inspect(head(rules, by=\"confidence\", n=10))"
   ]
  },
  {
   "cell_type": "code",
   "execution_count": 67,
   "metadata": {},
   "outputs": [
    {
     "name": "stdout",
     "output_type": "stream",
     "text": [
      "     lhs                   rhs                support    confidence lhs.support\n",
      "[1]  {CustServ.Calls=5} => {Churn.=True.}     0.01200120 0.60606061 0.01980198 \n",
      "[2]  {Churn.=True.}     => {CustServ.Calls=5} 0.01200120 0.08281573 0.14491449 \n",
      "[3]  {CustServ.Calls=4} => {Churn.=True.}     0.02280228 0.45783133 0.04980498 \n",
      "[4]  {Churn.=True.}     => {CustServ.Calls=4} 0.02280228 0.15734990 0.14491449 \n",
      "[5]  {Int.l.Plan=yes}   => {Churn.=True.}     0.04110411 0.42414861 0.09690969 \n",
      "[6]  {Churn.=True.}     => {Int.l.Plan=yes}   0.04110411 0.28364389 0.14491449 \n",
      "[7]  {Int.l.Plan=yes}   => {CustServ.Calls=0} 0.02490249 0.25696594 0.09690969 \n",
      "[8]  {CustServ.Calls=0} => {Int.l.Plan=yes}   0.02490249 0.11908178 0.20912091 \n",
      "[9]  {VMail.Plan=no}    => {Churn.=True.}     0.12091209 0.16715056 0.72337234 \n",
      "[10] {Churn.=True.}     => {VMail.Plan=no}    0.12091209 0.83436853 0.14491449 \n",
      "     lift     count\n",
      "[1]  4.182195  40  \n",
      "[2]  4.182195  40  \n",
      "[3]  3.159321  76  \n",
      "[4]  3.159321  76  \n",
      "[5]  2.926889 137  \n",
      "[6]  2.926889 137  \n",
      "[7]  1.228791  83  \n",
      "[8]  1.228791  83  \n",
      "[9]  1.153443 403  \n",
      "[10] 1.153443 403  \n"
     ]
    }
   ],
   "source": [
    "# top 10 rules by lift\n",
    "inspect(head(rules, by=\"lift\", n=10))"
   ]
  },
  {
   "cell_type": "markdown",
   "metadata": {},
   "source": [
    "### Conclusion:\n",
    "The Association Rule with the greatest Lift:\n",
    "- Lift - 4.18\n",
    "- Antecedent - {CustServ.Calls=5}\n",
    "- Consequent - {Churn.=True.}\n",
    "- Support - 1.2%\n",
    "- Confidence - 60.6%."
   ]
  }
 ],
 "metadata": {
  "kernelspec": {
   "display_name": "R",
   "language": "R",
   "name": "ir"
  },
  "language_info": {
   "codemirror_mode": "r",
   "file_extension": ".r",
   "mimetype": "text/x-r-source",
   "name": "R",
   "pygments_lexer": "r",
   "version": "3.6.1"
  }
 },
 "nbformat": 4,
 "nbformat_minor": 2
}
