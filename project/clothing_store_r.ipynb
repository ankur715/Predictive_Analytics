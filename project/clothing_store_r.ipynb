{
 "cells": [
  {
   "cell_type": "markdown",
   "metadata": {},
   "source": [
    "## Clothin Store\n",
    "### - _Ankur Patel_"
   ]
  },
  {
   "cell_type": "markdown",
   "metadata": {},
   "source": [
    "### Introduction:\n",
    "\n",
    "The Clothing_store_training_test data set contains information about customers on the 119 variables. The target variable is the Response of 1 or 0, which is True or False. A classification model will be developed to maximize profits for direct-mail marketing."
   ]
  },
  {
   "cell_type": "markdown",
   "metadata": {},
   "source": [
    "### Preprocessing:"
   ]
  },
  {
   "cell_type": "code",
   "execution_count": 1,
   "metadata": {},
   "outputs": [
    {
     "name": "stderr",
     "output_type": "stream",
     "text": [
      "Loading required package: lattice\n",
      "Loading required package: ggplot2\n"
     ]
    }
   ],
   "source": [
    "# read library\n",
    "library(caret)"
   ]
  },
  {
   "cell_type": "code",
   "execution_count": 4,
   "metadata": {
    "scrolled": true
   },
   "outputs": [
    {
     "data": {
      "text/html": [
       "<table>\n",
       "<thead><tr><th scope=col>HHKEY</th><th scope=col>ZIP_CODE</th><th scope=col>REC</th><th scope=col>FRE</th><th scope=col>MON</th><th scope=col>CC_CARD</th><th scope=col>AVRG</th><th scope=col>PC_CALC20</th><th scope=col>PSWEATERS</th><th scope=col>PKNIT_TOPS</th><th scope=col>...</th><th scope=col>ln.lifetime.ave.time.betw.visits</th><th scope=col>ln.product.uniformity</th><th scope=col>sqrt.responded</th><th scope=col>flag.returns</th><th scope=col>flag.response.rate</th><th scope=col>flag.markdown</th><th scope=col>sqrt.spending.months.2.3</th><th scope=col>sqrt.spending.months.4.5.6</th><th scope=col>flag.spending.months.4.5.6</th><th scope=col>flag.spending.months.2.3</th></tr></thead>\n",
       "<tbody>\n",
       "\t<tr><td>9.9556e+12</td><td>1001      </td><td>208       </td><td>2         </td><td>368.46    </td><td>0         </td><td>184.23    </td><td>11        </td><td>0.18      </td><td>0.00      </td><td>...       </td><td>4.709530  </td><td>3.459781  </td><td>0.000000  </td><td>FALSE     </td><td>FALSE     </td><td>TRUE      </td><td> 0.000000 </td><td> 0.000000 </td><td>FALSE     </td><td>FALSE     </td></tr>\n",
       "\t<tr><td>9.9556e+12</td><td>1028      </td><td>  6       </td><td>4         </td><td>258.00    </td><td>1         </td><td> 64.50    </td><td>11        </td><td>0.26      </td><td>0.16      </td><td>...       </td><td>3.772761  </td><td>3.487987  </td><td>1.414214  </td><td> TRUE     </td><td> TRUE     </td><td>TRUE      </td><td> 9.055937 </td><td>10.954451 </td><td> TRUE     </td><td> TRUE     </td></tr>\n",
       "\t<tr><td>9.9556e+12</td><td>1056      </td><td>327       </td><td>2         </td><td> 77.00    </td><td>0         </td><td> 38.50    </td><td>11        </td><td>1.00      </td><td>0.00      </td><td>...       </td><td>4.228293  </td><td>4.605170  </td><td>0.000000  </td><td>FALSE     </td><td>FALSE     </td><td>TRUE      </td><td> 0.000000 </td><td> 0.000000 </td><td>FALSE     </td><td>FALSE     </td></tr>\n",
       "\t<tr><td>9.9556e+12</td><td>1118      </td><td> 66       </td><td>8         </td><td>846.06    </td><td>1         </td><td>105.75    </td><td>11        </td><td>0.38      </td><td>0.00      </td><td>...       </td><td>3.294354  </td><td>3.147165  </td><td>2.449490  </td><td>FALSE     </td><td> TRUE     </td><td>TRUE      </td><td>10.244023 </td><td>16.399085 </td><td> TRUE     </td><td> TRUE     </td></tr>\n",
       "\t<tr><td>9.9556e+12</td><td>1107      </td><td> 49       </td><td>1         </td><td> 87.44    </td><td>0         </td><td> 87.44    </td><td>11        </td><td>0.20      </td><td>0.20      </td><td>...       </td><td>3.198673  </td><td>3.350606  </td><td>0.000000  </td><td>FALSE     </td><td>FALSE     </td><td>TRUE      </td><td> 9.350936 </td><td> 0.000000 </td><td>FALSE     </td><td> TRUE     </td></tr>\n",
       "\t<tr><td>9.9556e+12</td><td>1106      </td><td> 26       </td><td>2         </td><td>120.00    </td><td>0         </td><td> 60.00    </td><td>11        </td><td>0.00      </td><td>0.56      </td><td>...       </td><td>4.283587  </td><td>3.888550  </td><td>0.000000  </td><td>FALSE     </td><td>FALSE     </td><td>TRUE      </td><td> 0.000000 </td><td> 7.615773 </td><td> TRUE     </td><td>FALSE     </td></tr>\n",
       "</tbody>\n",
       "</table>\n"
      ],
      "text/latex": [
       "\\begin{tabular}{r|lllllllllllllllllllllllllllllllllllllllllllllllllllllllllllllllllllllllllllllllllllllllllllllllllllllllllllllllllllllll}\n",
       " HHKEY & ZIP\\_CODE & REC & FRE & MON & CC\\_CARD & AVRG & PC\\_CALC20 & PSWEATERS & PKNIT\\_TOPS & ... & ln.lifetime.ave.time.betw.visits & ln.product.uniformity & sqrt.responded & flag.returns & flag.response.rate & flag.markdown & sqrt.spending.months.2.3 & sqrt.spending.months.4.5.6 & flag.spending.months.4.5.6 & flag.spending.months.2.3\\\\\n",
       "\\hline\n",
       "\t 9.9556e+12 & 1001       & 208        & 2          & 368.46     & 0          & 184.23     & 11         & 0.18       & 0.00       & ...        & 4.709530   & 3.459781   & 0.000000   & FALSE      & FALSE      & TRUE       &  0.000000  &  0.000000  & FALSE      & FALSE     \\\\\n",
       "\t 9.9556e+12 & 1028       &   6        & 4          & 258.00     & 1          &  64.50     & 11         & 0.26       & 0.16       & ...        & 3.772761   & 3.487987   & 1.414214   &  TRUE      &  TRUE      & TRUE       &  9.055937  & 10.954451  &  TRUE      &  TRUE     \\\\\n",
       "\t 9.9556e+12 & 1056       & 327        & 2          &  77.00     & 0          &  38.50     & 11         & 1.00       & 0.00       & ...        & 4.228293   & 4.605170   & 0.000000   & FALSE      & FALSE      & TRUE       &  0.000000  &  0.000000  & FALSE      & FALSE     \\\\\n",
       "\t 9.9556e+12 & 1118       &  66        & 8          & 846.06     & 1          & 105.75     & 11         & 0.38       & 0.00       & ...        & 3.294354   & 3.147165   & 2.449490   & FALSE      &  TRUE      & TRUE       & 10.244023  & 16.399085  &  TRUE      &  TRUE     \\\\\n",
       "\t 9.9556e+12 & 1107       &  49        & 1          &  87.44     & 0          &  87.44     & 11         & 0.20       & 0.20       & ...        & 3.198673   & 3.350606   & 0.000000   & FALSE      & FALSE      & TRUE       &  9.350936  &  0.000000  & FALSE      &  TRUE     \\\\\n",
       "\t 9.9556e+12 & 1106       &  26        & 2          & 120.00     & 0          &  60.00     & 11         & 0.00       & 0.56       & ...        & 4.283587   & 3.888550   & 0.000000   & FALSE      & FALSE      & TRUE       &  0.000000  &  7.615773  &  TRUE      & FALSE     \\\\\n",
       "\\end{tabular}\n"
      ],
      "text/markdown": [
       "\n",
       "| HHKEY | ZIP_CODE | REC | FRE | MON | CC_CARD | AVRG | PC_CALC20 | PSWEATERS | PKNIT_TOPS | ... | ln.lifetime.ave.time.betw.visits | ln.product.uniformity | sqrt.responded | flag.returns | flag.response.rate | flag.markdown | sqrt.spending.months.2.3 | sqrt.spending.months.4.5.6 | flag.spending.months.4.5.6 | flag.spending.months.2.3 |\n",
       "|---|---|---|---|---|---|---|---|---|---|---|---|---|---|---|---|---|---|---|---|---|\n",
       "| 9.9556e+12 | 1001       | 208        | 2          | 368.46     | 0          | 184.23     | 11         | 0.18       | 0.00       | ...        | 4.709530   | 3.459781   | 0.000000   | FALSE      | FALSE      | TRUE       |  0.000000  |  0.000000  | FALSE      | FALSE      |\n",
       "| 9.9556e+12 | 1028       |   6        | 4          | 258.00     | 1          |  64.50     | 11         | 0.26       | 0.16       | ...        | 3.772761   | 3.487987   | 1.414214   |  TRUE      |  TRUE      | TRUE       |  9.055937  | 10.954451  |  TRUE      |  TRUE      |\n",
       "| 9.9556e+12 | 1056       | 327        | 2          |  77.00     | 0          |  38.50     | 11         | 1.00       | 0.00       | ...        | 4.228293   | 4.605170   | 0.000000   | FALSE      | FALSE      | TRUE       |  0.000000  |  0.000000  | FALSE      | FALSE      |\n",
       "| 9.9556e+12 | 1118       |  66        | 8          | 846.06     | 1          | 105.75     | 11         | 0.38       | 0.00       | ...        | 3.294354   | 3.147165   | 2.449490   | FALSE      |  TRUE      | TRUE       | 10.244023  | 16.399085  |  TRUE      |  TRUE      |\n",
       "| 9.9556e+12 | 1107       |  49        | 1          |  87.44     | 0          |  87.44     | 11         | 0.20       | 0.20       | ...        | 3.198673   | 3.350606   | 0.000000   | FALSE      | FALSE      | TRUE       |  9.350936  |  0.000000  | FALSE      |  TRUE      |\n",
       "| 9.9556e+12 | 1106       |  26        | 2          | 120.00     | 0          |  60.00     | 11         | 0.00       | 0.56       | ...        | 4.283587   | 3.888550   | 0.000000   | FALSE      | FALSE      | TRUE       |  0.000000  |  7.615773  |  TRUE      | FALSE      |\n",
       "\n"
      ],
      "text/plain": [
       "  HHKEY      ZIP_CODE REC FRE MON    CC_CARD AVRG   PC_CALC20 PSWEATERS\n",
       "1 9.9556e+12 1001     208 2   368.46 0       184.23 11        0.18     \n",
       "2 9.9556e+12 1028       6 4   258.00 1        64.50 11        0.26     \n",
       "3 9.9556e+12 1056     327 2    77.00 0        38.50 11        1.00     \n",
       "4 9.9556e+12 1118      66 8   846.06 1       105.75 11        0.38     \n",
       "5 9.9556e+12 1107      49 1    87.44 0        87.44 11        0.20     \n",
       "6 9.9556e+12 1106      26 2   120.00 0        60.00 11        0.00     \n",
       "  PKNIT_TOPS ... ln.lifetime.ave.time.betw.visits ln.product.uniformity\n",
       "1 0.00       ... 4.709530                         3.459781             \n",
       "2 0.16       ... 3.772761                         3.487987             \n",
       "3 0.00       ... 4.228293                         4.605170             \n",
       "4 0.00       ... 3.294354                         3.147165             \n",
       "5 0.20       ... 3.198673                         3.350606             \n",
       "6 0.56       ... 4.283587                         3.888550             \n",
       "  sqrt.responded flag.returns flag.response.rate flag.markdown\n",
       "1 0.000000       FALSE        FALSE              TRUE         \n",
       "2 1.414214        TRUE         TRUE              TRUE         \n",
       "3 0.000000       FALSE        FALSE              TRUE         \n",
       "4 2.449490       FALSE         TRUE              TRUE         \n",
       "5 0.000000       FALSE        FALSE              TRUE         \n",
       "6 0.000000       FALSE        FALSE              TRUE         \n",
       "  sqrt.spending.months.2.3 sqrt.spending.months.4.5.6\n",
       "1  0.000000                 0.000000                 \n",
       "2  9.055937                10.954451                 \n",
       "3  0.000000                 0.000000                 \n",
       "4 10.244023                16.399085                 \n",
       "5  9.350936                 0.000000                 \n",
       "6  0.000000                 7.615773                 \n",
       "  flag.spending.months.4.5.6 flag.spending.months.2.3\n",
       "1 FALSE                      FALSE                   \n",
       "2  TRUE                       TRUE                   \n",
       "3 FALSE                      FALSE                   \n",
       "4  TRUE                       TRUE                   \n",
       "5 FALSE                       TRUE                   \n",
       "6  TRUE                      FALSE                   "
      ]
     },
     "metadata": {},
     "output_type": "display_data"
    }
   ],
   "source": [
    "# reading the clothing_store_training_test dataset\n",
    "df = read.csv(file.choose())\n",
    "head(df)"
   ]
  },
  {
   "cell_type": "code",
   "execution_count": 36,
   "metadata": {},
   "outputs": [
    {
     "name": "stdout",
     "output_type": "stream",
     "text": [
      "'data.frame':\t2619 obs. of  119 variables:\n",
      " $ HHKEY                           : num  9.96e+12 9.96e+12 9.96e+12 9.96e+12 9.96e+12 ...\n",
      " $ ZIP_CODE                        : int  1001 1028 1056 1118 1107 1106 1108 1118 1106 1104 ...\n",
      " $ REC                             : int  208 6 327 66 49 26 98 145 356 264 ...\n",
      " $ FRE                             : int  2 4 2 8 1 2 3 1 1 1 ...\n",
      " $ MON                             : num  368.5 258 77 846.1 87.4 ...\n",
      " $ CC_CARD                         : int  0 1 0 1 0 0 0 1 0 0 ...\n",
      " $ AVRG                            : num  184.2 64.5 38.5 105.8 87.4 ...\n",
      " $ PC_CALC20                       : int  11 11 11 11 11 11 11 11 11 11 ...\n",
      " $ PSWEATERS                       : num  0.18 0.26 1 0.38 0.2 0 0.16 0.12 0 0.24 ...\n",
      " $ PKNIT_TOPS                      : num  0 0.16 0 0 0.2 0.56 0.06 0 0 0 ...\n",
      " $ PKNIT_DRES                      : num  0 0 0 0.05 0 0 0 0 0 0 ...\n",
      " $ PBLOUSES                        : num  0.3 0 0 0.06 0 0 0 0 0 0 ...\n",
      " $ PJACKETS                        : num  0 0 0 0.2 0 0 0.36 0.57 0 0.31 ...\n",
      " $ PCAR_PNTS                       : num  0.25 0.18 0 0.17 0 0 0.14 0.12 0 0.18 ...\n",
      " $ PCAS_PNTS                       : num  0 0.14 0 0 0.41 0 0.12 0 1 0 ...\n",
      " $ PSHIRTS                         : num  0.19 0 0 0.05 0 0 0 0.17 0 0 ...\n",
      " $ PDRESSES                        : num  0 0.18 0 0 0 0 0 0 0 0.26 ...\n",
      " $ PSUITS                          : num  0 0 0 0 0 0 0 0 0 0 ...\n",
      " $ POUTERWEAR                      : num  0 0 0 0 0 0 0 0 0 0 ...\n",
      " $ PJEWELRY                        : num  0 0 0 0.00531 0.17 ...\n",
      " $ PFASHION                        : num  0.02 0 0 0.03 0 0.4 0.11 0 0 0 ...\n",
      " $ PLEGWEAR                        : num  0.03 0.02 0 0.01 0 0 0 0 0 0 ...\n",
      " $ PCOLLSPND                       : num  0.29 0.37 0 0 0 0 0 0 0 0.49 ...\n",
      " $ AMSPEND                         : num  0 0 0 0 0 0 0 0 0 0 ...\n",
      " $ PSSPEND                         : num  0 0 0 0 0 58 0 0 0 0 ...\n",
      " $ CCSPEND                         : num  368.5 258 77 846.1 87.4 ...\n",
      " $ AXSPEND                         : num  0 0 0 0 0 0 0 0 0 0 ...\n",
      " $ TMONSPEND                       : num  0 138 0 104.9 87.4 ...\n",
      " $ OMONSPEND                       : num  0 56 0 0 0 ...\n",
      " $ SMONSPEND                       : num  0 258 0 373.9 87.4 ...\n",
      " $ PREVPD                          : num  0 0 39 166 0 ...\n",
      " $ GMP                             : num  0.6 0.54 0.62 0.43 0.22 0.47 0.41 0.66 0.56 0.68 ...\n",
      " $ PROMOS                          : int  17 14 10 24 0 3 21 15 6 14 ...\n",
      " $ DAYS                            : int  666 696 343 701 49 145 639 145 447 264 ...\n",
      " $ FREDAYS                         : num  333 174 171.5 87.6 49 ...\n",
      " $ MARKDOWN                        : num  0.08 0.33 0.11 0.29 0.42 0.41 0.29 0.1 0.19 0.07 ...\n",
      " $ CLASSES                         : int  9 6 1 15 4 3 12 4 1 5 ...\n",
      " $ COUPONS                         : int  1 0 0 3 0 0 2 1 0 0 ...\n",
      " $ STYLES                          : int  11 14 2 35 8 5 19 13 2 6 ...\n",
      " $ STORES                          : int  1 1 1 1 1 2 1 1 1 1 ...\n",
      " $ STORELOY                        : int  7 7 7 7 7 7 7 7 7 7 ...\n",
      " $ VALPHON                         : num  0 1 0 1 1 1 1 1 1 0 ...\n",
      " $ WEB                             : int  0 0 0 0 0 0 0 0 0 0 ...\n",
      " $ MAILED                          : int  5 4 4 9 0 0 10 4 4 3 ...\n",
      " $ RESPONDED                       : int  0 2 0 6 0 0 3 0 1 0 ...\n",
      " $ RESPONSERATE                    : num  0 50 0 66.7 0 ...\n",
      " $ HI                              : num  31.8 32.7 100 23.3 28.5 ...\n",
      " $ LTFREDAY                        : num  111 43.5 68.6 27 24.5 ...\n",
      " $ CLUSTYPE                        : int  10 10 16 10 20 3 8 10 10 23 ...\n",
      " $ PERCRET                         : num  0 0.03 0 0 0 0 0 0 0 0 ...\n",
      " $ RESP                            : Factor w/ 2 levels \"Yes\",\"No\": 2 1 2 2 2 2 2 2 2 2 ...\n",
      " $ Tot_Spend                       : num  368.5 258 77 846.1 87.4 ...\n",
      " $ Sales.per.Visit                 : num  184.2 64.5 38.5 105.8 87.4 ...\n",
      " $ Spending_Month_2_3              : num  0 82 0 104.9 87.4 ...\n",
      " $ Spending_Month_4_5_6            : num  0 120 0 269 0 ...\n",
      " $ bc.purchase.visits              : num  0.431 0.583 0.431 0.637 0 ...\n",
      " $ ln.total.net.sales              : num  5.91 5.55 4.34 6.74 4.47 ...\n",
      " $ ln_ave.spending.per.visit       : num  5.22 4.17 3.65 4.66 4.47 ...\n",
      " $ sqrt.sweaters                   : num  0.424 0.51 1 0.616 0.447 ...\n",
      " $ sqrt.knit.tops                  : num  0 0.4 0 0 0.447 ...\n",
      " $ sqrt.knit.dresses               : num  0 0 0 0.224 0 ...\n",
      " $ sqrt.blouses                    : num  0.548 0 0 0.245 0 ...\n",
      " $ sqrt.jackets                    : num  0 0 0 0.447 0 ...\n",
      " $ sqrt.career.pants               : num  0.5 0.424 0 0.412 0 ...\n",
      " $ sqrt.casual.pants               : num  0 0.374 0 0 0.64 ...\n",
      " $ sqrt.shirts                     : num  0.436 0 0 0.224 0 ...\n",
      " $ sqrt.dresses                    : num  0 0.424 0 0 0 ...\n",
      " $ sqrt.suits                      : num  0 0 0 0 0 0 0 0 0 0 ...\n",
      " $ sqrt.outerwear                  : num  0 0 0 0 0 0 0 0 0 0 ...\n",
      " $ sqrt.jewelry                    : num  0 0 0 0.0728 0.4123 ...\n",
      " $ sqrt.fashion                    : num  0.141 0 0 0.173 0 ...\n",
      " $ sqrt.legwear                    : num  0.173 0.141 0 0.1 0 ...\n",
      " $ sqrt.collectibles               : num  0.539 0.608 0 0 0 ...\n",
      " $ flag.sweaters                   : logi  TRUE TRUE TRUE TRUE TRUE FALSE ...\n",
      " $ flag.knit.tops                  : logi  FALSE TRUE FALSE FALSE TRUE TRUE ...\n",
      " $ flag.knit.dresses               : logi  FALSE FALSE FALSE TRUE FALSE FALSE ...\n",
      " $ flag.blouses                    : logi  TRUE FALSE FALSE TRUE FALSE FALSE ...\n",
      " $ flag.jackets                    : logi  FALSE FALSE FALSE TRUE FALSE FALSE ...\n",
      " $ flag.career.pants               : logi  TRUE TRUE FALSE TRUE FALSE FALSE ...\n",
      " $ flag.casual.pants               : logi  FALSE TRUE FALSE FALSE TRUE FALSE ...\n",
      " $ flag.shirts                     : logi  TRUE FALSE FALSE TRUE FALSE FALSE ...\n",
      " $ flag.dresses                    : logi  FALSE TRUE FALSE FALSE FALSE FALSE ...\n",
      " $ flag.suits                      : logi  FALSE FALSE FALSE FALSE FALSE FALSE ...\n",
      " $ flag.outerwear                  : logi  FALSE FALSE FALSE FALSE FALSE FALSE ...\n",
      " $ flag.jewelry                    : logi  FALSE FALSE FALSE TRUE TRUE TRUE ...\n",
      " $ flag.fashion                    : logi  TRUE FALSE FALSE TRUE FALSE TRUE ...\n",
      " $ flag.legwear                    : logi  TRUE TRUE FALSE TRUE FALSE FALSE ...\n",
      " $ flag.collectibles               : logi  TRUE TRUE FALSE FALSE FALSE FALSE ...\n",
      " $ sqrt.spending.AM                : num  0 0 0 0 0 0 0 0 0 0 ...\n",
      " $ sqrt.spending.PS                : num  0 0 0 0 0 ...\n",
      " $ sqrt.spending.CC                : num  19.2 16.06 8.77 29.09 9.35 ...\n",
      " $ sqrt.spending.AX                : num  0 0 0 0 0 0 0 0 0 0 ...\n",
      " $ sqrt.spending.last.three.months : num  0 11.75 0 10.24 9.35 ...\n",
      " $ sqrt.spending.last.one.month    : num  0 7.48 0 0 0 ...\n",
      " $ sqrt.spending.last.six.months   : num  0 16.06 0 19.34 9.35 ...\n",
      " $ sqrt.spending.SPLY              : num  0 0 6.24 12.89 0 ...\n",
      " $ flag.spending.AM                : logi  FALSE FALSE FALSE FALSE FALSE FALSE ...\n",
      " $ flag.spending.PS                : logi  FALSE FALSE FALSE FALSE FALSE TRUE ...\n",
      " $ flag.spending.CC                : logi  TRUE TRUE TRUE TRUE TRUE TRUE ...\n",
      "  [list output truncated]\n"
     ]
    }
   ],
   "source": [
    "# dataset size and datatype of variables\n",
    "str(df)"
   ]
  },
  {
   "cell_type": "code",
   "execution_count": 6,
   "metadata": {},
   "outputs": [],
   "source": [
    "# drop any incomplete records\n",
    "df = df[complete.cases(df),]"
   ]
  },
  {
   "cell_type": "code",
   "execution_count": 7,
   "metadata": {},
   "outputs": [
    {
     "data": {
      "text/html": [
       "<ol class=list-inline>\n",
       "\t<li>'HHKEY'</li>\n",
       "\t<li>'ZIP_CODE'</li>\n",
       "\t<li>'REC'</li>\n",
       "\t<li>'FRE'</li>\n",
       "\t<li>'MON'</li>\n",
       "\t<li>'CC_CARD'</li>\n",
       "\t<li>'AVRG'</li>\n",
       "\t<li>'PC_CALC20'</li>\n",
       "\t<li>'PSWEATERS'</li>\n",
       "\t<li>'PKNIT_TOPS'</li>\n",
       "\t<li>'PKNIT_DRES'</li>\n",
       "\t<li>'PBLOUSES'</li>\n",
       "\t<li>'PJACKETS'</li>\n",
       "\t<li>'PCAR_PNTS'</li>\n",
       "\t<li>'PCAS_PNTS'</li>\n",
       "\t<li>'PSHIRTS'</li>\n",
       "\t<li>'PDRESSES'</li>\n",
       "\t<li>'PSUITS'</li>\n",
       "\t<li>'POUTERWEAR'</li>\n",
       "\t<li>'PJEWELRY'</li>\n",
       "\t<li>'PFASHION'</li>\n",
       "\t<li>'PLEGWEAR'</li>\n",
       "\t<li>'PCOLLSPND'</li>\n",
       "\t<li>'AMSPEND'</li>\n",
       "\t<li>'PSSPEND'</li>\n",
       "\t<li>'CCSPEND'</li>\n",
       "\t<li>'AXSPEND'</li>\n",
       "\t<li>'TMONSPEND'</li>\n",
       "\t<li>'OMONSPEND'</li>\n",
       "\t<li>'SMONSPEND'</li>\n",
       "\t<li>'PREVPD'</li>\n",
       "\t<li>'GMP'</li>\n",
       "\t<li>'PROMOS'</li>\n",
       "\t<li>'DAYS'</li>\n",
       "\t<li>'FREDAYS'</li>\n",
       "\t<li>'MARKDOWN'</li>\n",
       "\t<li>'CLASSES'</li>\n",
       "\t<li>'COUPONS'</li>\n",
       "\t<li>'STYLES'</li>\n",
       "\t<li>'STORES'</li>\n",
       "\t<li>'STORELOY'</li>\n",
       "\t<li>'VALPHON'</li>\n",
       "\t<li>'WEB'</li>\n",
       "\t<li>'MAILED'</li>\n",
       "\t<li>'RESPONDED'</li>\n",
       "\t<li>'RESPONSERATE'</li>\n",
       "\t<li>'HI'</li>\n",
       "\t<li>'LTFREDAY'</li>\n",
       "\t<li>'CLUSTYPE'</li>\n",
       "\t<li>'PERCRET'</li>\n",
       "\t<li>'RESP'</li>\n",
       "\t<li>'Tot_Spend'</li>\n",
       "\t<li>'Sales.per.Visit'</li>\n",
       "\t<li>'Spending_Month_2_3'</li>\n",
       "\t<li>'Spending_Month_4_5_6'</li>\n",
       "\t<li>'bc.purchase.visits'</li>\n",
       "\t<li>'ln.total.net.sales'</li>\n",
       "\t<li>'ln_ave.spending.per.visit'</li>\n",
       "\t<li>'sqrt.sweaters'</li>\n",
       "\t<li>'sqrt.knit.tops'</li>\n",
       "\t<li>'sqrt.knit.dresses'</li>\n",
       "\t<li>'sqrt.blouses'</li>\n",
       "\t<li>'sqrt.jackets'</li>\n",
       "\t<li>'sqrt.career.pants'</li>\n",
       "\t<li>'sqrt.casual.pants'</li>\n",
       "\t<li>'sqrt.shirts'</li>\n",
       "\t<li>'sqrt.dresses'</li>\n",
       "\t<li>'sqrt.suits'</li>\n",
       "\t<li>'sqrt.outerwear'</li>\n",
       "\t<li>'sqrt.jewelry'</li>\n",
       "\t<li>'sqrt.fashion'</li>\n",
       "\t<li>'sqrt.legwear'</li>\n",
       "\t<li>'sqrt.collectibles'</li>\n",
       "\t<li>'flag.sweaters'</li>\n",
       "\t<li>'flag.knit.tops'</li>\n",
       "\t<li>'flag.knit.dresses'</li>\n",
       "\t<li>'flag.blouses'</li>\n",
       "\t<li>'flag.jackets'</li>\n",
       "\t<li>'flag.career.pants'</li>\n",
       "\t<li>'flag.casual.pants'</li>\n",
       "\t<li>'flag.shirts'</li>\n",
       "\t<li>'flag.dresses'</li>\n",
       "\t<li>'flag.suits'</li>\n",
       "\t<li>'flag.outerwear'</li>\n",
       "\t<li>'flag.jewelry'</li>\n",
       "\t<li>'flag.fashion'</li>\n",
       "\t<li>'flag.legwear'</li>\n",
       "\t<li>'flag.collectibles'</li>\n",
       "\t<li>'sqrt.spending.AM'</li>\n",
       "\t<li>'sqrt.spending.PS'</li>\n",
       "\t<li>'sqrt.spending.CC'</li>\n",
       "\t<li>'sqrt.spending.AX'</li>\n",
       "\t<li>'sqrt.spending.last.three.months'</li>\n",
       "\t<li>'sqrt.spending.last.one.month'</li>\n",
       "\t<li>'sqrt.spending.last.six.months'</li>\n",
       "\t<li>'sqrt.spending.SPLY'</li>\n",
       "\t<li>'flag.spending.AM'</li>\n",
       "\t<li>'flag.spending.PS'</li>\n",
       "\t<li>'flag.spending.CC'</li>\n",
       "\t<li>'flag.spending.AX'</li>\n",
       "\t<li>'flag.spending.last.three.months'</li>\n",
       "\t<li>'flag.spending.last.one.month'</li>\n",
       "\t<li>'flag.spending.last.six.months'</li>\n",
       "\t<li>'flag.spending.SPLY'</li>\n",
       "\t<li>'ln.days.between.purchases'</li>\n",
       "\t<li>'ln...different.product.classes'</li>\n",
       "\t<li>'sqrt...coupons.used'</li>\n",
       "\t<li>'ln...individual.items.purchased'</li>\n",
       "\t<li>'ln.stores'</li>\n",
       "\t<li>'ln.lifetime.ave.time.betw.visits'</li>\n",
       "\t<li>'ln.product.uniformity'</li>\n",
       "\t<li>'sqrt.responded'</li>\n",
       "\t<li>'flag.returns'</li>\n",
       "\t<li>'flag.response.rate'</li>\n",
       "\t<li>'flag.markdown'</li>\n",
       "\t<li>'sqrt.spending.months.2.3'</li>\n",
       "\t<li>'sqrt.spending.months.4.5.6'</li>\n",
       "\t<li>'flag.spending.months.4.5.6'</li>\n",
       "\t<li>'flag.spending.months.2.3'</li>\n",
       "</ol>\n"
      ],
      "text/latex": [
       "\\begin{enumerate*}\n",
       "\\item 'HHKEY'\n",
       "\\item 'ZIP\\_CODE'\n",
       "\\item 'REC'\n",
       "\\item 'FRE'\n",
       "\\item 'MON'\n",
       "\\item 'CC\\_CARD'\n",
       "\\item 'AVRG'\n",
       "\\item 'PC\\_CALC20'\n",
       "\\item 'PSWEATERS'\n",
       "\\item 'PKNIT\\_TOPS'\n",
       "\\item 'PKNIT\\_DRES'\n",
       "\\item 'PBLOUSES'\n",
       "\\item 'PJACKETS'\n",
       "\\item 'PCAR\\_PNTS'\n",
       "\\item 'PCAS\\_PNTS'\n",
       "\\item 'PSHIRTS'\n",
       "\\item 'PDRESSES'\n",
       "\\item 'PSUITS'\n",
       "\\item 'POUTERWEAR'\n",
       "\\item 'PJEWELRY'\n",
       "\\item 'PFASHION'\n",
       "\\item 'PLEGWEAR'\n",
       "\\item 'PCOLLSPND'\n",
       "\\item 'AMSPEND'\n",
       "\\item 'PSSPEND'\n",
       "\\item 'CCSPEND'\n",
       "\\item 'AXSPEND'\n",
       "\\item 'TMONSPEND'\n",
       "\\item 'OMONSPEND'\n",
       "\\item 'SMONSPEND'\n",
       "\\item 'PREVPD'\n",
       "\\item 'GMP'\n",
       "\\item 'PROMOS'\n",
       "\\item 'DAYS'\n",
       "\\item 'FREDAYS'\n",
       "\\item 'MARKDOWN'\n",
       "\\item 'CLASSES'\n",
       "\\item 'COUPONS'\n",
       "\\item 'STYLES'\n",
       "\\item 'STORES'\n",
       "\\item 'STORELOY'\n",
       "\\item 'VALPHON'\n",
       "\\item 'WEB'\n",
       "\\item 'MAILED'\n",
       "\\item 'RESPONDED'\n",
       "\\item 'RESPONSERATE'\n",
       "\\item 'HI'\n",
       "\\item 'LTFREDAY'\n",
       "\\item 'CLUSTYPE'\n",
       "\\item 'PERCRET'\n",
       "\\item 'RESP'\n",
       "\\item 'Tot\\_Spend'\n",
       "\\item 'Sales.per.Visit'\n",
       "\\item 'Spending\\_Month\\_2\\_3'\n",
       "\\item 'Spending\\_Month\\_4\\_5\\_6'\n",
       "\\item 'bc.purchase.visits'\n",
       "\\item 'ln.total.net.sales'\n",
       "\\item 'ln\\_ave.spending.per.visit'\n",
       "\\item 'sqrt.sweaters'\n",
       "\\item 'sqrt.knit.tops'\n",
       "\\item 'sqrt.knit.dresses'\n",
       "\\item 'sqrt.blouses'\n",
       "\\item 'sqrt.jackets'\n",
       "\\item 'sqrt.career.pants'\n",
       "\\item 'sqrt.casual.pants'\n",
       "\\item 'sqrt.shirts'\n",
       "\\item 'sqrt.dresses'\n",
       "\\item 'sqrt.suits'\n",
       "\\item 'sqrt.outerwear'\n",
       "\\item 'sqrt.jewelry'\n",
       "\\item 'sqrt.fashion'\n",
       "\\item 'sqrt.legwear'\n",
       "\\item 'sqrt.collectibles'\n",
       "\\item 'flag.sweaters'\n",
       "\\item 'flag.knit.tops'\n",
       "\\item 'flag.knit.dresses'\n",
       "\\item 'flag.blouses'\n",
       "\\item 'flag.jackets'\n",
       "\\item 'flag.career.pants'\n",
       "\\item 'flag.casual.pants'\n",
       "\\item 'flag.shirts'\n",
       "\\item 'flag.dresses'\n",
       "\\item 'flag.suits'\n",
       "\\item 'flag.outerwear'\n",
       "\\item 'flag.jewelry'\n",
       "\\item 'flag.fashion'\n",
       "\\item 'flag.legwear'\n",
       "\\item 'flag.collectibles'\n",
       "\\item 'sqrt.spending.AM'\n",
       "\\item 'sqrt.spending.PS'\n",
       "\\item 'sqrt.spending.CC'\n",
       "\\item 'sqrt.spending.AX'\n",
       "\\item 'sqrt.spending.last.three.months'\n",
       "\\item 'sqrt.spending.last.one.month'\n",
       "\\item 'sqrt.spending.last.six.months'\n",
       "\\item 'sqrt.spending.SPLY'\n",
       "\\item 'flag.spending.AM'\n",
       "\\item 'flag.spending.PS'\n",
       "\\item 'flag.spending.CC'\n",
       "\\item 'flag.spending.AX'\n",
       "\\item 'flag.spending.last.three.months'\n",
       "\\item 'flag.spending.last.one.month'\n",
       "\\item 'flag.spending.last.six.months'\n",
       "\\item 'flag.spending.SPLY'\n",
       "\\item 'ln.days.between.purchases'\n",
       "\\item 'ln...different.product.classes'\n",
       "\\item 'sqrt...coupons.used'\n",
       "\\item 'ln...individual.items.purchased'\n",
       "\\item 'ln.stores'\n",
       "\\item 'ln.lifetime.ave.time.betw.visits'\n",
       "\\item 'ln.product.uniformity'\n",
       "\\item 'sqrt.responded'\n",
       "\\item 'flag.returns'\n",
       "\\item 'flag.response.rate'\n",
       "\\item 'flag.markdown'\n",
       "\\item 'sqrt.spending.months.2.3'\n",
       "\\item 'sqrt.spending.months.4.5.6'\n",
       "\\item 'flag.spending.months.4.5.6'\n",
       "\\item 'flag.spending.months.2.3'\n",
       "\\end{enumerate*}\n"
      ],
      "text/markdown": [
       "1. 'HHKEY'\n",
       "2. 'ZIP_CODE'\n",
       "3. 'REC'\n",
       "4. 'FRE'\n",
       "5. 'MON'\n",
       "6. 'CC_CARD'\n",
       "7. 'AVRG'\n",
       "8. 'PC_CALC20'\n",
       "9. 'PSWEATERS'\n",
       "10. 'PKNIT_TOPS'\n",
       "11. 'PKNIT_DRES'\n",
       "12. 'PBLOUSES'\n",
       "13. 'PJACKETS'\n",
       "14. 'PCAR_PNTS'\n",
       "15. 'PCAS_PNTS'\n",
       "16. 'PSHIRTS'\n",
       "17. 'PDRESSES'\n",
       "18. 'PSUITS'\n",
       "19. 'POUTERWEAR'\n",
       "20. 'PJEWELRY'\n",
       "21. 'PFASHION'\n",
       "22. 'PLEGWEAR'\n",
       "23. 'PCOLLSPND'\n",
       "24. 'AMSPEND'\n",
       "25. 'PSSPEND'\n",
       "26. 'CCSPEND'\n",
       "27. 'AXSPEND'\n",
       "28. 'TMONSPEND'\n",
       "29. 'OMONSPEND'\n",
       "30. 'SMONSPEND'\n",
       "31. 'PREVPD'\n",
       "32. 'GMP'\n",
       "33. 'PROMOS'\n",
       "34. 'DAYS'\n",
       "35. 'FREDAYS'\n",
       "36. 'MARKDOWN'\n",
       "37. 'CLASSES'\n",
       "38. 'COUPONS'\n",
       "39. 'STYLES'\n",
       "40. 'STORES'\n",
       "41. 'STORELOY'\n",
       "42. 'VALPHON'\n",
       "43. 'WEB'\n",
       "44. 'MAILED'\n",
       "45. 'RESPONDED'\n",
       "46. 'RESPONSERATE'\n",
       "47. 'HI'\n",
       "48. 'LTFREDAY'\n",
       "49. 'CLUSTYPE'\n",
       "50. 'PERCRET'\n",
       "51. 'RESP'\n",
       "52. 'Tot_Spend'\n",
       "53. 'Sales.per.Visit'\n",
       "54. 'Spending_Month_2_3'\n",
       "55. 'Spending_Month_4_5_6'\n",
       "56. 'bc.purchase.visits'\n",
       "57. 'ln.total.net.sales'\n",
       "58. 'ln_ave.spending.per.visit'\n",
       "59. 'sqrt.sweaters'\n",
       "60. 'sqrt.knit.tops'\n",
       "61. 'sqrt.knit.dresses'\n",
       "62. 'sqrt.blouses'\n",
       "63. 'sqrt.jackets'\n",
       "64. 'sqrt.career.pants'\n",
       "65. 'sqrt.casual.pants'\n",
       "66. 'sqrt.shirts'\n",
       "67. 'sqrt.dresses'\n",
       "68. 'sqrt.suits'\n",
       "69. 'sqrt.outerwear'\n",
       "70. 'sqrt.jewelry'\n",
       "71. 'sqrt.fashion'\n",
       "72. 'sqrt.legwear'\n",
       "73. 'sqrt.collectibles'\n",
       "74. 'flag.sweaters'\n",
       "75. 'flag.knit.tops'\n",
       "76. 'flag.knit.dresses'\n",
       "77. 'flag.blouses'\n",
       "78. 'flag.jackets'\n",
       "79. 'flag.career.pants'\n",
       "80. 'flag.casual.pants'\n",
       "81. 'flag.shirts'\n",
       "82. 'flag.dresses'\n",
       "83. 'flag.suits'\n",
       "84. 'flag.outerwear'\n",
       "85. 'flag.jewelry'\n",
       "86. 'flag.fashion'\n",
       "87. 'flag.legwear'\n",
       "88. 'flag.collectibles'\n",
       "89. 'sqrt.spending.AM'\n",
       "90. 'sqrt.spending.PS'\n",
       "91. 'sqrt.spending.CC'\n",
       "92. 'sqrt.spending.AX'\n",
       "93. 'sqrt.spending.last.three.months'\n",
       "94. 'sqrt.spending.last.one.month'\n",
       "95. 'sqrt.spending.last.six.months'\n",
       "96. 'sqrt.spending.SPLY'\n",
       "97. 'flag.spending.AM'\n",
       "98. 'flag.spending.PS'\n",
       "99. 'flag.spending.CC'\n",
       "100. 'flag.spending.AX'\n",
       "101. 'flag.spending.last.three.months'\n",
       "102. 'flag.spending.last.one.month'\n",
       "103. 'flag.spending.last.six.months'\n",
       "104. 'flag.spending.SPLY'\n",
       "105. 'ln.days.between.purchases'\n",
       "106. 'ln...different.product.classes'\n",
       "107. 'sqrt...coupons.used'\n",
       "108. 'ln...individual.items.purchased'\n",
       "109. 'ln.stores'\n",
       "110. 'ln.lifetime.ave.time.betw.visits'\n",
       "111. 'ln.product.uniformity'\n",
       "112. 'sqrt.responded'\n",
       "113. 'flag.returns'\n",
       "114. 'flag.response.rate'\n",
       "115. 'flag.markdown'\n",
       "116. 'sqrt.spending.months.2.3'\n",
       "117. 'sqrt.spending.months.4.5.6'\n",
       "118. 'flag.spending.months.4.5.6'\n",
       "119. 'flag.spending.months.2.3'\n",
       "\n",
       "\n"
      ],
      "text/plain": [
       "  [1] \"HHKEY\"                            \"ZIP_CODE\"                        \n",
       "  [3] \"REC\"                              \"FRE\"                             \n",
       "  [5] \"MON\"                              \"CC_CARD\"                         \n",
       "  [7] \"AVRG\"                             \"PC_CALC20\"                       \n",
       "  [9] \"PSWEATERS\"                        \"PKNIT_TOPS\"                      \n",
       " [11] \"PKNIT_DRES\"                       \"PBLOUSES\"                        \n",
       " [13] \"PJACKETS\"                         \"PCAR_PNTS\"                       \n",
       " [15] \"PCAS_PNTS\"                        \"PSHIRTS\"                         \n",
       " [17] \"PDRESSES\"                         \"PSUITS\"                          \n",
       " [19] \"POUTERWEAR\"                       \"PJEWELRY\"                        \n",
       " [21] \"PFASHION\"                         \"PLEGWEAR\"                        \n",
       " [23] \"PCOLLSPND\"                        \"AMSPEND\"                         \n",
       " [25] \"PSSPEND\"                          \"CCSPEND\"                         \n",
       " [27] \"AXSPEND\"                          \"TMONSPEND\"                       \n",
       " [29] \"OMONSPEND\"                        \"SMONSPEND\"                       \n",
       " [31] \"PREVPD\"                           \"GMP\"                             \n",
       " [33] \"PROMOS\"                           \"DAYS\"                            \n",
       " [35] \"FREDAYS\"                          \"MARKDOWN\"                        \n",
       " [37] \"CLASSES\"                          \"COUPONS\"                         \n",
       " [39] \"STYLES\"                           \"STORES\"                          \n",
       " [41] \"STORELOY\"                         \"VALPHON\"                         \n",
       " [43] \"WEB\"                              \"MAILED\"                          \n",
       " [45] \"RESPONDED\"                        \"RESPONSERATE\"                    \n",
       " [47] \"HI\"                               \"LTFREDAY\"                        \n",
       " [49] \"CLUSTYPE\"                         \"PERCRET\"                         \n",
       " [51] \"RESP\"                             \"Tot_Spend\"                       \n",
       " [53] \"Sales.per.Visit\"                  \"Spending_Month_2_3\"              \n",
       " [55] \"Spending_Month_4_5_6\"             \"bc.purchase.visits\"              \n",
       " [57] \"ln.total.net.sales\"               \"ln_ave.spending.per.visit\"       \n",
       " [59] \"sqrt.sweaters\"                    \"sqrt.knit.tops\"                  \n",
       " [61] \"sqrt.knit.dresses\"                \"sqrt.blouses\"                    \n",
       " [63] \"sqrt.jackets\"                     \"sqrt.career.pants\"               \n",
       " [65] \"sqrt.casual.pants\"                \"sqrt.shirts\"                     \n",
       " [67] \"sqrt.dresses\"                     \"sqrt.suits\"                      \n",
       " [69] \"sqrt.outerwear\"                   \"sqrt.jewelry\"                    \n",
       " [71] \"sqrt.fashion\"                     \"sqrt.legwear\"                    \n",
       " [73] \"sqrt.collectibles\"                \"flag.sweaters\"                   \n",
       " [75] \"flag.knit.tops\"                   \"flag.knit.dresses\"               \n",
       " [77] \"flag.blouses\"                     \"flag.jackets\"                    \n",
       " [79] \"flag.career.pants\"                \"flag.casual.pants\"               \n",
       " [81] \"flag.shirts\"                      \"flag.dresses\"                    \n",
       " [83] \"flag.suits\"                       \"flag.outerwear\"                  \n",
       " [85] \"flag.jewelry\"                     \"flag.fashion\"                    \n",
       " [87] \"flag.legwear\"                     \"flag.collectibles\"               \n",
       " [89] \"sqrt.spending.AM\"                 \"sqrt.spending.PS\"                \n",
       " [91] \"sqrt.spending.CC\"                 \"sqrt.spending.AX\"                \n",
       " [93] \"sqrt.spending.last.three.months\"  \"sqrt.spending.last.one.month\"    \n",
       " [95] \"sqrt.spending.last.six.months\"    \"sqrt.spending.SPLY\"              \n",
       " [97] \"flag.spending.AM\"                 \"flag.spending.PS\"                \n",
       " [99] \"flag.spending.CC\"                 \"flag.spending.AX\"                \n",
       "[101] \"flag.spending.last.three.months\"  \"flag.spending.last.one.month\"    \n",
       "[103] \"flag.spending.last.six.months\"    \"flag.spending.SPLY\"              \n",
       "[105] \"ln.days.between.purchases\"        \"ln...different.product.classes\"  \n",
       "[107] \"sqrt...coupons.used\"              \"ln...individual.items.purchased\" \n",
       "[109] \"ln.stores\"                        \"ln.lifetime.ave.time.betw.visits\"\n",
       "[111] \"ln.product.uniformity\"            \"sqrt.responded\"                  \n",
       "[113] \"flag.returns\"                     \"flag.response.rate\"              \n",
       "[115] \"flag.markdown\"                    \"sqrt.spending.months.2.3\"        \n",
       "[117] \"sqrt.spending.months.4.5.6\"       \"flag.spending.months.4.5.6\"      \n",
       "[119] \"flag.spending.months.2.3\"        "
      ]
     },
     "metadata": {},
     "output_type": "display_data"
    }
   ],
   "source": [
    "# variables\n",
    "colnames(df)"
   ]
  },
  {
   "cell_type": "code",
   "execution_count": 8,
   "metadata": {},
   "outputs": [
    {
     "name": "stdout",
     "output_type": "stream",
     "text": [
      "[1] \"VALPHON\"\n",
      "[1] \"flag.sweaters\"\n",
      "[1] \"flag.knit.tops\"\n",
      "[1] \"flag.knit.dresses\"\n",
      "[1] \"flag.blouses\"\n",
      "[1] \"flag.jackets\"\n",
      "[1] \"flag.career.pants\"\n",
      "[1] \"flag.casual.pants\"\n",
      "[1] \"flag.shirts\"\n",
      "[1] \"flag.dresses\"\n",
      "[1] \"flag.suits\"\n",
      "[1] \"flag.outerwear\"\n",
      "[1] \"flag.jewelry\"\n",
      "[1] \"flag.fashion\"\n",
      "[1] \"flag.legwear\"\n",
      "[1] \"flag.collectibles\"\n",
      "[1] \"flag.spending.AM\"\n",
      "[1] \"flag.spending.PS\"\n",
      "[1] \"flag.spending.CC\"\n",
      "[1] \"flag.spending.AX\"\n",
      "[1] \"flag.spending.last.three.months\"\n",
      "[1] \"flag.spending.last.one.month\"\n",
      "[1] \"flag.spending.last.six.months\"\n",
      "[1] \"flag.spending.SPLY\"\n",
      "[1] \"flag.returns\"\n",
      "[1] \"flag.response.rate\"\n",
      "[1] \"flag.markdown\"\n",
      "[1] \"flag.spending.months.4.5.6\"\n",
      "[1] \"flag.spending.months.2.3\"\n"
     ]
    }
   ],
   "source": [
    "# check non-numeric columns\n",
    "for( k in colnames(df) ){\n",
    "    i = class( df[, k] )\n",
    "    if( (i != \"numeric\") && (i != \"integer\") ){\n",
    "        print( k )\n",
    "    }\n",
    "}"
   ]
  },
  {
   "cell_type": "code",
   "execution_count": 9,
   "metadata": {},
   "outputs": [],
   "source": [
    "# change the string value of Y to numeric 1.0\n",
    "vp = rep(0.0, dim(df)[1])\n",
    "vp[df$VALPHON==\"Y\"] = 1.0\n",
    "df$VALPHON = vp"
   ]
  },
  {
   "cell_type": "code",
   "execution_count": 37,
   "metadata": {},
   "outputs": [],
   "source": [
    "# \"true/yes\" the first level of the factor:\n",
    "df$RESP[df$RESP == 1] = \"Yes\"\n",
    "df$RESP[df$RESP == 0] = \"No\" \n",
    "df$RESP = factor(df$RESP, levels=c(\"Yes\",\"No\") )"
   ]
  },
  {
   "cell_type": "code",
   "execution_count": 14,
   "metadata": {},
   "outputs": [
    {
     "name": "stdout",
     "output_type": "stream",
     "text": [
      "\n",
      " Yes   No \n",
      " 388 2231 \n",
      "\n",
      "      Yes        No \n",
      "0.1481481 0.8518519 \n"
     ]
    }
   ],
   "source": [
    "# check balance\n",
    "print(table(df$RESP))\n",
    "print(table(df$RESP) / sum(T))"
   ]
  },
  {
   "cell_type": "code",
   "execution_count": 15,
   "metadata": {},
   "outputs": [
    {
     "name": "stdout",
     "output_type": "stream",
     "text": [
      "[1] \"Dropping    27 features due to zero variance from   119 (  0.2269 fraction)\"\n",
      "[1] \"Features dropped:\"\n",
      " [1] \"PKNIT_DRES\"        \"PJACKETS\"          \"PCAR_PNTS\"        \n",
      " [4] \"PCAS_PNTS\"         \"PSHIRTS\"           \"PDRESSES\"         \n",
      " [7] \"PSUITS\"            \"POUTERWEAR\"        \"PJEWELRY\"         \n",
      "[10] \"PFASHION\"          \"PCOLLSPND\"         \"AMSPEND\"          \n",
      "[13] \"WEB\"               \"PERCRET\"           \"sqrt.knit.tops\"   \n",
      "[16] \"sqrt.blouses\"      \"sqrt.jackets\"      \"sqrt.career.pants\"\n",
      "[19] \"sqrt.casual.pants\" \"sqrt.shirts\"       \"sqrt.dresses\"     \n",
      "[22] \"sqrt.suits\"        \"sqrt.outerwear\"    \"sqrt.jewelry\"     \n",
      "[25] \"sqrt.legwear\"      \"flag.collectibles\" \"flag.spending.PS\" \n"
     ]
    }
   ],
   "source": [
    "# check if any zero variance predictors in the features\n",
    "cols_0 = nearZeroVar(df[,-51] )\n",
    "colname = colnames(df)\n",
    "print(sprintf(\"Dropping %5d features due to zero variance from %5d (%8.4f fraction)\", \n",
    "              length(cols_0), length(colname), length(cols_0)/length(colname)) )\n",
    "print(\"Features dropped:\" )\n",
    "print(colname[cols_0])"
   ]
  },
  {
   "cell_type": "markdown",
   "metadata": {},
   "source": [
    "### Review:\n",
    "- dataset size: 2619 x 119\n",
    "- datatypes: integer, numeric, logical, factor\n",
    "- VALPHON was non-numeric so was converted to 1 0\n",
    "- factor of RESP is target, and its 1 and 0 were turned to Yes and No\n",
    "    - ~15% Yes, ~85% No\n",
    "- the nonzero identical values were dropped, which was about 23%"
   ]
  },
  {
   "cell_type": "markdown",
   "metadata": {},
   "source": [
    "### Models:\n",
    "- Random Forest: method=\"rf\"\n",
    "- Flexible Discriminant Analysis: method=\"fda\"\n",
    "\n"
   ]
  },
  {
   "cell_type": "code",
   "execution_count": 27,
   "metadata": {},
   "outputs": [],
   "source": [
    "# train test set\n",
    "set.seed(24)  # this makes the example exactly reproducible\n",
    "split = createDataPartition(df$VALPHON, p=0.7 )[[1]]"
   ]
  },
  {
   "cell_type": "code",
   "execution_count": 85,
   "metadata": {
    "scrolled": true
   },
   "outputs": [
    {
     "name": "stdout",
     "output_type": "stream",
     "text": [
      "\n",
      "        0         1 \n",
      "0.2311887 0.7688113 \n",
      "\n",
      "       0        1 \n",
      "0.211465 0.788535 \n"
     ]
    }
   ],
   "source": [
    "# validate by seeing fraction of train test sets of p=0.7 and p=0.3\n",
    "tt_split = table(df$VALPHON[split])\n",
    "print(tt_split/sum(tt_split))\n",
    "tt_not_split = table(df$VALPHON[-split])\n",
    "print(tt_not_split/sum(tt_not_split))"
   ]
  },
  {
   "cell_type": "code",
   "execution_count": 43,
   "metadata": {},
   "outputs": [],
   "source": [
    "# training and other sets\n",
    "training = df[\\split,]\n",
    "other = df[-split,]"
   ]
  },
  {
   "cell_type": "code",
   "execution_count": 44,
   "metadata": {},
   "outputs": [],
   "source": [
    "# split other into evaluation and test set\n",
    "split2 = createDataPartition(other$VALPHON, p=1./3)[[1]]\n",
    "evaluation = other[split2,]\n",
    "testing = other[-split2,]"
   ]
  },
  {
   "cell_type": "code",
   "execution_count": 45,
   "metadata": {},
   "outputs": [],
   "source": [
    "# build classification models (following books examples)\n",
    "# functions for performance measures\n",
    "fiveStats = function(...) c(twoClassSummary(...), defaultSummary(...))\n",
    "fourStats = function(data, lev=levels(data$obs), model=NULL){\n",
    "    accKapp = postResample(data[, \"pred\"], data[, \"obs\"])\n",
    "    out = c(accKapp,\n",
    "        sensitivity(data[, \"pred\"], data[, \"obs\"], lev[1]),\n",
    "        specificity(data[, \"pred\"], data[, \"obs\"], lev[2]))\n",
    "    names(out)[3:4] = c(\"Sens\", \"Spec\")\n",
    "    out\n",
    "}"
   ]
  },
  {
   "cell_type": "code",
   "execution_count": 46,
   "metadata": {},
   "outputs": [],
   "source": [
    "ctrl = trainControl( method=\"cv\", number=5, classProbs=TRUE, summaryFunction=fiveStats, verboseIter=TRUE )\n"
   ]
  },
  {
   "cell_type": "code",
   "execution_count": 47,
   "metadata": {},
   "outputs": [],
   "source": [
    "ctrlNoProb = ctrl\n",
    "ctrlNoProb$classProbs = FALSE\n",
    "ctrlNoProb$summaryFunction = fourStats"
   ]
  },
  {
   "cell_type": "code",
   "execution_count": 48,
   "metadata": {
    "scrolled": false
   },
   "outputs": [
    {
     "name": "stdout",
     "output_type": "stream",
     "text": [
      "+ Fold1: mtry=  2 \n",
      "- Fold1: mtry=  2 \n",
      "+ Fold1: mtry= 31 \n",
      "- Fold1: mtry= 31 \n",
      "+ Fold1: mtry= 60 \n",
      "- Fold1: mtry= 60 \n",
      "+ Fold1: mtry= 89 \n",
      "- Fold1: mtry= 89 \n",
      "+ Fold1: mtry=118 \n",
      "- Fold1: mtry=118 \n",
      "+ Fold2: mtry=  2 \n",
      "- Fold2: mtry=  2 \n",
      "+ Fold2: mtry= 31 \n",
      "- Fold2: mtry= 31 \n",
      "+ Fold2: mtry= 60 \n",
      "- Fold2: mtry= 60 \n",
      "+ Fold2: mtry= 89 \n",
      "- Fold2: mtry= 89 \n",
      "+ Fold2: mtry=118 \n",
      "- Fold2: mtry=118 \n",
      "+ Fold3: mtry=  2 \n",
      "- Fold3: mtry=  2 \n",
      "+ Fold3: mtry= 31 \n",
      "- Fold3: mtry= 31 \n",
      "+ Fold3: mtry= 60 \n",
      "- Fold3: mtry= 60 \n",
      "+ Fold3: mtry= 89 \n",
      "- Fold3: mtry= 89 \n",
      "+ Fold3: mtry=118 \n",
      "- Fold3: mtry=118 \n",
      "+ Fold4: mtry=  2 \n",
      "- Fold4: mtry=  2 \n",
      "+ Fold4: mtry= 31 \n",
      "- Fold4: mtry= 31 \n",
      "+ Fold4: mtry= 60 \n",
      "- Fold4: mtry= 60 \n",
      "+ Fold4: mtry= 89 \n",
      "- Fold4: mtry= 89 \n",
      "+ Fold4: mtry=118 \n",
      "- Fold4: mtry=118 \n",
      "+ Fold5: mtry=  2 \n",
      "- Fold5: mtry=  2 \n",
      "+ Fold5: mtry= 31 \n",
      "- Fold5: mtry= 31 \n",
      "+ Fold5: mtry= 60 \n",
      "- Fold5: mtry= 60 \n",
      "+ Fold5: mtry= 89 \n",
      "- Fold5: mtry= 89 \n",
      "+ Fold5: mtry=118 \n",
      "- Fold5: mtry=118 \n",
      "Aggregating results\n",
      "Selecting tuning parameters\n",
      "Fitting mtry = 118 on full training set\n"
     ]
    }
   ],
   "source": [
    "set.seed(1410)\n",
    "rfFit = train( RESP ~ ., data=training, method=\"rf\", trControl=ctrl, ntree=500, tuneLength=5, metric=\"ROC\" )"
   ]
  },
  {
   "cell_type": "code",
   "execution_count": 58,
   "metadata": {
    "scrolled": false
   },
   "outputs": [
    {
     "name": "stderr",
     "output_type": "stream",
     "text": [
      "Installing package into 'C:/Users/ankur/Documents/R/win-library/3.6'\n",
      "(as 'lib' is unspecified)\n",
      "Warning message:\n",
      "\"package 'fda' is in use and will not be installed\"Installing package into 'C:/Users/ankur/Documents/R/win-library/3.6'\n",
      "(as 'lib' is unspecified)\n",
      "also installing the dependencies 'plotrix', 'Formula', 'plotmo', 'TeachingDemos'\n",
      "\n"
     ]
    },
    {
     "name": "stdout",
     "output_type": "stream",
     "text": [
      "package 'plotrix' successfully unpacked and MD5 sums checked\n",
      "package 'Formula' successfully unpacked and MD5 sums checked\n",
      "package 'plotmo' successfully unpacked and MD5 sums checked\n",
      "package 'TeachingDemos' successfully unpacked and MD5 sums checked\n",
      "package 'earth' successfully unpacked and MD5 sums checked\n",
      "\n",
      "The downloaded binary packages are in\n",
      "\tC:\\Users\\ankur\\AppData\\Local\\Temp\\RtmpQTBOgg\\downloaded_packages\n"
     ]
    },
    {
     "name": "stderr",
     "output_type": "stream",
     "text": [
      "Installing package into 'C:/Users/ankur/Documents/R/win-library/3.6'\n",
      "(as 'lib' is unspecified)\n"
     ]
    },
    {
     "name": "stdout",
     "output_type": "stream",
     "text": [
      "package 'mda' successfully unpacked and MD5 sums checked\n",
      "\n",
      "The downloaded binary packages are in\n",
      "\tC:\\Users\\ankur\\AppData\\Local\\Temp\\RtmpQTBOgg\\downloaded_packages\n"
     ]
    }
   ],
   "source": [
    "# next method\n",
    "install.packages(\"fda\")\n",
    "install.packages(\"earth\")\n",
    "install.packages(\"mda\")"
   ]
  },
  {
   "cell_type": "code",
   "execution_count": 59,
   "metadata": {
    "scrolled": false
   },
   "outputs": [
    {
     "name": "stderr",
     "output_type": "stream",
     "text": [
      "Loading required package: Formula\n",
      "Loading required package: plotmo\n",
      "Loading required package: plotrix\n",
      "Loading required package: TeachingDemos\n",
      "Loading required package: class\n",
      "Loaded mda 0.4-10\n",
      "\n"
     ]
    },
    {
     "name": "stdout",
     "output_type": "stream",
     "text": [
      "+ Fold1: nprune= 2, degree=1 \n"
     ]
    },
    {
     "name": "stderr",
     "output_type": "stream",
     "text": [
      "Warning message:\n",
      "\"duplicate term name \"h(HHKEY-9.95561e+12)\"\n",
      "This is usually caused by cuts that are very close to each other\n",
      "Remedy: use options(digits=NDIGITS), typically NDIGITS has to be at least 7 (currently NDIGITS=7)\""
     ]
    },
    {
     "name": "stdout",
     "output_type": "stream",
     "text": [
      "- Fold1: nprune= 2, degree=1 \n",
      "+ Fold1: nprune= 3, degree=1 \n"
     ]
    },
    {
     "name": "stderr",
     "output_type": "stream",
     "text": [
      "Warning message:\n",
      "\"duplicate term name \"h(HHKEY-9.95561e+12)\"\n",
      "This is usually caused by cuts that are very close to each other\n",
      "Remedy: use options(digits=NDIGITS), typically NDIGITS has to be at least 7 (currently NDIGITS=7)\""
     ]
    },
    {
     "name": "stdout",
     "output_type": "stream",
     "text": [
      "- Fold1: nprune= 3, degree=1 \n",
      "+ Fold1: nprune= 5, degree=1 \n"
     ]
    },
    {
     "name": "stderr",
     "output_type": "stream",
     "text": [
      "Warning message:\n",
      "\"duplicate term name \"h(HHKEY-9.95561e+12)\"\n",
      "This is usually caused by cuts that are very close to each other\n",
      "Remedy: use options(digits=NDIGITS), typically NDIGITS has to be at least 7 (currently NDIGITS=7)\""
     ]
    },
    {
     "name": "stdout",
     "output_type": "stream",
     "text": [
      "- Fold1: nprune= 5, degree=1 \n",
      "+ Fold1: nprune= 7, degree=1 \n"
     ]
    },
    {
     "name": "stderr",
     "output_type": "stream",
     "text": [
      "Warning message:\n",
      "\"duplicate term name \"h(HHKEY-9.95561e+12)\"\n",
      "This is usually caused by cuts that are very close to each other\n",
      "Remedy: use options(digits=NDIGITS), typically NDIGITS has to be at least 7 (currently NDIGITS=7)\""
     ]
    },
    {
     "name": "stdout",
     "output_type": "stream",
     "text": [
      "- Fold1: nprune= 7, degree=1 \n",
      "+ Fold1: nprune= 8, degree=1 \n"
     ]
    },
    {
     "name": "stderr",
     "output_type": "stream",
     "text": [
      "Warning message:\n",
      "\"duplicate term name \"h(HHKEY-9.95561e+12)\"\n",
      "This is usually caused by cuts that are very close to each other\n",
      "Remedy: use options(digits=NDIGITS), typically NDIGITS has to be at least 7 (currently NDIGITS=7)\""
     ]
    },
    {
     "name": "stdout",
     "output_type": "stream",
     "text": [
      "- Fold1: nprune= 8, degree=1 \n",
      "+ Fold1: nprune=10, degree=1 \n"
     ]
    },
    {
     "name": "stderr",
     "output_type": "stream",
     "text": [
      "Warning message:\n",
      "\"duplicate term name \"h(HHKEY-9.95561e+12)\"\n",
      "This is usually caused by cuts that are very close to each other\n",
      "Remedy: use options(digits=NDIGITS), typically NDIGITS has to be at least 7 (currently NDIGITS=7)\""
     ]
    },
    {
     "name": "stdout",
     "output_type": "stream",
     "text": [
      "- Fold1: nprune=10, degree=1 \n",
      "+ Fold1: nprune=12, degree=1 \n"
     ]
    },
    {
     "name": "stderr",
     "output_type": "stream",
     "text": [
      "Warning message:\n",
      "\"duplicate term name \"h(HHKEY-9.95561e+12)\"\n",
      "This is usually caused by cuts that are very close to each other\n",
      "Remedy: use options(digits=NDIGITS), typically NDIGITS has to be at least 7 (currently NDIGITS=7)\""
     ]
    },
    {
     "name": "stdout",
     "output_type": "stream",
     "text": [
      "- Fold1: nprune=12, degree=1 \n",
      "+ Fold1: nprune=13, degree=1 \n"
     ]
    },
    {
     "name": "stderr",
     "output_type": "stream",
     "text": [
      "Warning message:\n",
      "\"duplicate term name \"h(HHKEY-9.95561e+12)\"\n",
      "This is usually caused by cuts that are very close to each other\n",
      "Remedy: use options(digits=NDIGITS), typically NDIGITS has to be at least 7 (currently NDIGITS=7)\""
     ]
    },
    {
     "name": "stdout",
     "output_type": "stream",
     "text": [
      "- Fold1: nprune=13, degree=1 \n",
      "+ Fold1: nprune=15, degree=1 \n"
     ]
    },
    {
     "name": "stderr",
     "output_type": "stream",
     "text": [
      "Warning message:\n",
      "\"duplicate term name \"h(HHKEY-9.95561e+12)\"\n",
      "This is usually caused by cuts that are very close to each other\n",
      "Remedy: use options(digits=NDIGITS), typically NDIGITS has to be at least 7 (currently NDIGITS=7)\""
     ]
    },
    {
     "name": "stdout",
     "output_type": "stream",
     "text": [
      "- Fold1: nprune=15, degree=1 \n",
      "+ Fold1: nprune=17, degree=1 \n"
     ]
    },
    {
     "name": "stderr",
     "output_type": "stream",
     "text": [
      "Warning message:\n",
      "\"duplicate term name \"h(HHKEY-9.95561e+12)\"\n",
      "This is usually caused by cuts that are very close to each other\n",
      "Remedy: use options(digits=NDIGITS), typically NDIGITS has to be at least 7 (currently NDIGITS=7)\""
     ]
    },
    {
     "name": "stdout",
     "output_type": "stream",
     "text": [
      "- Fold1: nprune=17, degree=1 \n",
      "+ Fold2: nprune= 2, degree=1 \n",
      "- Fold2: nprune= 2, degree=1 \n",
      "+ Fold2: nprune= 3, degree=1 \n",
      "- Fold2: nprune= 3, degree=1 \n",
      "+ Fold2: nprune= 5, degree=1 \n",
      "- Fold2: nprune= 5, degree=1 \n",
      "+ Fold2: nprune= 7, degree=1 \n",
      "- Fold2: nprune= 7, degree=1 \n",
      "+ Fold2: nprune= 8, degree=1 \n",
      "- Fold2: nprune= 8, degree=1 \n",
      "+ Fold2: nprune=10, degree=1 \n",
      "- Fold2: nprune=10, degree=1 \n",
      "+ Fold2: nprune=12, degree=1 \n",
      "- Fold2: nprune=12, degree=1 \n",
      "+ Fold2: nprune=13, degree=1 \n",
      "- Fold2: nprune=13, degree=1 \n",
      "+ Fold2: nprune=15, degree=1 \n",
      "- Fold2: nprune=15, degree=1 \n",
      "+ Fold2: nprune=17, degree=1 \n",
      "- Fold2: nprune=17, degree=1 \n",
      "+ Fold3: nprune= 2, degree=1 \n",
      "- Fold3: nprune= 2, degree=1 \n",
      "+ Fold3: nprune= 3, degree=1 \n",
      "- Fold3: nprune= 3, degree=1 \n",
      "+ Fold3: nprune= 5, degree=1 \n",
      "- Fold3: nprune= 5, degree=1 \n",
      "+ Fold3: nprune= 7, degree=1 \n",
      "- Fold3: nprune= 7, degree=1 \n",
      "+ Fold3: nprune= 8, degree=1 \n",
      "- Fold3: nprune= 8, degree=1 \n",
      "+ Fold3: nprune=10, degree=1 \n",
      "- Fold3: nprune=10, degree=1 \n",
      "+ Fold3: nprune=12, degree=1 \n",
      "- Fold3: nprune=12, degree=1 \n",
      "+ Fold3: nprune=13, degree=1 \n",
      "- Fold3: nprune=13, degree=1 \n",
      "+ Fold3: nprune=15, degree=1 \n",
      "- Fold3: nprune=15, degree=1 \n",
      "+ Fold3: nprune=17, degree=1 \n",
      "- Fold3: nprune=17, degree=1 \n",
      "+ Fold4: nprune= 2, degree=1 \n",
      "- Fold4: nprune= 2, degree=1 \n",
      "+ Fold4: nprune= 3, degree=1 \n",
      "- Fold4: nprune= 3, degree=1 \n",
      "+ Fold4: nprune= 5, degree=1 \n",
      "- Fold4: nprune= 5, degree=1 \n",
      "+ Fold4: nprune= 7, degree=1 \n",
      "- Fold4: nprune= 7, degree=1 \n",
      "+ Fold4: nprune= 8, degree=1 \n",
      "- Fold4: nprune= 8, degree=1 \n",
      "+ Fold4: nprune=10, degree=1 \n",
      "- Fold4: nprune=10, degree=1 \n",
      "+ Fold4: nprune=12, degree=1 \n",
      "- Fold4: nprune=12, degree=1 \n",
      "+ Fold4: nprune=13, degree=1 \n",
      "- Fold4: nprune=13, degree=1 \n",
      "+ Fold4: nprune=15, degree=1 \n",
      "- Fold4: nprune=15, degree=1 \n",
      "+ Fold4: nprune=17, degree=1 \n",
      "- Fold4: nprune=17, degree=1 \n",
      "+ Fold5: nprune= 2, degree=1 \n",
      "- Fold5: nprune= 2, degree=1 \n",
      "+ Fold5: nprune= 3, degree=1 \n",
      "- Fold5: nprune= 3, degree=1 \n",
      "+ Fold5: nprune= 5, degree=1 \n",
      "- Fold5: nprune= 5, degree=1 \n",
      "+ Fold5: nprune= 7, degree=1 \n",
      "- Fold5: nprune= 7, degree=1 \n",
      "+ Fold5: nprune= 8, degree=1 \n",
      "- Fold5: nprune= 8, degree=1 \n",
      "+ Fold5: nprune=10, degree=1 \n",
      "- Fold5: nprune=10, degree=1 \n",
      "+ Fold5: nprune=12, degree=1 \n",
      "- Fold5: nprune=12, degree=1 \n",
      "+ Fold5: nprune=13, degree=1 \n",
      "- Fold5: nprune=13, degree=1 \n",
      "+ Fold5: nprune=15, degree=1 \n",
      "- Fold5: nprune=15, degree=1 \n",
      "+ Fold5: nprune=17, degree=1 \n",
      "- Fold5: nprune=17, degree=1 \n",
      "Aggregating results\n",
      "Selecting tuning parameters\n",
      "Fitting degree = 1, nprune = 3 on full training set\n"
     ]
    }
   ],
   "source": [
    "library(fda)\n",
    "library(earth)\n",
    "library(mda)\n",
    "set.seed(1410)\n",
    "fdaFit = train( RESP ~ ., data=training, method=\"fda\", tuneLength=10, trControl=ctrl, metric=\"ROC\" )"
   ]
  },
  {
   "cell_type": "code",
   "execution_count": 60,
   "metadata": {},
   "outputs": [
    {
     "name": "stdout",
     "output_type": "stream",
     "text": [
      "          AUC      Sens\n",
      "RF  0.8204992 0.9583681\n",
      "FDA 0.2240404 0.8458176\n"
     ]
    }
   ],
   "source": [
    "# Compare our estimated sensitivity and specificity for these methods on the training data:\n",
    "# \n",
    "res = matrix( data=c( mean( rfFit$resample$ROC ), mean( rfFit$resample$Spec ), mean( rfFit$resample$Sens ),\n",
    "                      mean( fdaFit$resample$ROC ), mean( fdaFit$resample$Spec ), mean( fdaFit$resample$Sens ) ),\n",
    "    nrow=2, ncol=2, byrow=T )\n",
    "res = data.frame( res )\n",
    "rownames(res) = c(\"RF\", \"FDA\" )\n",
    "colnames(res) = c(\"AUC\", \"Sens\" )\n",
    "print(res)"
   ]
  },
  {
   "cell_type": "code",
   "execution_count": 61,
   "metadata": {},
   "outputs": [],
   "source": [
    "# What are our default sensitivity and specificity for these methods on the evaluation set?\n",
    "#\n",
    "evalResults = data.frame( RESP = evaluation$RESP ) # put in the truth\n",
    "evalResults$RF = predict( rfFit, newdata=evaluation, type=\"prob\" )[,1]\n",
    "evalResults$FDA = predict( fdaFit, newdata=evaluation, type=\"prob\" )[,1]"
   ]
  },
  {
   "cell_type": "code",
   "execution_count": 63,
   "metadata": {},
   "outputs": [
    {
     "name": "stderr",
     "output_type": "stream",
     "text": [
      "Installing package into 'C:/Users/ankur/Documents/R/win-library/3.6'\n",
      "(as 'lib' is unspecified)\n"
     ]
    },
    {
     "name": "stdout",
     "output_type": "stream",
     "text": [
      "package 'pROC' successfully unpacked and MD5 sums checked\n",
      "\n",
      "The downloaded binary packages are in\n",
      "\tC:\\Users\\ankur\\AppData\\Local\\Temp\\RtmpQTBOgg\\downloaded_packages\n"
     ]
    },
    {
     "name": "stderr",
     "output_type": "stream",
     "text": [
      "Type 'citation(\"pROC\")' for a citation.\n",
      "\n",
      "Attaching package: 'pROC'\n",
      "\n",
      "The following objects are masked from 'package:stats':\n",
      "\n",
      "    cov, smooth, var\n",
      "\n",
      "Setting direction: controls < cases\n",
      "Setting direction: controls < cases\n"
     ]
    }
   ],
   "source": [
    "# Part (c): Construct lift plots on the above classifiers\n",
    "#\n",
    "install.packages(\"pROC\")\n",
    "library(pROC)\n",
    "rfROC = roc( evalResults$RESP, evalResults$RF, levels=rev( levels(evalResults$RESP) ) )\n",
    "FDAROC = roc( evalResults$RESP, evalResults$FDA, levels=rev( levels(evalResults$RESP) ) )"
   ]
  },
  {
   "cell_type": "code",
   "execution_count": 66,
   "metadata": {},
   "outputs": [
    {
     "name": "stdout",
     "output_type": "stream",
     "text": [
      "\n",
      " Yes   No \n",
      "1562 1562 \n"
     ]
    }
   ],
   "source": [
    "# Part (d): Using sampling methods on several models\n",
    "#\n",
    "#\n",
    "set.seed(1103)\n",
    "upSampleTraining = upSample( x=training[,-51] , y=training$RESP, yname=\"RESP\" )\n",
    "print( table( upSampleTraining$RESP ) )\n"
   ]
  },
  {
   "cell_type": "code",
   "execution_count": 67,
   "metadata": {},
   "outputs": [
    {
     "name": "stdout",
     "output_type": "stream",
     "text": [
      "+ Fold1: mtry=  2 \n",
      "- Fold1: mtry=  2 \n",
      "+ Fold1: mtry= 31 \n",
      "- Fold1: mtry= 31 \n",
      "+ Fold1: mtry= 60 \n",
      "- Fold1: mtry= 60 \n",
      "+ Fold1: mtry= 89 \n",
      "- Fold1: mtry= 89 \n",
      "+ Fold1: mtry=118 \n",
      "- Fold1: mtry=118 \n",
      "+ Fold2: mtry=  2 \n",
      "- Fold2: mtry=  2 \n",
      "+ Fold2: mtry= 31 \n",
      "- Fold2: mtry= 31 \n",
      "+ Fold2: mtry= 60 \n",
      "- Fold2: mtry= 60 \n",
      "+ Fold2: mtry= 89 \n",
      "- Fold2: mtry= 89 \n",
      "+ Fold2: mtry=118 \n",
      "- Fold2: mtry=118 \n",
      "+ Fold3: mtry=  2 \n",
      "- Fold3: mtry=  2 \n",
      "+ Fold3: mtry= 31 \n",
      "- Fold3: mtry= 31 \n",
      "+ Fold3: mtry= 60 \n",
      "- Fold3: mtry= 60 \n",
      "+ Fold3: mtry= 89 \n",
      "- Fold3: mtry= 89 \n",
      "+ Fold3: mtry=118 \n",
      "- Fold3: mtry=118 \n",
      "+ Fold4: mtry=  2 \n",
      "- Fold4: mtry=  2 \n",
      "+ Fold4: mtry= 31 \n",
      "- Fold4: mtry= 31 \n",
      "+ Fold4: mtry= 60 \n",
      "- Fold4: mtry= 60 \n",
      "+ Fold4: mtry= 89 \n",
      "- Fold4: mtry= 89 \n",
      "+ Fold4: mtry=118 \n",
      "- Fold4: mtry=118 \n",
      "+ Fold5: mtry=  2 \n",
      "- Fold5: mtry=  2 \n",
      "+ Fold5: mtry= 31 \n",
      "- Fold5: mtry= 31 \n",
      "+ Fold5: mtry= 60 \n",
      "- Fold5: mtry= 60 \n",
      "+ Fold5: mtry= 89 \n",
      "- Fold5: mtry= 89 \n",
      "+ Fold5: mtry=118 \n",
      "- Fold5: mtry=118 \n",
      "Aggregating results\n",
      "Selecting tuning parameters\n",
      "Fitting mtry = 31 on full training set\n"
     ]
    }
   ],
   "source": [
    "# Lets build the same models as above but using this new dataset:\n",
    "#\n",
    "set.seed(1410)\n",
    "rfFit_us = train( RESP ~ ., data=upSampleTraining, method=\"rf\", trControl = ctrl, ntree = 500, tuneLength = 5, metric = \"ROC\" )"
   ]
  },
  {
   "cell_type": "code",
   "execution_count": 68,
   "metadata": {},
   "outputs": [
    {
     "name": "stdout",
     "output_type": "stream",
     "text": [
      "+ Fold1: nprune= 2, degree=1 \n",
      "- Fold1: nprune= 2, degree=1 \n",
      "+ Fold1: nprune= 3, degree=1 \n",
      "- Fold1: nprune= 3, degree=1 \n",
      "+ Fold1: nprune= 5, degree=1 \n",
      "- Fold1: nprune= 5, degree=1 \n",
      "+ Fold1: nprune= 7, degree=1 \n",
      "- Fold1: nprune= 7, degree=1 \n",
      "+ Fold1: nprune= 8, degree=1 \n",
      "- Fold1: nprune= 8, degree=1 \n",
      "+ Fold1: nprune=10, degree=1 \n",
      "- Fold1: nprune=10, degree=1 \n",
      "+ Fold1: nprune=12, degree=1 \n",
      "- Fold1: nprune=12, degree=1 \n",
      "+ Fold1: nprune=13, degree=1 \n",
      "- Fold1: nprune=13, degree=1 \n",
      "+ Fold1: nprune=15, degree=1 \n",
      "- Fold1: nprune=15, degree=1 \n",
      "+ Fold1: nprune=17, degree=1 \n",
      "- Fold1: nprune=17, degree=1 \n",
      "+ Fold2: nprune= 2, degree=1 \n",
      "- Fold2: nprune= 2, degree=1 \n",
      "+ Fold2: nprune= 3, degree=1 \n",
      "- Fold2: nprune= 3, degree=1 \n",
      "+ Fold2: nprune= 5, degree=1 \n",
      "- Fold2: nprune= 5, degree=1 \n",
      "+ Fold2: nprune= 7, degree=1 \n",
      "- Fold2: nprune= 7, degree=1 \n",
      "+ Fold2: nprune= 8, degree=1 \n",
      "- Fold2: nprune= 8, degree=1 \n",
      "+ Fold2: nprune=10, degree=1 \n",
      "- Fold2: nprune=10, degree=1 \n",
      "+ Fold2: nprune=12, degree=1 \n",
      "- Fold2: nprune=12, degree=1 \n",
      "+ Fold2: nprune=13, degree=1 \n",
      "- Fold2: nprune=13, degree=1 \n",
      "+ Fold2: nprune=15, degree=1 \n",
      "- Fold2: nprune=15, degree=1 \n",
      "+ Fold2: nprune=17, degree=1 \n",
      "- Fold2: nprune=17, degree=1 \n",
      "+ Fold3: nprune= 2, degree=1 \n",
      "- Fold3: nprune= 2, degree=1 \n",
      "+ Fold3: nprune= 3, degree=1 \n",
      "- Fold3: nprune= 3, degree=1 \n",
      "+ Fold3: nprune= 5, degree=1 \n",
      "- Fold3: nprune= 5, degree=1 \n",
      "+ Fold3: nprune= 7, degree=1 \n",
      "- Fold3: nprune= 7, degree=1 \n",
      "+ Fold3: nprune= 8, degree=1 \n",
      "- Fold3: nprune= 8, degree=1 \n",
      "+ Fold3: nprune=10, degree=1 \n",
      "- Fold3: nprune=10, degree=1 \n",
      "+ Fold3: nprune=12, degree=1 \n",
      "- Fold3: nprune=12, degree=1 \n",
      "+ Fold3: nprune=13, degree=1 \n",
      "- Fold3: nprune=13, degree=1 \n",
      "+ Fold3: nprune=15, degree=1 \n",
      "- Fold3: nprune=15, degree=1 \n",
      "+ Fold3: nprune=17, degree=1 \n",
      "- Fold3: nprune=17, degree=1 \n",
      "+ Fold4: nprune= 2, degree=1 \n",
      "- Fold4: nprune= 2, degree=1 \n",
      "+ Fold4: nprune= 3, degree=1 \n",
      "- Fold4: nprune= 3, degree=1 \n",
      "+ Fold4: nprune= 5, degree=1 \n",
      "- Fold4: nprune= 5, degree=1 \n",
      "+ Fold4: nprune= 7, degree=1 \n",
      "- Fold4: nprune= 7, degree=1 \n",
      "+ Fold4: nprune= 8, degree=1 \n",
      "- Fold4: nprune= 8, degree=1 \n",
      "+ Fold4: nprune=10, degree=1 \n",
      "- Fold4: nprune=10, degree=1 \n",
      "+ Fold4: nprune=12, degree=1 \n",
      "- Fold4: nprune=12, degree=1 \n",
      "+ Fold4: nprune=13, degree=1 \n",
      "- Fold4: nprune=13, degree=1 \n",
      "+ Fold4: nprune=15, degree=1 \n",
      "- Fold4: nprune=15, degree=1 \n",
      "+ Fold4: nprune=17, degree=1 \n",
      "- Fold4: nprune=17, degree=1 \n",
      "+ Fold5: nprune= 2, degree=1 \n",
      "- Fold5: nprune= 2, degree=1 \n",
      "+ Fold5: nprune= 3, degree=1 \n",
      "- Fold5: nprune= 3, degree=1 \n",
      "+ Fold5: nprune= 5, degree=1 \n",
      "- Fold5: nprune= 5, degree=1 \n",
      "+ Fold5: nprune= 7, degree=1 \n",
      "- Fold5: nprune= 7, degree=1 \n",
      "+ Fold5: nprune= 8, degree=1 \n",
      "- Fold5: nprune= 8, degree=1 \n",
      "+ Fold5: nprune=10, degree=1 \n",
      "- Fold5: nprune=10, degree=1 \n",
      "+ Fold5: nprune=12, degree=1 \n",
      "- Fold5: nprune=12, degree=1 \n",
      "+ Fold5: nprune=13, degree=1 \n",
      "- Fold5: nprune=13, degree=1 \n",
      "+ Fold5: nprune=15, degree=1 \n",
      "- Fold5: nprune=15, degree=1 \n",
      "+ Fold5: nprune=17, degree=1 \n",
      "- Fold5: nprune=17, degree=1 \n",
      "Aggregating results\n",
      "Selecting tuning parameters\n",
      "Fitting degree = 1, nprune = 12 on full training set\n"
     ]
    }
   ],
   "source": [
    "set.seed(1410)\n",
    "fdaFit_us = train( RESP ~ ., data=upSampleTraining, method=\"fda\", tuneLength = 10, trControl = ctrl, metric = \"ROC\" )"
   ]
  },
  {
   "cell_type": "code",
   "execution_count": 69,
   "metadata": {},
   "outputs": [
    {
     "name": "stderr",
     "output_type": "stream",
     "text": [
      "Warning message in mean.default(rfFit_us$Eesample$Sens):\n",
      "\"argument is not numeric or logical: returning NA\""
     ]
    },
    {
     "name": "stdout",
     "output_type": "stream",
     "text": [
      "          AUC      Spec      Sens\n",
      "RF  0.9954445 0.9135701        NA\n",
      "FDA 0.8644210 0.7221983 0.8450868\n"
     ]
    }
   ],
   "source": [
    "# Compare our estimated sensitivity and specificity for these methods on the training data:\n",
    "#\n",
    "res = matrix( data=c( mean( rfFit_us$resample$ROC ), mean( rfFit_us$resample$Spec ), mean( rfFit_us$Eesample$Sens ), \n",
    "                      mean( fdaFit_us$resample$ROC ), mean( fdaFit_us$resample$Spec ), mean( fdaFit_us$resample$Sens ) ),\n",
    "               nrow=2, ncol=3, byrow=T )\n",
    "res = data.frame( res )\n",
    "rownames(res) = c(\"RF\", \"FDA\" )\n",
    "colnames(res) = c(\"AUC\", \"Spec\", \"Sens\" )\n",
    "print(res)"
   ]
  },
  {
   "cell_type": "code",
   "execution_count": 70,
   "metadata": {},
   "outputs": [],
   "source": [
    "# What are our default sensitivity and specificity for these upsampled methods on the evaluation set?\n",
    "#\n",
    "evalResults = data.frame( RESP = evaluation$RESP ) # put in the truth\n",
    "evalResults$RF = predict( rfFit_us, newdata=evaluation, type=\"prob\" )[,1]\n",
    "evalResults$FDA = predict( fdaFit_us, newdata=evaluation, type=\"prob\" )[,1]"
   ]
  },
  {
   "cell_type": "code",
   "execution_count": 79,
   "metadata": {
    "scrolled": true
   },
   "outputs": [
    {
     "name": "stderr",
     "output_type": "stream",
     "text": [
      "Setting direction: controls < cases\n"
     ]
    },
    {
     "name": "stdout",
     "output_type": "stream",
     "text": [
      "\n",
      "Call:\n",
      "roc.default(response = evalResults$RESP, predictor = evalResults$RF,     levels = rev(levels(evalResults$RESP)))\n",
      "\n",
      "Data: evalResults$RF in 223 controls (evalResults$RESP No) < 39 cases (evalResults$RESP Yes).\n",
      "Area under the curve: 0.8425\n"
     ]
    },
    {
     "name": "stderr",
     "output_type": "stream",
     "text": [
      "Setting direction: controls < cases\n"
     ]
    },
    {
     "name": "stdout",
     "output_type": "stream",
     "text": [
      "\n",
      "Call:\n",
      "roc.default(response = evalResults$RESP, predictor = evalResults$FDA,     levels = rev(levels(evalResults$RESP)))\n",
      "\n",
      "Data: evalResults$FDA in 223 controls (evalResults$RESP No) < 39 cases (evalResults$RESP Yes).\n",
      "Area under the curve: 0.8783\n"
     ]
    }
   ],
   "source": [
    "library(pROC)\n",
    "rfROC = roc( evalResults$RESP, evalResults$RF, levels=rev( levels(evalResults$RESP) ) )\n",
    "print(rfROC)\n",
    "FDAROC = roc( evalResults$RESP, evalResults$FDA, levels=rev( levels(evalResults$RESP) ) )\n",
    "print(FDAROC)"
   ]
  },
  {
   "cell_type": "code",
   "execution_count": 72,
   "metadata": {},
   "outputs": [
    {
     "name": "stderr",
     "output_type": "stream",
     "text": [
      "Warning message in if (!add) {:\n",
      "\"the condition has length > 1 and only the first element will be used\"Warning message in if (identity) suppressWarnings(abline(ifelse(percent, 100, 1), :\n",
      "\"the condition has length > 1 and only the first element will be used\""
     ]
    },
    {
     "ename": "ERROR",
     "evalue": "Error in sprintf(\"LR (%f)\", logRegROC$auc): object 'logRegROC' not found\n",
     "output_type": "error",
     "traceback": [
      "Error in sprintf(\"LR (%f)\", logRegROC$auc): object 'logRegROC' not found\nTraceback:\n",
      "1. legend(x = \"bottomright\", c(sprintf(\"RF (%f)\", rfROC$auc), sprintf(\"LR (%f)\", \n .     logRegROC$auc), sprintf(\"FDA (%f)\", FDAROC$auc)), col = c(\"red\", \n .     \"blue\", \"green\"), lty = c(1, 1, 1))",
      "2. sprintf(\"LR (%f)\", logRegROC$auc)"
     ]
    },
    {
     "data": {
      "image/png": "[encoded data removed]",
      "text/plain": [
       "plot without title"
      ]
     },
     "metadata": {},
     "output_type": "display_data"
    }
   ],
   "source": [
    "plot(rfROC, legacy.axes=TRUE, col=\"red\")\n",
    "plot(FDAROC, legacy.axes=TRUE, add=T, col=\"green\")\n",
    "legend( x=\"bottomright\", c(sprintf(\"RF (%f)\", rfROC$auc), sprintf(\"LR (%f)\", logRegROC$auc), sprintf(\"FDA (%f)\", FDAROC$auc)), col=c(\"red\",\"blue\", \"green\"), lty=c(1,1,1) )"
   ]
  },
  {
   "cell_type": "code",
   "execution_count": 1,
   "metadata": {},
   "outputs": [
    {
     "ename": "ERROR",
     "evalue": "Error in coords(rfROC, X = 0.5, input = \"threshold\"): could not find function \"coords\"\n",
     "output_type": "error",
     "traceback": [
      "Error in coords(rfROC, X = 0.5, input = \"threshold\"): could not find function \"coords\"\nTraceback:\n"
     ]
    }
   ],
   "source": [
    "baseline = coords( rfROC, X=0.5, input=\"threshold\" )\n",
    "rfThresh_ctopleft = coords( rfROC, x=\"best\", best.method=\"closest.topleft\" )\n",
    "rfThresh_youden = coords( rfROC, x=\"best\", best.method=\"youden\" )\n",
    "print( rbind( baseline, rfThresh_ctopleft, rfThresh_youden ) )\n"
   ]
  },
  {
   "cell_type": "markdown",
   "metadata": {},
   "source": [
    "### Conclusion:\n"
   ]
  }
 ],
 "metadata": {
  "kernelspec": {
   "display_name": "R",
   "language": "R",
   "name": "ir"
  },
  "language_info": {
   "codemirror_mode": "r",
   "file_extension": ".r",
   "mimetype": "text/x-r-source",
   "name": "R",
   "pygments_lexer": "r",
   "version": "3.6.1"
  }
 },
 "nbformat": 4,
 "nbformat_minor": 2
}
