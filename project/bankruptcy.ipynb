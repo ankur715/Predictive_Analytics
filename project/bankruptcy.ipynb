{
 "cells": [
  {
   "cell_type": "markdown",
   "metadata": {},
   "source": [
    "## Polish Companies Bankruptcy\n",
    "\n",
    "### - _Ankur Patel_"
   ]
  },
  {
   "cell_type": "code",
   "execution_count": 117,
   "metadata": {},
   "outputs": [
    {
     "data": {
      "text/html": [
       "<img src=\"https://s.yimg.com/ny/api/res/1.2/vQGqpL_guzGrlKkOeXz8Qg--~A/YXBwaWQ9aGlnaGxhbmRlcjtzbT0xO3c9ODAw/https://media.zenfs.com/en-US/homerun/motleyfool.com/8c3d0a8777ac8a399c78bad86ee74b39\" width=\"600\" height=\"200\"/>"
      ],
      "text/plain": [
       "<IPython.core.display.Image object>"
      ]
     },
     "execution_count": 117,
     "metadata": {},
     "output_type": "execute_result"
    }
   ],
   "source": [
    "from IPython.display import Image\n",
    "from IPython.core.display import HTML \n",
    "Image(url= \"https://s.yimg.com/ny/api/res/1.2/vQGqpL_guzGrlKkOeXz8Qg--~A/YXBwaWQ9aGlnaGxhbmRlcjtzbT0xO3c9ODAw/https://media.zenfs.com/en-US/homerun/motleyfool.com/8c3d0a8777ac8a399c78bad86ee74b39\", width=600, height=200)"
   ]
  },
  {
   "cell_type": "markdown",
   "metadata": {},
   "source": [
    "### Introduction:\n",
    "The Polish Companies Bankruptcy Data Set (http://archive.ics.uci.edu/ml/datasets/Polish+companies+bankruptcy+data) will be used for building a classification model to predict companies that will bankrupt. Visit the link for the details of this dataset.\n",
    "\n",
    "Algorithms: \n",
    "\n",
    "- Logistic Regression\n",
    "- Linear SVM\n",
    "- Decision Tree\n",
    "- Random Forest"
   ]
  },
  {
   "cell_type": "code",
   "execution_count": 1,
   "metadata": {},
   "outputs": [
    {
     "name": "stdout",
     "output_type": "stream",
     "text": [
      "File Name                                             Modified             Size\n",
      "1year.arff                                     2016-04-11 08:38:14      3432892\n",
      "2year.arff                                     2016-04-11 08:38:14      4987459\n",
      "3year.arff                                     2016-04-11 08:38:16      5169674\n",
      "4year.arff                                     2016-04-11 08:38:16      4829865\n",
      "5year.arff                                     2016-04-11 08:38:16      2899490\n"
     ]
    }
   ],
   "source": [
    "# to read the zip file\n",
    "from zipfile import ZipFile \n",
    "  \n",
    "# specifying the zip file name \n",
    "data = \"data.zip\"\n",
    "  \n",
    "# opening the zip file in READ mode \n",
    "with ZipFile(data, 'r') as zip: \n",
    "    # printing all the contents of the zip file \n",
    "    zip.printdir() \n",
    "    zip.extractall() \n",
    "    zips = zip.namelist()  "
   ]
  },
  {
   "cell_type": "code",
   "execution_count": 2,
   "metadata": {
    "scrolled": true
   },
   "outputs": [],
   "source": [
    "# importing libraries\n",
    "from scipy.io import arff\n",
    "import pandas as pd\n",
    "import numpy as np\n",
    "import matplotlib.pyplot as plt\n",
    "%matplotlib inline \n",
    "from termcolor import colored\n",
    "from sklearn import model_selection\n",
    "from sklearn.model_selection import train_test_split\n",
    "from sklearn.preprocessing import Imputer\n",
    "from sklearn.preprocessing import StandardScaler\n",
    "from sklearn.preprocessing import MinMaxScaler\n",
    "from sklearn.model_selection import cross_val_score\n",
    "from sklearn.linear_model import LogisticRegression\n",
    "from sklearn.svm import LinearSVC\n",
    "from sklearn.tree import DecisionTreeClassifier\n",
    "from sklearn.ensemble import RandomForestClassifier\n",
    "from sklearn.ensemble import BaggingClassifier\n",
    "from sklearn import model_selection\n",
    "from sklearn.metrics import accuracy_score\n",
    "from sklearn.metrics import confusion_matrix\n",
    "import warnings\n",
    "warnings.filterwarnings(\"ignore\")"
   ]
  },
  {
   "cell_type": "code",
   "execution_count": 3,
   "metadata": {},
   "outputs": [],
   "source": [
    "# extract from each arff file\n",
    "data1= []\n",
    "for i,j in enumerate(zips):\n",
    "    data = arff.loadarff(zips[i])\n",
    "    data1.append(pd.DataFrame(data[0]))"
   ]
  },
  {
   "cell_type": "code",
   "execution_count": 74,
   "metadata": {},
   "outputs": [
    {
     "name": "stdout",
     "output_type": "stream",
     "text": [
      "\u001b[31mYear 1:\n",
      "\u001b[0m       Attr1    Attr2    Attr3   Attr4    Attr5    Attr6     Attr7    Attr8  \\\n",
      "0  0.200550  0.37951  0.39641  2.0472  32.3510  0.38825  0.249760  1.33050   \n",
      "1  0.209120  0.49988  0.47225  1.9447  14.7860  0.00000  0.258340  0.99601   \n",
      "2  0.248660  0.69592  0.26713  1.5548  -1.1523  0.00000  0.309060  0.43695   \n",
      "3  0.081483  0.30734  0.45879  2.4928  51.9520  0.14988  0.092704  1.86610   \n",
      "4  0.187320  0.61323  0.22960  1.4063  -7.3128  0.18732  0.187320  0.63070   \n",
      "\n",
      "    Attr9   Attr10  ...    Attr56   Attr57   Attr58    Attr59  Attr60  Attr61  \\\n",
      "0  1.1389  0.50494  ...  0.121960  0.39718  0.87804  0.001924  8.4160  5.1372   \n",
      "1  1.6996  0.49788  ...  0.121300  0.42002  0.85300  0.000000  4.1486  3.2732   \n",
      "2  1.3090  0.30408  ...  0.241140  0.81774  0.76599  0.694840  4.9909  3.9510   \n",
      "3  1.0571  0.57353  ...  0.054015  0.14207  0.94598  0.000000  4.5746  3.6147   \n",
      "4  1.1559  0.38677  ...  0.134850  0.48431  0.86515  0.124440  6.3985  4.3158   \n",
      "\n",
      "    Attr62  Attr63   Attr64  class  \n",
      "0   82.658  4.4158   7.4277   b'0'  \n",
      "1  107.350  3.4000  60.9870   b'0'  \n",
      "2  134.270  2.7185   5.2078   b'0'  \n",
      "3   86.435  4.2228   5.5497   b'0'  \n",
      "4  127.210  2.8692   7.8980   b'0'  \n",
      "\n",
      "[5 rows x 65 columns] \u001b[34m\n",
      "length:\u001b[0m 7027 \u001b[31m\n",
      "\n",
      "Year 2:\n",
      "\u001b[0m       Attr1    Attr2     Attr3   Attr4   Attr5     Attr6    Attr7    Attr8  \\\n",
      "0  0.202350  0.46500  0.240380  1.5171 -14.547  0.510690  0.25366  0.91816   \n",
      "1  0.030073  0.59563  0.186680  1.3382 -37.859 -0.000319  0.04167  0.67890   \n",
      "2  0.257860  0.29949  0.665190  3.2211  71.799  0.000000  0.31877  2.33200   \n",
      "3  0.227160  0.67850  0.042784  1.0828 -88.212  0.000000  0.28505  0.47384   \n",
      "4  0.085443  0.38039  0.359230  1.9444  21.731  0.187900  0.10823  1.37140   \n",
      "\n",
      "     Attr9   Attr10  ...   Attr56    Attr57   Attr58   Attr59  Attr60  \\\n",
      "0  1.15190  0.42695  ...  0.13184  0.473950  0.86816  0.00024  8.5487   \n",
      "1  0.32356  0.40437  ...  0.12146  0.074369  0.87235  0.00000  1.5264   \n",
      "2  1.67620  0.69841  ...  0.16499  0.369210  0.81614  0.00000  4.3325   \n",
      "3  1.32410  0.32150  ...  0.29358  0.706570  0.78617  0.48456  5.2309   \n",
      "4  1.11260  0.52167  ...  0.10124  0.163790  0.89876  0.00000  5.7035   \n",
      "\n",
      "    Attr61   Attr62   Attr63   Attr64  class  \n",
      "0  5.16550  107.740  3.38790   5.3440   b'0'  \n",
      "1  0.63305  622.660  0.58619   1.2381   b'0'  \n",
      "2  3.19850   65.215  5.59690  47.4660   b'0'  \n",
      "3  5.06750  142.460  2.56210   3.0066   b'0'  \n",
      "4  4.00200   89.058  4.09840   5.9874   b'0'  \n",
      "\n",
      "[5 rows x 65 columns] \u001b[34m\n",
      "length:\u001b[0m 10173 \u001b[31m\n",
      "\n",
      "Year 3:\n",
      "\u001b[0m       Attr1    Attr2    Attr3   Attr4    Attr5    Attr6     Attr7   Attr8  \\\n",
      "0  0.174190  0.41299  0.14371  1.3480 -28.9820  0.60383  0.219460  1.1225   \n",
      "1  0.146240  0.46038  0.28230  1.6294   2.5952  0.00000  0.171850  1.1721   \n",
      "2  0.000595  0.22612  0.48839  3.1599  84.8740  0.19114  0.004572  2.9881   \n",
      "3  0.024526  0.43236  0.27546  1.7833 -10.1050  0.56944  0.024526  1.3057   \n",
      "4  0.188290  0.41504  0.34231  1.9279 -58.2740  0.00000  0.233580  1.4094   \n",
      "\n",
      "    Attr9   Attr10  ...    Attr56    Attr57   Attr58    Attr59  Attr60  \\\n",
      "0  1.1961  0.46359  ...  0.163960  0.375740  0.83604  0.000007  9.7145   \n",
      "1  1.6018  0.53962  ...  0.027516  0.271000  0.90108  0.000000  5.9882   \n",
      "2  1.0077  0.67566  ...  0.007639  0.000881  0.99236  0.000000  6.7742   \n",
      "3  1.0509  0.56453  ...  0.048398  0.043445  0.95160  0.142980  4.2286   \n",
      "4  1.3393  0.58496  ...  0.176480  0.321880  0.82635  0.073039  2.5912   \n",
      "\n",
      "   Attr61   Attr62  Attr63  Attr64  class  \n",
      "0  6.2813   84.291  4.3303  4.0341   b'0'  \n",
      "1  4.1103  102.190  3.5716  5.9500   b'0'  \n",
      "2  3.7922   64.846  5.6287  4.4581   b'0'  \n",
      "3  5.0528   98.783  3.6950  3.4844   b'0'  \n",
      "4  7.0756  100.540  3.6303  4.6375   b'0'  \n",
      "\n",
      "[5 rows x 65 columns] \u001b[34m\n",
      "length:\u001b[0m 10503\n"
     ]
    }
   ],
   "source": [
    "# brief view of the year 1, 2, and 3 \n",
    "print(colored(\"Year 1:\\n\", \"red\"), data1[0].head(), colored(\"\\nlength:\", \"blue\"), len(data1[0]),\n",
    "      colored(\"\\n\\nYear 2:\\n\", \"red\"), data1[1].head(), colored(\"\\nlength:\", \"blue\"), len(data1[1]),\n",
    "      colored(\"\\n\\nYear 3:\\n\", \"red\"), data1[2].head(), colored(\"\\nlength:\", \"blue\"), len(data1[2]))"
   ]
  },
  {
   "cell_type": "code",
   "execution_count": 35,
   "metadata": {
    "scrolled": false
   },
   "outputs": [
    {
     "name": "stdout",
     "output_type": "stream",
     "text": [
      "Data size: (27703, 65)\n"
     ]
    }
   ],
   "source": [
    "# concatenate years 1,2,3\n",
    "df = pd.concat([data1[0], data1[1], data1[2]])\n",
    "print(\"Data size:\", df.shape)"
   ]
  },
  {
   "cell_type": "code",
   "execution_count": 36,
   "metadata": {},
   "outputs": [
    {
     "name": "stdout",
     "output_type": "stream",
     "text": [
      "0    348690.0\n",
      "1      2304.6\n",
      "2      6332.7\n",
      "3     20545.0\n",
      "4      3186.6\n",
      "Name: Attr55, dtype: float64\n"
     ]
    }
   ],
   "source": [
    "# the only column whose values are extremely high, so better to drop it\n",
    "print(df[\"Attr55\"].head())\n",
    "df[\"Attr55\"] = None"
   ]
  },
  {
   "cell_type": "code",
   "execution_count": 32,
   "metadata": {
    "scrolled": true
   },
   "outputs": [
    {
     "name": "stdout",
     "output_type": "stream",
     "text": [
      "Null values in class: 0\n",
      "0    26537\n",
      "1     1166\n",
      "Name: target, dtype: int64\n"
     ]
    }
   ],
   "source": [
    "# rearrange target column\n",
    "print(\"Null values in class:\", df['class'].isnull().sum())\n",
    "df.rename(columns={'class':'target'}, inplace=True)\n",
    "df.replace({'target': b'1'}, int(1), inplace=True)\n",
    "df.replace({'target': b'0'}, int(0), inplace=True)\n",
    "print(df['target'].value_counts())"
   ]
  },
  {
   "cell_type": "code",
   "execution_count": 33,
   "metadata": {
    "scrolled": false
   },
   "outputs": [
    {
     "data": {
      "image/png": "[encoded data removed]",
      "text/plain": [
       "<Figure size 1440x1080 with 64 Axes>"
      ]
     },
     "metadata": {
      "needs_background": "light"
     },
     "output_type": "display_data"
    }
   ],
   "source": [
    "# to view distribution\n",
    "df.hist(bins=50, figsize=(20,15))\n",
    "plt.tight_layout()    \n",
    "plt.show()"
   ]
  },
  {
   "cell_type": "code",
   "execution_count": 19,
   "metadata": {},
   "outputs": [],
   "source": [
    "# splitting into df and target\n",
    "target = df.iloc[:, -1]\n",
    "df = df.drop(df.columns[-1], axis=1)"
   ]
  },
  {
   "cell_type": "code",
   "execution_count": 20,
   "metadata": {},
   "outputs": [],
   "source": [
    "# the data must be preprocessed (remove duplicates and null values with 50 null required, \n",
    "# and then to use Imputation transformer for completing missing values)\n",
    "imr=Imputer(missing_values='NaN', strategy='median', axis=0)\n",
    "imr=imr.fit(df)\n",
    "imputed=imr.transform(df.values)\n",
    "df=pd.DataFrame(pd.DataFrame(imputed).values,columns=[\"Attr1\",\"Attr2\",\"Attr3\",\"Attr4\",\"Attr5\",\"Attr6\",\"Attr7\",\"Attr8\",\n",
    "                                                \"Attr9\",\"Attr10\",\"Attr11\",\"Attr12\",\"Attr13\",\"Attr14\",\"Attr15\",\"Attr16\",\n",
    "                                                \"Attr17\",\"Attr18\",\"Attr19\",\"Attr20\",\"Attr21\",\"Attr22\",\"Attr23\",\"Attr24\",\n",
    "                                                \"Attr25\",\"Attr26\",\"Attr27\",\"Attr28\",\"Attr29\",\"Attr30\",\"Attr31\",\"Attr32\",\n",
    "                                                \"Attr33\",\"Attr34\",\"Attr35\",\"Attr36\",\"Attr37\",\"Attr38\",\"Attr39\",\"Attr40\",\n",
    "                                                \"Attr41\",\"Attr42\",\"Attr43\",\"Attr44\",\"Attr45\",\"Attr46\",\"Attr47\",\"Attr48\",\n",
    "                                                \"Attr49\",\"Attr50\",\"Attr51\",\"Attr52\",\"Attr53\",\"Attr54\",\"Attr55\",\"Attr56\",\n",
    "                                                \"Attr57\",\"Attr58\",\"Attr59\",\"Attr60\",\"Attr61\",\"Attr62\",\"Attr63\",\"Attr64\"])"
   ]
  },
  {
   "cell_type": "code",
   "execution_count": 21,
   "metadata": {},
   "outputs": [
    {
     "name": "stdout",
     "output_type": "stream",
     "text": [
      "Original dataset: 22162 train + 5541 test\n"
     ]
    }
   ],
   "source": [
    "# splitting into train-test\n",
    "seed = 42 #memory location for all methods\n",
    "X, y = df, target\n",
    "X_train, X_test, y_train, y_test = train_test_split(X, y, test_size=0.2, random_state=seed) \n",
    "print(\"Original dataset:\", len(X_train), \"train +\", len(X_test), \"test\")"
   ]
  },
  {
   "cell_type": "code",
   "execution_count": 77,
   "metadata": {},
   "outputs": [],
   "source": [
    "# other option to decorate the text\n",
    "class color:\n",
    "   PURPLE = '\\033[95m'\n",
    "   CYAN = '\\033[96m'\n",
    "   DARKCYAN = '\\033[36m'\n",
    "   BLUE = '\\033[94m'\n",
    "   GREEN = '\\033[92m'\n",
    "   YELLOW = '\\033[93m'\n",
    "   RED = '\\033[91m'\n",
    "   BOLD = '\\033[1m'\n",
    "   UNDERLINE = '\\033[4m'\n",
    "   END = '\\033[0m'"
   ]
  },
  {
   "cell_type": "code",
   "execution_count": 79,
   "metadata": {},
   "outputs": [
    {
     "name": "stdout",
     "output_type": "stream",
     "text": [
      "\u001b[1mAfter scaling: \n",
      "\u001b[0m          0         1         2         3         4         5         6   \\\n",
      "0 -0.009919 -0.040815  0.015552 -0.049748  0.008922  0.010280 -0.019611   \n",
      "1  0.083552 -0.099216  0.103489  0.303825  0.012503  0.107126  0.008571   \n",
      "2 -0.004570  0.047077 -0.056525 -0.075919  0.007928  0.010280 -0.016897   \n",
      "3 -0.123384  0.063264 -0.043736 -0.073388  0.009365  0.008845 -0.055874   \n",
      "4  0.020391  0.000477  0.009987 -0.062376  0.009115  0.062168 -0.005647   \n",
      "\n",
      "         7         8         9   ...        54        55        56        57  \\\n",
      "0 -0.022954 -0.025938 -0.003328  ... -0.107389  0.006853  0.000923 -0.007612   \n",
      "1  0.024262 -0.026393  0.016307  ... -0.033344  0.006850  0.015226 -0.007608   \n",
      "2 -0.027522 -0.014807 -0.032890  ... -0.120082  0.006831  0.018272 -0.007583   \n",
      "3 -0.027856  0.002672 -0.038334  ... -0.108266  0.006956 -0.184418 -0.007713   \n",
      "4 -0.026012  0.005283 -0.017216  ... -0.095513  0.006827  0.015059 -0.007584   \n",
      "\n",
      "         58        59        60        61        62        63  \n",
      "0 -0.010275 -0.015382 -0.044478 -0.010109 -0.034787 -0.034097  \n",
      "1 -0.011629 -0.015219 -0.046220 -0.010507  0.087117 -0.033427  \n",
      "2 -0.000777 -0.015277  0.048645 -0.009972 -0.040646 -0.033517  \n",
      "3  0.022886 -0.014758  0.030610 -0.010248 -0.024130 -0.032281  \n",
      "4 -0.011324 -0.014419 -0.025652 -0.010259 -0.022904 -0.028869  \n",
      "\n",
      "[5 rows x 64 columns]\n"
     ]
    }
   ],
   "source": [
    "# StandardScaler\n",
    "X_sc = pd.DataFrame(StandardScaler().fit_transform(X_train))\n",
    "print(color.BOLD+\"After scaling: \\n\"+color.END, X_sc.head())"
   ]
  },
  {
   "cell_type": "code",
   "execution_count": 13,
   "metadata": {
    "scrolled": false
   },
   "outputs": [
    {
     "name": "stdout",
     "output_type": "stream",
     "text": [
      "\u001b[1mAfter scaling: \n",
      "\u001b[0m          0         1         2         3         4         5         6   \\\n",
      "0  0.732097  0.131149  0.965215  0.000038  0.923152  0.626537  0.226290   \n",
      "1  0.732122  0.131367  0.965367  0.000036  0.923151  0.626059  0.226300   \n",
      "2  0.732234  0.131721  0.964955  0.000029  0.923150  0.626059  0.226361   \n",
      "3  0.731758  0.131019  0.965340  0.000047  0.923154  0.626244  0.226103   \n",
      "4  0.732059  0.131572  0.964879  0.000026  0.923149  0.626290  0.226216   \n",
      "\n",
      "         7         8         9   ...        54        55        56       57  \\\n",
      "0  0.002664  0.000242  0.304174  ...  0.347200  0.999736  0.751235  0.00018   \n",
      "1  0.002658  0.000299  0.304169  ...  0.291364  0.999736  0.751246  0.00018   \n",
      "2  0.002648  0.000259  0.304046  ...  0.292013  0.999736  0.751425  0.00018   \n",
      "3  0.002674  0.000233  0.304217  ...  0.294304  0.999736  0.751120  0.00018   \n",
      "4  0.002651  0.000243  0.304099  ...  0.291506  0.999736  0.751274  0.00018   \n",
      "\n",
      "         58        59        60        61        62        63  \n",
      "0  0.013563  0.000002  0.000436  0.085425  0.000204  0.034980  \n",
      "1  0.013563  0.000001  0.000367  0.085426  0.000161  0.035155  \n",
      "2  0.013592  0.000001  0.000392  0.085427  0.000132  0.034972  \n",
      "3  0.013563  0.000001  0.000380  0.085425  0.000196  0.034973  \n",
      "4  0.013568  0.000002  0.000406  0.085426  0.000138  0.034981  \n",
      "\n",
      "[5 rows x 64 columns]\n"
     ]
    }
   ],
   "source": [
    "# MinMaxScaler\n",
    "X_scaled =  pd.DataFrame(MinMaxScaler().fit_transform(X))\n",
    "print(color.BOLD+\"After scaling: \\n\"+color.END, X_scaled.head())"
   ]
  },
  {
   "cell_type": "code",
   "execution_count": 48,
   "metadata": {},
   "outputs": [
    {
     "name": "stdout",
     "output_type": "stream",
     "text": [
      "22162 train + 5541\n"
     ]
    }
   ],
   "source": [
    "# scaled train-test split\n",
    "X_train_sc, X_test_sc, y_train, y_test = train_test_split(X_sc, y, test_size=0.2, random_state=seed)\n",
    "X_train_scaled, X_test_scaled, y_train, y_test = train_test_split(X_scaled, y, test_size=0.2, random_state=seed)\n",
    "print(len(X_train_sc), \"train +\", len(X_test_sc))"
   ]
  },
  {
   "cell_type": "markdown",
   "metadata": {},
   "source": [
    "### Review (1)\n",
    "\n",
    "The data of year 1, 2, 3 have been concatenated and then scaled using Standard and MinMax. The dataset was split into train and test for each conditions and they will be compared after.\n",
    "\n",
    "- unscaled\n",
    "- StandardScaler\n",
    "- MinMaxScaler\n",
    "\n",
    "The target column is very unproportional since there are about 26000 0's while only about 1100 1's. Although, it makes sense with this data since it's of bankruptcy."
   ]
  },
  {
   "cell_type": "code",
   "execution_count": 68,
   "metadata": {},
   "outputs": [],
   "source": [
    "# classifiers for predicting model\n",
    "classifier_namess = [\"Logistic Regression\", \"Linear SVM\", \"Decision Tree\", \"Random Forest\"]\n",
    "classifiers = [LogisticRegression(), LinearSVC(), DecisionTreeClassifier(), RandomForestClassifier()]    "
   ]
  },
  {
   "cell_type": "code",
   "execution_count": 53,
   "metadata": {},
   "outputs": [
    {
     "name": "stdout",
     "output_type": "stream",
     "text": [
      "Classifiers: ['Logistic Regression', 'Linear SVM', 'Decision Tree', 'Random Forest']\n",
      "Cross-Validation: [0.945357615226482, 0.8970821407734814, 0.9525309760103285, 0.9629999663995943]\n"
     ]
    }
   ],
   "source": [
    "# unscaled scores\n",
    "cross_val_scores = []\n",
    "for classifier in classifiers:\n",
    "    classifier_names = classifier.fit(X_train, y_train) #fit trains the model\n",
    "    scores = cross_val_score(classifier, X_train, y_train, cv=10) #10-fold cv\n",
    "    cross_val_scores.append(np.mean(scores))\n",
    "print(\"Classifiers:\", classifier_namess)\n",
    "print(\"Cross-Validation:\", cross_val_scores)"
   ]
  },
  {
   "cell_type": "code",
   "execution_count": 56,
   "metadata": {},
   "outputs": [
    {
     "name": "stdout",
     "output_type": "stream",
     "text": [
      "Bagging of Logistic Regression 0.9518137520303195\n",
      "Bagging of Linear SVM 0.9474824038982134\n",
      "Bagging of Decision Tree 0.971304818624797\n",
      "Bagging of Random Forest 0.9626421223605848\n"
     ]
    }
   ],
   "source": [
    "# Bagging of the classifiers (unscaled)\n",
    "for i, classifier in enumerate(classifiers):\n",
    "    bg = BaggingClassifier(classifier, max_samples=0.5, max_features=1.0, n_estimators=20, random_state=seed)\n",
    "    bg.fit(X_train, y_train)\n",
    "    print(\"Bagging of {}\".format(classifier_namess[i]), bg.score(X_test, y_test))"
   ]
  },
  {
   "cell_type": "code",
   "execution_count": 66,
   "metadata": {},
   "outputs": [
    {
     "name": "stdout",
     "output_type": "stream",
     "text": [
      "Classifiers: ['Logistic Regression', 'Linear SVM', 'Decision Tree', 'Random Forest']\n",
      "Cross-Validation: [0.9570887997629646, 0.9569986284925329, 0.9503640553042313, 0.9627288823995986]\n"
     ]
    }
   ],
   "source": [
    "# StandardScaler scores\n",
    "cross_val_scoress = []\n",
    "for classifier in classifiers:\n",
    "    classifier_names = classifier.fit(X_train_sc, y_train) #fit trains the model\n",
    "    scores = cross_val_score(classifier, X_train_sc, y_train, cv=10) #10-fold cv\n",
    "    cross_val_scoress.append(np.mean(scores))\n",
    "print(\"Classifiers:\", classifier_namess)\n",
    "print(\"Cross-Validation:\", cross_val_scoress)"
   ]
  },
  {
   "cell_type": "code",
   "execution_count": 58,
   "metadata": {},
   "outputs": [
    {
     "name": "stdout",
     "output_type": "stream",
     "text": [
      "Bagging of Logistic Regression 0.9581303013896408\n",
      "Bagging of Linear SVM 0.9577693557119653\n",
      "Bagging of Decision Tree 0.9698610359140949\n",
      "Bagging of Random Forest 0.962461649521747\n"
     ]
    }
   ],
   "source": [
    "# Bagging of the classifiers (StandardScaler)\n",
    "for i, classifier in enumerate(classifiers):\n",
    "    bg = BaggingClassifier(classifier, max_samples=0.5, max_features=1.0, n_estimators=20, random_state=seed)\n",
    "    bg.fit(X_train_sc, y_train)\n",
    "    print(\"Bagging of {}\".format(classifier_namess[i]), bg.score(X_test_sc, y_test))"
   ]
  },
  {
   "cell_type": "code",
   "execution_count": 67,
   "metadata": {},
   "outputs": [
    {
     "name": "stdout",
     "output_type": "stream",
     "text": [
      "Classifiers: ['Logistic Regression', 'Linear SVM', 'Decision Tree', 'Random Forest']\n",
      "Cross-Validation: [0.9577205281169212, 0.9577656341160191, 0.930375988539207, 0.9557798297783086]\n"
     ]
    }
   ],
   "source": [
    "# MinMaxScaler scores\n",
    "cross_val_scoresss = []\n",
    "for classifier in classifiers:\n",
    "    classifier_names = classifier.fit(X_train_scaled, y_train) #fit trains the model\n",
    "    scores = cross_val_score(classifier, X_train_scaled, y_train, cv=10) #10-fold cv\n",
    "    cross_val_scoresss.append(np.mean(scores))\n",
    "print(\"Classifiers:\", classifier_namess)\n",
    "print(\"Cross-Validation:\", cross_val_scoresss)"
   ]
  },
  {
   "cell_type": "code",
   "execution_count": 96,
   "metadata": {},
   "outputs": [
    {
     "name": "stdout",
     "output_type": "stream",
     "text": [
      "Bagging of Logistic Regression 0.9584912470673164\n",
      "Bagging of Linear SVM 0.9584912470673164\n",
      "Bagging of Decision Tree 0.9574084100342899\n",
      "Bagging of Random Forest 0.9579498285508031\n"
     ]
    }
   ],
   "source": [
    "# Bagging of the classifiers (MinMaxScaler)\n",
    "for i, classifier in enumerate(classifiers):\n",
    "    bg = BaggingClassifier(classifier, max_samples=0.5, max_features=1.0, n_estimators=10, random_state=seed)\n",
    "    bg.fit(X_train_scaled, y_train)\n",
    "    print(\"Bagging of {}\".format(classifier_namess[i]), bg.score(X_test_scaled, y_test))"
   ]
  },
  {
   "cell_type": "markdown",
   "metadata": {},
   "source": [
    "### Review (2)\n",
    "\n",
    "The scores of each classifier can be seen above. Highest scores:\n",
    "- Unscaled: Random Forest 96.3%\n",
    "    - __Bagging of Decision Tree 97.13%__\n",
    "- StandardScaler: Random Rorest 96.24%\n",
    "    - __Bagging of Decision Tree 96.99%__\n",
    "- MinMaxScaler: Linear SVM 96.24%\n",
    "    - Bagging of Random Forest 95.92% (they were all around 95.8%)\n",
    "    \n",
    "Bagging ensemble increased the scores for most. The best method tested for this dataset is Bagging of DecisionTree unscaled with cv of 10-fold with an accuracy of 97.13%, and the next best was Bagging of DecisionTree StandardScaler with an accuracy of 96.99%. Most of the scores were were above 95%."
   ]
  },
  {
   "cell_type": "code",
   "execution_count": 110,
   "metadata": {
    "scrolled": true
   },
   "outputs": [
    {
     "data": {
      "image/png": "[encoded data removed]",
      "text/plain": [
       "<Figure size 432x288 with 1 Axes>"
      ]
     },
     "metadata": {
      "needs_background": "light"
     },
     "output_type": "display_data"
    }
   ],
   "source": [
    "cm = confusion_matrix(y_test, y_pred)\n",
    "plt.clf()\n",
    "plt.imshow(cm, interpolation='nearest', cmap=plt.cm.Wistia)\n",
    "classNames = ['Negative','Positive']\n",
    "plt.title('Versicolor or Not Versicolor Confusion Matrix - Test Data')\n",
    "plt.ylabel('True label')\n",
    "plt.xlabel('Predicted label')\n",
    "tick_marks = np.arange(len(classNames))\n",
    "plt.xticks(tick_marks, classNames, rotation=45)\n",
    "plt.yticks(tick_marks, classNames)\n",
    "s = [['TN','FP'], ['FN', 'TP']]\n",
    "for i in range(2):\n",
    "    for j in range(2):\n",
    "        plt.text(j,i, str(s[i][j])+\" = \"+str(cm[i][j]))\n",
    "plt.show()"
   ]
  },
  {
   "cell_type": "code",
   "execution_count": 108,
   "metadata": {
    "scrolled": false
   },
   "outputs": [
    {
     "name": "stdout",
     "output_type": "stream",
     "text": [
      "GridSearchCV(cv='warn', error_score='raise-deprecating',\n",
      "             estimator=DecisionTreeClassifier(class_weight=None,\n",
      "                                              criterion='gini', max_depth=None,\n",
      "                                              max_features=None,\n",
      "                                              max_leaf_nodes=None,\n",
      "                                              min_impurity_decrease=0.0,\n",
      "                                              min_impurity_split=None,\n",
      "                                              min_samples_leaf=1,\n",
      "                                              min_samples_split=2,\n",
      "                                              min_weight_fraction_leaf=0.0,\n",
      "                                              presort=False, random_state=None,\n",
      "                                              splitter='best'),\n",
      "             iid='warn', n_jobs=None,\n",
      "             param_grid={'max_depth': [1, 5, 10, 15, 20, 25, 30],\n",
      "                         'min_samples_leaf': [1, 2, 4, 6, 8, 10]},\n",
      "             pre_dispatch='2*n_jobs', refit=True, return_train_score=False,\n",
      "             scoring=None, verbose=0)\n",
      "0.9664741449327678\n",
      "DecisionTreeClassifier(class_weight=None, criterion='gini', max_depth=10,\n",
      "                       max_features=None, max_leaf_nodes=None,\n",
      "                       min_impurity_decrease=0.0, min_impurity_split=None,\n",
      "                       min_samples_leaf=8, min_samples_split=2,\n",
      "                       min_weight_fraction_leaf=0.0, presort=False,\n",
      "                       random_state=None, splitter='best')\n"
     ]
    }
   ],
   "source": [
    "param_grid_dt = {\"max_depth\" : [1, 5, 10, 15, 20, 25, 30],\n",
    "                 \"min_samples_leaf\" : [1, 2, 4, 6, 8, 10]}\n",
    "# create and fit a ridge regression model, testing each alpha\n",
    "model = DecisionTreeClassifier()\n",
    "grid = model_selection.GridSearchCV(estimator=model, param_grid=param_grid_dt)\n",
    "grid.fit(X_train, y_train)\n",
    "print(grid)\n",
    "# summarize the results of the grid search\n",
    "print(grid.best_score_)\n",
    "print(grid.best_estimator_)"
   ]
  },
  {
   "cell_type": "code",
   "execution_count": 115,
   "metadata": {},
   "outputs": [
    {
     "name": "stdout",
     "output_type": "stream",
     "text": [
      "Bagging of DeicionTreeClassifier after GridSearchCV: 0.9711243457859592\n"
     ]
    }
   ],
   "source": [
    "# unscaled Decision Tree with Bagging\n",
    "# Bagging of the classifiers (unscaled)\n",
    "bg = BaggingClassifier(DecisionTreeClassifier(class_weight=None, criterion='gini', max_depth=10,\n",
    "                       max_features=None, max_leaf_nodes=None,\n",
    "                       min_impurity_decrease=0.0, min_impurity_split=None,\n",
    "                       min_samples_leaf=8, min_samples_split=2,\n",
    "                       min_weight_fraction_leaf=0.0, presort=False,\n",
    "                       random_state=None, splitter='best'), \n",
    "                       max_samples=0.5, max_features=1.0, n_estimators=20, random_state=seed)\n",
    "bg.fit(X_train, y_train)\n",
    "print(\"Bagging of DeicionTreeClassifier after GridSearchCV:\", bg.score(X_test, y_test))"
   ]
  },
  {
   "cell_type": "markdown",
   "metadata": {},
   "source": [
    "### Conclusion (1):\n",
    "\n",
    "The best model found for predicting bankruptcy was BaggingClassifier with DecisionTreeClassifier with the unscaled data, which resulted in a score of 97.13%. The default DecisionTree was used first for the different classifiers and then Bagging. The GridSearchCV was additionally used at the end to compare/test. It gave the optimal parameters, but the score was 97.11% which was very similar to default parameters."
   ]
  },
  {
   "cell_type": "markdown",
   "metadata": {},
   "source": [
    "## AutoML: Automatic Machine Learning"
   ]
  },
  {
   "cell_type": "code",
   "execution_count": 121,
   "metadata": {},
   "outputs": [
    {
     "data": {
      "text/html": [
       "<img src=\"https://i0.wp.com/softwareengineeringdaily.com/wp-content/uploads/2019/05/image7-1.png?fit=469%2C235&ssl=1\" width=\"600\" height=\"200\"/>"
      ],
      "text/plain": [
       "<IPython.core.display.Image object>"
      ]
     },
     "execution_count": 121,
     "metadata": {},
     "output_type": "execute_result"
    }
   ],
   "source": [
    "from IPython.display import Image\n",
    "from IPython.core.display import HTML \n",
    "Image(url= \"https://i0.wp.com/softwareengineeringdaily.com/wp-content/uploads/2019/05/image7-1.png?fit=469%2C235&ssl=1\", width=600, height=200)"
   ]
  },
  {
   "cell_type": "markdown",
   "metadata": {},
   "source": [
    "- H2O is a Java-based software for data modeling and general computing\n",
    "- The goal of H2O is to allow simple horizontal scaling to a given problem in order to produce a solution faster\n",
    "- The conceptual paradigm MapReduce (AKA “divide and conquer and combine”), along with a good concurrent application structure, (c.f. jsr166y and NonBlockingHashMap) enable this type of scaling in H2O\n",
    "\n",
    "**AutoML is a technique widely used by companies now for efficiency**\n",
    "\n",
    "_Reference: http://docs.h2o.ai/h2o/latest-stable/h2o-py/docs/intro.html_"
   ]
  },
  {
   "cell_type": "code",
   "execution_count": 4,
   "metadata": {},
   "outputs": [
    {
     "name": "stdout",
     "output_type": "stream",
     "text": [
      "Checking whether there is an H2O instance running at http://localhost:54321 ..... not found.\n",
      "Attempting to start a local H2O server...\n",
      "; Java HotSpot(TM) 64-Bit Server VM (build 25.231-b11, mixed mode)\n",
      "  Starting server from C:\\Users\\ankur\\Anaconda3\\lib\\site-packages\\h2o\\backend\\bin\\h2o.jar\n",
      "  Ice root: C:\\Users\\ankur\\AppData\\Local\\Temp\\tmpkcd7pwd4\n",
      "  JVM stdout: C:\\Users\\ankur\\AppData\\Local\\Temp\\tmpkcd7pwd4\\h2o_ankur_started_from_python.out\n",
      "  JVM stderr: C:\\Users\\ankur\\AppData\\Local\\Temp\\tmpkcd7pwd4\\h2o_ankur_started_from_python.err\n",
      "  Server is running at http://127.0.0.1:54321\n",
      "Connecting to H2O server at http://127.0.0.1:54321 ... successful.\n"
     ]
    },
    {
     "data": {
      "text/html": [
       "<div style=\"overflow:auto\"><table style=\"width:50%\"><tr><td>H2O cluster uptime:</td>\n",
       "<td>04 secs</td></tr>\n",
       "<tr><td>H2O cluster timezone:</td>\n",
       "<td>-05:00</td></tr>\n",
       "<tr><td>H2O data parsing timezone:</td>\n",
       "<td>UTC</td></tr>\n",
       "<tr><td>H2O cluster version:</td>\n",
       "<td>3.26.0.6</td></tr>\n",
       "<tr><td>H2O cluster version age:</td>\n",
       "<td>16 days </td></tr>\n",
       "<tr><td>H2O cluster name:</td>\n",
       "<td>H2O_from_python_ankur_85pcdc</td></tr>\n",
       "<tr><td>H2O cluster total nodes:</td>\n",
       "<td>1</td></tr>\n",
       "<tr><td>H2O cluster free memory:</td>\n",
       "<td>3.528 Gb</td></tr>\n",
       "<tr><td>H2O cluster total cores:</td>\n",
       "<td>8</td></tr>\n",
       "<tr><td>H2O cluster allowed cores:</td>\n",
       "<td>8</td></tr>\n",
       "<tr><td>H2O cluster status:</td>\n",
       "<td>accepting new members, healthy</td></tr>\n",
       "<tr><td>H2O connection url:</td>\n",
       "<td>http://127.0.0.1:54321</td></tr>\n",
       "<tr><td>H2O connection proxy:</td>\n",
       "<td>None</td></tr>\n",
       "<tr><td>H2O internal security:</td>\n",
       "<td>False</td></tr>\n",
       "<tr><td>H2O API Extensions:</td>\n",
       "<td>Amazon S3, Algos, AutoML, Core V3, TargetEncoder, Core V4</td></tr>\n",
       "<tr><td>Python version:</td>\n",
       "<td>3.7.3 final</td></tr></table></div>"
      ],
      "text/plain": [
       "--------------------------  ---------------------------------------------------------\n",
       "H2O cluster uptime:         04 secs\n",
       "H2O cluster timezone:       -05:00\n",
       "H2O data parsing timezone:  UTC\n",
       "H2O cluster version:        3.26.0.6\n",
       "H2O cluster version age:    16 days\n",
       "H2O cluster name:           H2O_from_python_ankur_85pcdc\n",
       "H2O cluster total nodes:    1\n",
       "H2O cluster free memory:    3.528 Gb\n",
       "H2O cluster total cores:    8\n",
       "H2O cluster allowed cores:  8\n",
       "H2O cluster status:         accepting new members, healthy\n",
       "H2O connection url:         http://127.0.0.1:54321\n",
       "H2O connection proxy:\n",
       "H2O internal security:      False\n",
       "H2O API Extensions:         Amazon S3, Algos, AutoML, Core V3, TargetEncoder, Core V4\n",
       "Python version:             3.7.3 final\n",
       "--------------------------  ---------------------------------------------------------"
      ]
     },
     "metadata": {},
     "output_type": "display_data"
    }
   ],
   "source": [
    "import h2o\n",
    "from h2o.automl import H2OAutoML\n",
    "h2o.init()"
   ]
  },
  {
   "cell_type": "code",
   "execution_count": null,
   "metadata": {
    "scrolled": false
   },
   "outputs": [
    {
     "name": "stdout",
     "output_type": "stream",
     "text": [
      "\n",
      "-------------------------------------------------------------------------------\n",
      "Demo of H2O's Generalized Linear Estimator.\n",
      "\n",
      "This demo uploads a dataset to h2o, parses it, and shows a description.\n",
      "Then it divides the dataset into training and test sets, builds a GLM\n",
      "from the training set, and makes predictions for the test set.\n",
      "Finally, default performance metrics are displayed.\n",
      "-------------------------------------------------------------------------------\n",
      "\n",
      ">>> # Connect to H2O\n",
      ">>> h2o.init()\n",
      "\n",
      "(press any key)"
     ]
    }
   ],
   "source": [
    "h2o.demo(\"glm\")"
   ]
  },
  {
   "cell_type": "code",
   "execution_count": 5,
   "metadata": {},
   "outputs": [
    {
     "name": "stdout",
     "output_type": "stream",
     "text": [
      "Data size: (43405, 65)\n"
     ]
    }
   ],
   "source": [
    "# concanetate all 5 years and preprocess same as earlier\n",
    "df = pd.concat([data1[0], data1[1], data1[2], data1[3], data1[4]])\n",
    "print(\"Data size:\", df.shape)\n",
    "cont_names = df.columns[:-1]\n",
    "df.rename(columns={'class':'target'}, inplace=True)\n",
    "df.replace({'target': b'1'}, int(1), inplace=True)\n",
    "df.replace({'target': b'0'}, int(0), inplace=True)\n",
    "df['Attr55'] = None\n",
    "\n",
    "# split again\n",
    "X_train, X_test, y_train, y_test = train_test_split(df[cont_names], df['target'], test_size=0.2, random_state=42)\n",
    "train = pd.concat([X_train, y_train], 1)\n",
    "test = pd.concat([X_test, y_test], 1)"
   ]
  },
  {
   "cell_type": "code",
   "execution_count": 6,
   "metadata": {},
   "outputs": [
    {
     "name": "stdout",
     "output_type": "stream",
     "text": [
      "Parse progress: |█████████████████████████████████████████████████████████| 100%\n"
     ]
    }
   ],
   "source": [
    "df = h2o.H2OFrame(train)"
   ]
  },
  {
   "cell_type": "code",
   "execution_count": 7,
   "metadata": {},
   "outputs": [],
   "source": [
    "df['target'] = df['target'].asfactor()\n",
    "y = \"target\"\n",
    "cont_names = cont_names.tolist()\n",
    "x = cont_names"
   ]
  },
  {
   "cell_type": "code",
   "execution_count": 8,
   "metadata": {},
   "outputs": [
    {
     "name": "stdout",
     "output_type": "stream",
     "text": [
      "AutoML progress: |████████████████████████████████████████████████████████| 100%\n"
     ]
    }
   ],
   "source": [
    "# max_runtime_secs= 3600, sort_metric='AUC'\n",
    "aml = H2OAutoML(max_runtime_secs= 3600*6, max_models=60, sort_metric='AUC')\n",
    "aml.train(x = x, y = y, training_frame = df)"
   ]
  },
  {
   "cell_type": "code",
   "execution_count": 9,
   "metadata": {},
   "outputs": [
    {
     "data": {
      "text/html": [
       "<table>\n",
       "<thead>\n",
       "<tr><th>model_id                                           </th><th style=\"text-align: right;\">     auc</th><th style=\"text-align: right;\">  logloss</th><th style=\"text-align: right;\">  mean_per_class_error</th><th style=\"text-align: right;\">    rmse</th><th style=\"text-align: right;\">      mse</th></tr>\n",
       "</thead>\n",
       "<tbody>\n",
       "<tr><td>StackedEnsemble_AllModels_AutoML_20191018_010439   </td><td style=\"text-align: right;\">0.948751</td><td style=\"text-align: right;\">0.0972429</td><td style=\"text-align: right;\">              0.216458</td><td style=\"text-align: right;\">0.154564</td><td style=\"text-align: right;\">0.02389  </td></tr>\n",
       "<tr><td>GBM_5_AutoML_20191018_010439                       </td><td style=\"text-align: right;\">0.946161</td><td style=\"text-align: right;\">0.0942537</td><td style=\"text-align: right;\">              0.215193</td><td style=\"text-align: right;\">0.158331</td><td style=\"text-align: right;\">0.0250687</td></tr>\n",
       "<tr><td>GBM_4_AutoML_20191018_010439                       </td><td style=\"text-align: right;\">0.946021</td><td style=\"text-align: right;\">0.0936558</td><td style=\"text-align: right;\">              0.215576</td><td style=\"text-align: right;\">0.156588</td><td style=\"text-align: right;\">0.0245199</td></tr>\n",
       "<tr><td>GBM_grid_1_AutoML_20191018_010439_model_1          </td><td style=\"text-align: right;\">0.944657</td><td style=\"text-align: right;\">0.0946913</td><td style=\"text-align: right;\">              0.215989</td><td style=\"text-align: right;\">0.156215</td><td style=\"text-align: right;\">0.0244031</td></tr>\n",
       "<tr><td>StackedEnsemble_BestOfFamily_AutoML_20191018_010439</td><td style=\"text-align: right;\">0.943432</td><td style=\"text-align: right;\">0.104968 </td><td style=\"text-align: right;\">              0.226863</td><td style=\"text-align: right;\">0.161392</td><td style=\"text-align: right;\">0.0260473</td></tr>\n",
       "<tr><td>GBM_grid_1_AutoML_20191018_010439_model_7          </td><td style=\"text-align: right;\">0.942182</td><td style=\"text-align: right;\">0.10055  </td><td style=\"text-align: right;\">              0.231349</td><td style=\"text-align: right;\">0.162314</td><td style=\"text-align: right;\">0.0263457</td></tr>\n",
       "<tr><td>GBM_3_AutoML_20191018_010439                       </td><td style=\"text-align: right;\">0.941153</td><td style=\"text-align: right;\">0.0943815</td><td style=\"text-align: right;\">              0.234808</td><td style=\"text-align: right;\">0.156434</td><td style=\"text-align: right;\">0.0244716</td></tr>\n",
       "<tr><td>GBM_grid_1_AutoML_20191018_010439_model_24         </td><td style=\"text-align: right;\">0.939322</td><td style=\"text-align: right;\">0.105565 </td><td style=\"text-align: right;\">              0.227787</td><td style=\"text-align: right;\">0.167913</td><td style=\"text-align: right;\">0.0281946</td></tr>\n",
       "<tr><td>GBM_grid_1_AutoML_20191018_010439_model_17         </td><td style=\"text-align: right;\">0.936824</td><td style=\"text-align: right;\">0.103113 </td><td style=\"text-align: right;\">              0.243774</td><td style=\"text-align: right;\">0.165732</td><td style=\"text-align: right;\">0.0274672</td></tr>\n",
       "<tr><td>GBM_2_AutoML_20191018_010439                       </td><td style=\"text-align: right;\">0.935992</td><td style=\"text-align: right;\">0.0976685</td><td style=\"text-align: right;\">              0.236548</td><td style=\"text-align: right;\">0.158774</td><td style=\"text-align: right;\">0.0252091</td></tr>\n",
       "<tr><td>GBM_grid_1_AutoML_20191018_010439_model_18         </td><td style=\"text-align: right;\">0.924321</td><td style=\"text-align: right;\">0.107451 </td><td style=\"text-align: right;\">              0.262395</td><td style=\"text-align: right;\">0.166388</td><td style=\"text-align: right;\">0.027685 </td></tr>\n",
       "<tr><td>GBM_grid_1_AutoML_20191018_010439_model_14         </td><td style=\"text-align: right;\">0.924148</td><td style=\"text-align: right;\">0.104833 </td><td style=\"text-align: right;\">              0.254957</td><td style=\"text-align: right;\">0.162949</td><td style=\"text-align: right;\">0.0265524</td></tr>\n",
       "<tr><td>GBM_1_AutoML_20191018_010439                       </td><td style=\"text-align: right;\">0.920535</td><td style=\"text-align: right;\">0.108111 </td><td style=\"text-align: right;\">              0.243346</td><td style=\"text-align: right;\">0.165551</td><td style=\"text-align: right;\">0.027407 </td></tr>\n",
       "<tr><td>GBM_grid_1_AutoML_20191018_010439_model_11         </td><td style=\"text-align: right;\">0.91675 </td><td style=\"text-align: right;\">0.11391  </td><td style=\"text-align: right;\">              0.266558</td><td style=\"text-align: right;\">0.171541</td><td style=\"text-align: right;\">0.0294264</td></tr>\n",
       "<tr><td>GBM_grid_1_AutoML_20191018_010439_model_21         </td><td style=\"text-align: right;\">0.91136 </td><td style=\"text-align: right;\">0.122688 </td><td style=\"text-align: right;\">              0.266753</td><td style=\"text-align: right;\">0.178509</td><td style=\"text-align: right;\">0.0318655</td></tr>\n",
       "<tr><td>GBM_grid_1_AutoML_20191018_010439_model_26         </td><td style=\"text-align: right;\">0.910763</td><td style=\"text-align: right;\">0.133259 </td><td style=\"text-align: right;\">              0.261291</td><td style=\"text-align: right;\">0.188245</td><td style=\"text-align: right;\">0.0354363</td></tr>\n",
       "<tr><td>GBM_grid_1_AutoML_20191018_010439_model_2          </td><td style=\"text-align: right;\">0.905486</td><td style=\"text-align: right;\">0.155071 </td><td style=\"text-align: right;\">              0.316114</td><td style=\"text-align: right;\">0.198876</td><td style=\"text-align: right;\">0.0395517</td></tr>\n",
       "<tr><td>GBM_grid_1_AutoML_20191018_010439_model_15         </td><td style=\"text-align: right;\">0.902005</td><td style=\"text-align: right;\">0.118664 </td><td style=\"text-align: right;\">              0.28579 </td><td style=\"text-align: right;\">0.173093</td><td style=\"text-align: right;\">0.0299612</td></tr>\n",
       "<tr><td>GBM_grid_1_AutoML_20191018_010439_model_6          </td><td style=\"text-align: right;\">0.897719</td><td style=\"text-align: right;\">0.134306 </td><td style=\"text-align: right;\">              0.305691</td><td style=\"text-align: right;\">0.187236</td><td style=\"text-align: right;\">0.0350574</td></tr>\n",
       "<tr><td>GBM_grid_1_AutoML_20191018_010439_model_4          </td><td style=\"text-align: right;\">0.88979 </td><td style=\"text-align: right;\">0.142817 </td><td style=\"text-align: right;\">              0.275585</td><td style=\"text-align: right;\">0.193568</td><td style=\"text-align: right;\">0.0374684</td></tr>\n",
       "<tr><td>GBM_grid_1_AutoML_20191018_010439_model_20         </td><td style=\"text-align: right;\">0.889086</td><td style=\"text-align: right;\">0.125334 </td><td style=\"text-align: right;\">              0.312457</td><td style=\"text-align: right;\">0.178092</td><td style=\"text-align: right;\">0.0317169</td></tr>\n",
       "<tr><td>XRT_1_AutoML_20191018_010439                       </td><td style=\"text-align: right;\">0.882363</td><td style=\"text-align: right;\">0.132751 </td><td style=\"text-align: right;\">              0.325001</td><td style=\"text-align: right;\">0.185164</td><td style=\"text-align: right;\">0.0342859</td></tr>\n",
       "<tr><td>GBM_grid_1_AutoML_20191018_010439_model_23         </td><td style=\"text-align: right;\">0.87959 </td><td style=\"text-align: right;\">0.130851 </td><td style=\"text-align: right;\">              0.309815</td><td style=\"text-align: right;\">0.180928</td><td style=\"text-align: right;\">0.0327348</td></tr>\n",
       "<tr><td>GBM_grid_1_AutoML_20191018_010439_model_12         </td><td style=\"text-align: right;\">0.879068</td><td style=\"text-align: right;\">0.168485 </td><td style=\"text-align: right;\">              0.325068</td><td style=\"text-align: right;\">0.205532</td><td style=\"text-align: right;\">0.0422433</td></tr>\n",
       "<tr><td>DRF_1_AutoML_20191018_010439                       </td><td style=\"text-align: right;\">0.878951</td><td style=\"text-align: right;\">0.134824 </td><td style=\"text-align: right;\">              0.333702</td><td style=\"text-align: right;\">0.187007</td><td style=\"text-align: right;\">0.0349717</td></tr>\n",
       "<tr><td>GBM_grid_1_AutoML_20191018_010439_model_5          </td><td style=\"text-align: right;\">0.876669</td><td style=\"text-align: right;\">0.142443 </td><td style=\"text-align: right;\">              0.319838</td><td style=\"text-align: right;\">0.192355</td><td style=\"text-align: right;\">0.0370004</td></tr>\n",
       "<tr><td>GBM_grid_1_AutoML_20191018_010439_model_9          </td><td style=\"text-align: right;\">0.865953</td><td style=\"text-align: right;\">0.179259 </td><td style=\"text-align: right;\">              0.290822</td><td style=\"text-align: right;\">0.209562</td><td style=\"text-align: right;\">0.0439163</td></tr>\n",
       "<tr><td>GBM_grid_1_AutoML_20191018_010439_model_3          </td><td style=\"text-align: right;\">0.86525 </td><td style=\"text-align: right;\">0.17553  </td><td style=\"text-align: right;\">              0.324683</td><td style=\"text-align: right;\">0.207969</td><td style=\"text-align: right;\">0.0432509</td></tr>\n",
       "<tr><td>GBM_grid_1_AutoML_20191018_010439_model_13         </td><td style=\"text-align: right;\">0.863122</td><td style=\"text-align: right;\">0.154038 </td><td style=\"text-align: right;\">              0.331081</td><td style=\"text-align: right;\">0.19934 </td><td style=\"text-align: right;\">0.0397365</td></tr>\n",
       "<tr><td>GBM_grid_1_AutoML_20191018_010439_model_19         </td><td style=\"text-align: right;\">0.855623</td><td style=\"text-align: right;\">0.1648   </td><td style=\"text-align: right;\">              0.321445</td><td style=\"text-align: right;\">0.196691</td><td style=\"text-align: right;\">0.0386873</td></tr>\n",
       "<tr><td>GBM_grid_1_AutoML_20191018_010439_model_10         </td><td style=\"text-align: right;\">0.844549</td><td style=\"text-align: right;\">0.155594 </td><td style=\"text-align: right;\">              0.321036</td><td style=\"text-align: right;\">0.19963 </td><td style=\"text-align: right;\">0.039852 </td></tr>\n",
       "<tr><td>GBM_grid_1_AutoML_20191018_010439_model_22         </td><td style=\"text-align: right;\">0.829956</td><td style=\"text-align: right;\">0.182629 </td><td style=\"text-align: right;\">              0.335396</td><td style=\"text-align: right;\">0.210514</td><td style=\"text-align: right;\">0.044316 </td></tr>\n",
       "<tr><td>GBM_grid_1_AutoML_20191018_010439_model_16         </td><td style=\"text-align: right;\">0.82308 </td><td style=\"text-align: right;\">0.181876 </td><td style=\"text-align: right;\">              0.357154</td><td style=\"text-align: right;\">0.210253</td><td style=\"text-align: right;\">0.0442065</td></tr>\n",
       "<tr><td>DeepLearning_grid_1_AutoML_20191018_010439_model_1 </td><td style=\"text-align: right;\">0.814355</td><td style=\"text-align: right;\">0.175703 </td><td style=\"text-align: right;\">              0.369604</td><td style=\"text-align: right;\">0.196201</td><td style=\"text-align: right;\">0.038495 </td></tr>\n",
       "<tr><td>DeepLearning_1_AutoML_20191018_010439              </td><td style=\"text-align: right;\">0.807011</td><td style=\"text-align: right;\">0.166803 </td><td style=\"text-align: right;\">              0.346331</td><td style=\"text-align: right;\">0.199365</td><td style=\"text-align: right;\">0.0397463</td></tr>\n",
       "<tr><td>GBM_grid_1_AutoML_20191018_010439_model_25         </td><td style=\"text-align: right;\">0.794918</td><td style=\"text-align: right;\">0.7468   </td><td style=\"text-align: right;\">              0.304263</td><td style=\"text-align: right;\">0.256174</td><td style=\"text-align: right;\">0.0656251</td></tr>\n",
       "<tr><td>GBM_grid_1_AutoML_20191018_010439_model_8          </td><td style=\"text-align: right;\">0.781634</td><td style=\"text-align: right;\">0.188762 </td><td style=\"text-align: right;\">              0.345668</td><td style=\"text-align: right;\">0.2122  </td><td style=\"text-align: right;\">0.0450287</td></tr>\n",
       "<tr><td>GLM_grid_1_AutoML_20191018_010439_model_1          </td><td style=\"text-align: right;\">0.578259</td><td style=\"text-align: right;\">0.189724 </td><td style=\"text-align: right;\">              0.451357</td><td style=\"text-align: right;\">0.212406</td><td style=\"text-align: right;\">0.0451164</td></tr>\n",
       "</tbody>\n",
       "</table>"
      ]
     },
     "metadata": {},
     "output_type": "display_data"
    },
    {
     "data": {
      "text/plain": []
     },
     "execution_count": 9,
     "metadata": {},
     "output_type": "execute_result"
    }
   ],
   "source": [
    "# entire leaderboard\n",
    "lb = aml.leaderboard\n",
    "lb.head(rows=lb.nrows) "
   ]
  },
  {
   "cell_type": "code",
   "execution_count": 10,
   "metadata": {},
   "outputs": [
    {
     "name": "stdout",
     "output_type": "stream",
     "text": [
      "Parse progress: |█████████████████████████████████████████████████████████| 100%\n",
      "stackedensemble prediction progress: |████████████████████████████████████| 100%\n"
     ]
    }
   ],
   "source": [
    "hf = h2o.H2OFrame(test)\n",
    "preds = aml.predict(hf)\n",
    "preds = preds.as_data_frame()\n",
    "preds['p_p0'] = np.exp(preds['p0'])\n",
    "preds['p_p1'] = np.exp(preds['p1'])\n",
    "preds['sm'] = preds['p_p1'] / (preds['p_p0'] + preds['p_p1'])"
   ]
  },
  {
   "cell_type": "code",
   "execution_count": 11,
   "metadata": {},
   "outputs": [
    {
     "data": {
      "text/plain": [
       "0.9500382515465734"
      ]
     },
     "execution_count": 11,
     "metadata": {},
     "output_type": "execute_result"
    }
   ],
   "source": [
    "from sklearn.metrics import roc_auc_score\n",
    "\n",
    "roc_auc_score(y_test, preds['sm'])"
   ]
  },
  {
   "cell_type": "markdown",
   "metadata": {},
   "source": [
    "### Conclusion (2):\n",
    "\n",
    "The H2O module being used has an AutoML workflow to automatically train and tune several models and provide us the statistical results. The workflow parameters were chosen as (max_runtime_secs= 3600* 6, max_models=60, sort_metric='AUC') to get these results. Like always, tuning this depends on the computer power but this shows a good idea."
   ]
  }
 ],
 "metadata": {
  "kernelspec": {
   "display_name": "Python 3",
   "language": "python",
   "name": "python3"
  },
  "language_info": {
   "codemirror_mode": {
    "name": "ipython",
    "version": 3
   },
   "file_extension": ".py",
   "mimetype": "text/x-python",
   "name": "python",
   "nbconvert_exporter": "python",
   "pygments_lexer": "ipython3",
   "version": "3.7.3"
  }
 },
 "nbformat": 4,
 "nbformat_minor": 2
}
